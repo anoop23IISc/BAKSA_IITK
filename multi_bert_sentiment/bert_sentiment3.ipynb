{
  "nbformat": 4,
  "nbformat_minor": 0,
  "metadata": {
    "colab": {
      "name": "bert_Sentiment2.ipynb",
      "provenance": [],
      "collapsed_sections": [],
      "toc_visible": true
    },
    "kernelspec": {
      "name": "python3",
      "display_name": "Python 3"
    },
    "accelerator": "GPU"
  },
  "cells": [
    {
      "cell_type": "code",
      "metadata": {
        "id": "5Kg3RKlSB1Ko",
        "colab_type": "code",
        "colab": {}
      },
      "source": [
        ""
      ],
      "execution_count": 0,
      "outputs": []
    },
    {
      "cell_type": "code",
      "metadata": {
        "id": "vdFQndZfC8XO",
        "colab_type": "code",
        "colab": {}
      },
      "source": [
        "# from google.colab import files\n",
        "# uploaded = files.upload()"
      ],
      "execution_count": 0,
      "outputs": []
    },
    {
      "cell_type": "code",
      "metadata": {
        "id": "q1xQ8j3PpN5m",
        "colab_type": "code",
        "outputId": "43b9ed43-efb2-4a5f-c64e-73459c3b0b76",
        "colab": {
          "base_uri": "https://localhost:8080/",
          "height": 125
        }
      },
      "source": [
        "from google.colab import drive\n",
        "drive.mount('/content/gdrive')  "
      ],
      "execution_count": 2,
      "outputs": [
        {
          "output_type": "stream",
          "text": [
            "Go to this URL in a browser: https://accounts.google.com/o/oauth2/auth?client_id=947318989803-6bn6qk8qdgf4n4g3pfee6491hc0brc4i.apps.googleusercontent.com&redirect_uri=urn%3aietf%3awg%3aoauth%3a2.0%3aoob&response_type=code&scope=email%20https%3a%2f%2fwww.googleapis.com%2fauth%2fdocs.test%20https%3a%2f%2fwww.googleapis.com%2fauth%2fdrive%20https%3a%2f%2fwww.googleapis.com%2fauth%2fdrive.photos.readonly%20https%3a%2f%2fwww.googleapis.com%2fauth%2fpeopleapi.readonly\n",
            "\n",
            "Enter your authorization code:\n",
            "··········\n",
            "Mounted at /content/gdrive\n"
          ],
          "name": "stdout"
        }
      ]
    },
    {
      "cell_type": "code",
      "metadata": {
        "id": "E0dKoOr_z_Xk",
        "colab_type": "code",
        "colab": {}
      },
      "source": [
        "# ! ls '/content/gdrive/My Drive/celeba/data/celeba/images' | wc -l"
      ],
      "execution_count": 0,
      "outputs": []
    },
    {
      "cell_type": "code",
      "metadata": {
        "id": "ZQQ6FkNcv-ae",
        "colab_type": "code",
        "colab": {}
      },
      "source": [
        "data_path = \"/content/gdrive/My Drive/nlp_project/english_hindi/\"\n",
        "train_name = \"train_new_demojise_large.txt\"\n",
        "validation_name = \"validation_new_demojise.txt\"\n",
        "model_save_name = \"hinglish_model_1layer_0.5dropout.txt\"\n",
        "\n",
        "# data_path = \"/content/gdrive/My Drive/nlp_project/spanglish/\"\n",
        "# train_name = \"spanglish_train_demojised.txt\"\n",
        "# validation_name = \"spanglish_validation_demojised.txt\"\n",
        "# model_save_name = \"spanglish_model.txt\"\n",
        "bert_model = \"bert-base-multilingual-uncased\""
      ],
      "execution_count": 0,
      "outputs": []
    },
    {
      "cell_type": "code",
      "metadata": {
        "id": "umCoNQaIJMk6",
        "colab_type": "code",
        "colab": {}
      },
      "source": [
        ""
      ],
      "execution_count": 0,
      "outputs": []
    },
    {
      "cell_type": "code",
      "metadata": {
        "id": "ThOo8L-9sU7n",
        "colab_type": "code",
        "colab": {}
      },
      "source": [
        "import sys\n",
        "sys.path.append(data_path)\n"
      ],
      "execution_count": 0,
      "outputs": []
    },
    {
      "cell_type": "code",
      "metadata": {
        "id": "0hebOrRmGWfj",
        "colab_type": "code",
        "outputId": "4e36dc76-41bd-4e2a-f855-7b0aa331ac7f",
        "colab": {
          "base_uri": "https://localhost:8080/",
          "height": 603
        }
      },
      "source": [
        "import torch\n",
        "\n",
        "import random\n",
        "import numpy as np\n",
        "\n",
        "SEED = 1234\n",
        "\n",
        "random.seed(SEED)\n",
        "np.random.seed(SEED)\n",
        "torch.manual_seed(SEED)\n",
        "torch.backends.cudnn.deterministic = True\n",
        "\n",
        "!pip install transformers"
      ],
      "execution_count": 7,
      "outputs": [
        {
          "output_type": "stream",
          "text": [
            "Collecting transformers\n",
            "\u001b[?25l  Downloading https://files.pythonhosted.org/packages/50/10/aeefced99c8a59d828a92cc11d213e2743212d3641c87c82d61b035a7d5c/transformers-2.3.0-py3-none-any.whl (447kB)\n",
            "\u001b[K     |████████████████████████████████| 450kB 3.5MB/s \n",
            "\u001b[?25hCollecting sacremoses\n",
            "\u001b[?25l  Downloading https://files.pythonhosted.org/packages/a6/b4/7a41d630547a4afd58143597d5a49e07bfd4c42914d8335b2a5657efc14b/sacremoses-0.0.38.tar.gz (860kB)\n",
            "\u001b[K     |████████████████████████████████| 870kB 16.6MB/s \n",
            "\u001b[?25hRequirement already satisfied: regex!=2019.12.17 in /usr/local/lib/python3.6/dist-packages (from transformers) (2019.12.20)\n",
            "Collecting sentencepiece\n",
            "\u001b[?25l  Downloading https://files.pythonhosted.org/packages/74/f4/2d5214cbf13d06e7cb2c20d84115ca25b53ea76fa1f0ade0e3c9749de214/sentencepiece-0.1.85-cp36-cp36m-manylinux1_x86_64.whl (1.0MB)\n",
            "\u001b[K     |████████████████████████████████| 1.0MB 22.3MB/s \n",
            "\u001b[?25hRequirement already satisfied: numpy in /usr/local/lib/python3.6/dist-packages (from transformers) (1.17.5)\n",
            "Requirement already satisfied: tqdm in /usr/local/lib/python3.6/dist-packages (from transformers) (4.28.1)\n",
            "Requirement already satisfied: boto3 in /usr/local/lib/python3.6/dist-packages (from transformers) (1.10.47)\n",
            "Requirement already satisfied: requests in /usr/local/lib/python3.6/dist-packages (from transformers) (2.21.0)\n",
            "Requirement already satisfied: six in /usr/local/lib/python3.6/dist-packages (from sacremoses->transformers) (1.12.0)\n",
            "Requirement already satisfied: click in /usr/local/lib/python3.6/dist-packages (from sacremoses->transformers) (7.0)\n",
            "Requirement already satisfied: joblib in /usr/local/lib/python3.6/dist-packages (from sacremoses->transformers) (0.14.1)\n",
            "Requirement already satisfied: s3transfer<0.3.0,>=0.2.0 in /usr/local/lib/python3.6/dist-packages (from boto3->transformers) (0.2.1)\n",
            "Requirement already satisfied: botocore<1.14.0,>=1.13.47 in /usr/local/lib/python3.6/dist-packages (from boto3->transformers) (1.13.47)\n",
            "Requirement already satisfied: jmespath<1.0.0,>=0.7.1 in /usr/local/lib/python3.6/dist-packages (from boto3->transformers) (0.9.4)\n",
            "Requirement already satisfied: certifi>=2017.4.17 in /usr/local/lib/python3.6/dist-packages (from requests->transformers) (2019.11.28)\n",
            "Requirement already satisfied: urllib3<1.25,>=1.21.1 in /usr/local/lib/python3.6/dist-packages (from requests->transformers) (1.24.3)\n",
            "Requirement already satisfied: chardet<3.1.0,>=3.0.2 in /usr/local/lib/python3.6/dist-packages (from requests->transformers) (3.0.4)\n",
            "Requirement already satisfied: idna<2.9,>=2.5 in /usr/local/lib/python3.6/dist-packages (from requests->transformers) (2.8)\n",
            "Requirement already satisfied: docutils<0.16,>=0.10 in /usr/local/lib/python3.6/dist-packages (from botocore<1.14.0,>=1.13.47->boto3->transformers) (0.15.2)\n",
            "Requirement already satisfied: python-dateutil<3.0.0,>=2.1; python_version >= \"2.7\" in /usr/local/lib/python3.6/dist-packages (from botocore<1.14.0,>=1.13.47->boto3->transformers) (2.6.1)\n",
            "Building wheels for collected packages: sacremoses\n",
            "  Building wheel for sacremoses (setup.py) ... \u001b[?25l\u001b[?25hdone\n",
            "  Created wheel for sacremoses: filename=sacremoses-0.0.38-cp36-none-any.whl size=884629 sha256=bd1da97504cb15a516d16edb97b85d4886cd4ec8c00006a8e7936eee243e8eca\n",
            "  Stored in directory: /root/.cache/pip/wheels/6d/ec/1a/21b8912e35e02741306f35f66c785f3afe94de754a0eaf1422\n",
            "Successfully built sacremoses\n",
            "Installing collected packages: sacremoses, sentencepiece, transformers\n",
            "Successfully installed sacremoses-0.0.38 sentencepiece-0.1.85 transformers-2.3.0\n"
          ],
          "name": "stdout"
        }
      ]
    },
    {
      "cell_type": "code",
      "metadata": {
        "id": "ao9CbNtzv5lF",
        "colab_type": "code",
        "colab": {}
      },
      "source": [
        ""
      ],
      "execution_count": 0,
      "outputs": []
    },
    {
      "cell_type": "code",
      "metadata": {
        "id": "JzN9lV1ZGhY2",
        "colab_type": "code",
        "outputId": "7ca2ca2e-d023-40de-c3ad-02a781750c3f",
        "colab": {
          "base_uri": "https://localhost:8080/",
          "height": 63
        }
      },
      "source": [
        "from transformers import BertTokenizer\n",
        "\n",
        "tokenizer = BertTokenizer.from_pretrained(bert_model)"
      ],
      "execution_count": 8,
      "outputs": [
        {
          "output_type": "display_data",
          "data": {
            "text/html": [
              "<p style=\"color: red;\">\n",
              "The default version of TensorFlow in Colab will soon switch to TensorFlow 2.x.<br>\n",
              "We recommend you <a href=\"https://www.tensorflow.org/guide/migrate\" target=\"_blank\">upgrade</a> now \n",
              "or ensure your notebook will continue to use TensorFlow 1.x via the <code>%tensorflow_version 1.x</code> magic:\n",
              "<a href=\"https://colab.research.google.com/notebooks/tensorflow_version.ipynb\" target=\"_blank\">more info</a>.</p>\n"
            ],
            "text/plain": [
              "<IPython.core.display.HTML object>"
            ]
          },
          "metadata": {
            "tags": []
          }
        }
      ]
    },
    {
      "cell_type": "code",
      "metadata": {
        "id": "YriUeQu3G47w",
        "colab_type": "code",
        "outputId": "09c1e075-7f5e-4af2-bb01-aab165249354",
        "colab": {
          "base_uri": "https://localhost:8080/",
          "height": 52
        }
      },
      "source": [
        "len(tokenizer.vocab)\n",
        "tokens = tokenizer.tokenize('how ARE you ')\n",
        "\n",
        "print(tokens)\n",
        "indexes = tokenizer.convert_tokens_to_ids(tokens)\n",
        "\n",
        "print(indexes)\n"
      ],
      "execution_count": 9,
      "outputs": [
        {
          "output_type": "stream",
          "text": [
            "['how', 'are', 'you']\n",
            "[12548, 10320, 10855]\n"
          ],
          "name": "stdout"
        }
      ]
    },
    {
      "cell_type": "code",
      "metadata": {
        "id": "-_lDr2XzHEuN",
        "colab_type": "code",
        "outputId": "73162dcb-6a43-4d5d-f679-1c38ffc36b8c",
        "colab": {
          "base_uri": "https://localhost:8080/",
          "height": 105
        }
      },
      "source": [
        "init_token = tokenizer.cls_token\n",
        "eos_token = tokenizer.sep_token\n",
        "pad_token = tokenizer.pad_token\n",
        "unk_token = tokenizer.unk_token\n",
        "\n",
        "print(init_token, eos_token, pad_token, unk_token)\n",
        "\n",
        "\n",
        "# We can get the indexes of the special tokens by converting them using the vocabulary...\n",
        "\n",
        "# In[7]:\n",
        "\n",
        "\n",
        "init_token_idx = tokenizer.convert_tokens_to_ids(init_token)\n",
        "eos_token_idx = tokenizer.convert_tokens_to_ids(eos_token)\n",
        "pad_token_idx = tokenizer.convert_tokens_to_ids(pad_token)\n",
        "unk_token_idx = tokenizer.convert_tokens_to_ids(unk_token)\n",
        "\n",
        "print(init_token_idx, eos_token_idx, pad_token_idx, unk_token_idx)\n",
        "\n",
        "\n",
        "# ...or by explicitly getting them from the tokenizer.\n",
        "\n",
        "# In[8]:\n",
        "\n",
        "\n",
        "init_token_idx = tokenizer.cls_token_id\n",
        "eos_token_idx = tokenizer.sep_token_id\n",
        "pad_token_idx = tokenizer.pad_token_id\n",
        "unk_token_idx = tokenizer.unk_token_id\n",
        "\n",
        "print(init_token_idx, eos_token_idx, pad_token_idx, unk_token_idx)\n",
        "\n",
        "\n",
        "# Another thing we need to handle is that the model was trained on sequences with a defined maximum length - it does not know how to handle sequences longer than it has been trained on. We can get the maximum length of these input sizes by checking the `max_model_input_sizes` for the version of the transformer we want to use. In this case, it is 512 tokens.\n",
        "\n",
        "# In[9]:\n",
        "\n",
        "\n",
        "max_input_length = tokenizer.max_model_input_sizes[bert_model]\n",
        "\n",
        "print(max_input_length)\n",
        "\n",
        "\n",
        "# Previously we have used the `spaCy` tokenizer to tokenize our examples. However we now need to define a function that we will pass to our `TEXT` field that will handle all the tokenization for us. It will also cut down the number of tokens to a maximum length. Note that our maximum length is 2 less than the actual maximum length. This is because we need to append two tokens to each sequence, one to the start and one to the end.\n",
        "\n",
        "# In[10]:\n",
        "\n",
        "\n",
        "def tokenize_and_cut(sentence):\n",
        "    tokens = tokenizer.tokenize(sentence) \n",
        "    tokens = tokens[:max_input_length-2]\n",
        "    return tokens\n",
        "\n",
        "\n",
        "# Now we define our fields. The transformer expects the batch dimension to be first, so we set `batch_first = True`. As we already have the vocabulary for our text, provided by the transformer we set `use_vocab = False` to tell torchtext that we'll be handling the vocabulary side of things. We pass our `tokenize_and_cut` function as the tokenizer. The `preprocessing` argument is a function that takes in the example after it has been tokenized, this is where we will convert the tokens to their indexes. Finally, we define the special tokens - making note that we are defining them to be their index value and not their string value, i.e. `100` instead of `[UNK]` This is because the sequences will already be converted into indexes.\n",
        "# \n",
        "# We define the label field as before.\n",
        "\n",
        "# In[87]:\n",
        "\n",
        "\n",
        "from torchtext import data\n",
        "data"
      ],
      "execution_count": 10,
      "outputs": [
        {
          "output_type": "stream",
          "text": [
            "[CLS] [SEP] [PAD] [UNK]\n",
            "101 102 0 100\n",
            "101 102 0 100\n",
            "512\n"
          ],
          "name": "stdout"
        },
        {
          "output_type": "execute_result",
          "data": {
            "text/plain": [
              "<module 'torchtext.data' from '/usr/local/lib/python3.6/dist-packages/torchtext/data/__init__.py'>"
            ]
          },
          "metadata": {
            "tags": []
          },
          "execution_count": 10
        }
      ]
    },
    {
      "cell_type": "code",
      "metadata": {
        "id": "unFFscF5GkpA",
        "colab_type": "code",
        "colab": {}
      },
      "source": [
        "UID = data.Field(sequential=False, use_vocab=False, pad_token=None)\n",
        "TEXT = data.Field(batch_first = True,\n",
        "                  use_vocab = False,\n",
        "                  tokenize = tokenize_and_cut,\n",
        "                  preprocessing = tokenizer.convert_tokens_to_ids,\n",
        "                  init_token = init_token_idx,\n",
        "                  eos_token = eos_token_idx,\n",
        "                  pad_token = pad_token_idx,\n",
        "                  unk_token = unk_token_idx)\n",
        "\n",
        "LABEL = data.LabelField()\n",
        "\n",
        "# We load the data and create the validation splits as before.\n",
        "\n",
        "# In[89]:\n",
        "\n",
        "\n",
        "# from torchtext import datasets\n",
        "# fields = {'uid':('uid',UID),'text': ('text', TEXT), 'label': ('label', LABEL) }\n",
        "fields = [('uid',UID),('text', TEXT),('label', LABEL)]\n",
        "train_data, test_data = data.TabularDataset.splits(\n",
        "                                        path = data_path,\n",
        "                                        train = train_name,\n",
        "                                        test = validation_name,\n",
        "                                        format = 'tsv',\n",
        "                                        fields = fields,\n",
        "                                        skip_header = True\n",
        ")\n",
        "# train_data, test_data = datasets.IMDB.splits(TEXT, LABEL)\n",
        "# valid_data = train_data\n",
        "train_data, valid_data = train_data.split(0.8,random_state = random.seed(SEED))\n",
        "\n",
        "\n",
        "# In[90]:\n",
        "\n",
        "\n",
        "# print(vars(train_data[1]))\n",
        "# print(tokenizer.convert_ids_to_tokens(vars(test_data[331])))\n"
      ],
      "execution_count": 0,
      "outputs": []
    },
    {
      "cell_type": "code",
      "metadata": {
        "id": "9RPojeXKb1FC",
        "colab_type": "code",
        "colab": {}
      },
      "source": [
        "# for i in range(len(train_data)):\n",
        "#   try:\n",
        "#     x = (vars(train_data[i])['uid'],vars(train_data[i])['label'],vars(train_data[i])['text'])\n",
        "#   except:\n",
        "#     x = print(vars(train_data[i])['uid'],tokenizer.convert_ids_to_tokens(vars(train_data[i])['text']))\n",
        "\n",
        "# for i in range(len(test_data)):\n",
        "#   try:\n",
        "#     x = print(vars(train_data[i])['uid'],vars(train_data[i])['label'],vars(train_data[i])['text'])\n",
        "#   except:\n",
        "#     x = print(vars(train_data[i])['uid'],tokenizer.convert_ids_to_tokens(vars(train_data[i])['text']))\n",
        "\n",
        "# for i in range(len(valid_data)):\n",
        "#   try:\n",
        "#     x = (vars(train_data[i])['uid'],vars(train_data[i])['label'],vars(train_data[i])['text'])\n",
        "#   except:\n",
        "#     x = print(vars(train_data[i])['uid'],tokenizer.convert_ids_to_tokens(vars(train_data[i])['text']))"
      ],
      "execution_count": 0,
      "outputs": []
    },
    {
      "cell_type": "code",
      "metadata": {
        "id": "RMy50hu2HQKe",
        "colab_type": "code",
        "outputId": "4b092062-2b34-4b65-e986-71a62f2c009b",
        "colab": {
          "base_uri": "https://localhost:8080/",
          "height": 178
        }
      },
      "source": [
        "print(f\"Number of training examples: {len(train_data)}\")\n",
        "print(f\"Number of validation examples: {len(valid_data)}\")\n",
        "print(f\"Number of testing examples: {len(test_data)}\")\n",
        "\n",
        "\n",
        "# We can check an example and ensure that the text has already been numericalized.\n",
        "\n",
        "# In[92]:\n",
        "\n",
        "\n",
        "# print(vars(train_data.examples[0])['label'])\n",
        "print(vars(train_data.examples[1]))\n",
        "print(vars(train_data.examples[2]))\n",
        "\n",
        "\n",
        "\n",
        "# We can use the `convert_ids_to_tokens` to transform these indexes back into readable tokens.\n",
        "\n",
        "# In[93]:\n",
        "\n",
        "\n",
        "tokens = tokenizer.convert_ids_to_tokens(vars(train_data.examples[0])['text'])\n",
        "\n",
        "print(tokens)\n",
        "\n",
        "\n",
        "# Although we've handled the vocabulary for the text, we still need to build the vocabulary for the labels.\n",
        "\n",
        "# In[94]:\n",
        "\n",
        "UID.build_vocab(train_data)\n",
        "LABEL.build_vocab(train_data)\n",
        "\n",
        "\n",
        "# In[95]:\n",
        "\n",
        "\n",
        "print(LABEL.vocab.stoi)\n",
        "print(UID.vocab.stoi)\n",
        "\n",
        "# As before, we create the iterators. Ideally we want to use the largest batch size that we can as I've found this gives the best results for transformers.\n",
        "\n",
        "# In[96]:\n",
        "\n",
        "\n",
        "BATCH_SIZE = 128\n",
        "\n",
        "device = torch.device('cuda' if torch.cuda.is_available() else 'cpu')\n"
      ],
      "execution_count": 13,
      "outputs": [
        {
          "output_type": "stream",
          "text": [
            "Number of training examples: 14303\n",
            "Number of validation examples: 3576\n",
            "Number of testing examples: 3000\n",
            "{'uid': '17763', 'text': [91078, 10167, 55967, 10900, 59576, 11655, 14903, 10112, 65054, 10111, 90248, 18478], 'label': '0'}\n",
            "{'uid': '40753', 'text': [16623, 29068, 32314, 22581, 62459, 10116, 16623, 29068, 32314, 18369, 10131, 17612, 11406, 65411, 12912, 32314, 12013, 10518, 10900, 12314, 11561, 11038, 10416, 21185, 11742, 11448, 65411, 119, 119, 10953, 10104, 16729, 10115, 10128], 'label': '1'}\n",
            "['abe', 'maji', '##d', 'se', 'chap', '##al', 'chor', '##i', 'nahi', 'hot', '##i', 'jis', '##e', 'jar', '##urt', 'hot', '##i', 'he', 'wo', 'lek', '##ar', 'ja', '##ta', 'he']\n",
            "defaultdict(<function _default_unk_index at 0x7f38b4f1c620>, {'1': 0, '2': 1, '0': 2})\n",
            "defaultdict(<function _default_unk_index at 0x7f38b4f1c620>, {'<unk>': 0, '1002': 1, '10020': 2, '1003': 3, '1004': 4, '10043': 5, '10045': 6, '1005': 7, '10057': 8, '10071': 9, '10074': 10, '10075': 11, '10079': 12, '10089': 13, '10090': 14, '10093': 15, '10096': 16, '10099': 17, '10105': 18, '10106': 19, '10108': 20, '10110': 21, '10119': 22, '10124': 23, '1013': 24, '10145': 25, '10156': 26, '10157': 27, '10166': 28, '10169': 29, '10171': 30, '10173': 31, '10179': 32, '1018': 33, '10182': 34, '10184': 35, '10190': 36, '10192': 37, '10195': 38, '10209': 39, '1022': 40, '10225': 41, '10226': 42, '10227': 43, '1023': 44, '10245': 45, '10247': 46, '10252': 47, '10255': 48, '10264': 49, '10268': 50, '1027': 51, '10276': 52, '1028': 53, '10287': 54, '1029': 55, '10293': 56, '10295': 57, '10296': 58, '10299': 59, '1030': 60, '10301': 61, '10314': 62, '10320': 63, '1034': 64, '10341': 65, '10344': 66, '10370': 67, '10375': 68, '10378': 69, '10384': 70, '10390': 71, '10391': 72, '10393': 73, '10395': 74, '10396': 75, '104': 76, '10400': 77, '10405': 78, '10408': 79, '10410': 80, '10417': 81, '10422': 82, '10430': 83, '10432': 84, '10435': 85, '10440': 86, '10446': 87, '10451': 88, '10455': 89, '10456': 90, '10458': 91, '10459': 92, '1046': 93, '10474': 94, '1048': 95, '10489': 96, '10496': 97, '10505': 98, '1051': 99, '10515': 100, '10516': 101, '10522': 102, '10537': 103, '10538': 104, '1054': 105, '10543': 106, '10546': 107, '1055': 108, '10559': 109, '10560': 110, '10570': 111, '10571': 112, '10573': 113, '10576': 114, '10581': 115, '10584': 116, '10589': 117, '106': 118, '10610': 119, '10614': 120, '10615': 121, '10618': 122, '10624': 123, '10625': 124, '10634': 125, '10637': 126, '1064': 127, '10640': 128, '10642': 129, '10644': 130, '10648': 131, '10652': 132, '10653': 133, '10660': 134, '10664': 135, '10667': 136, '10671': 137, '1068': 138, '10681': 139, '1069': 140, '107': 141, '10701': 142, '10707': 143, '10710': 144, '10715': 145, '10716': 146, '1073': 147, '10730': 148, '10732': 149, '10733': 150, '10737': 151, '10738': 152, '10742': 153, '10743': 154, '10755': 155, '10758': 156, '10764': 157, '10769': 158, '1077': 159, '10771': 160, '10779': 161, '10787': 162, '10788': 163, '1079': 164, '10792': 165, '10793': 166, '10797': 167, '10806': 168, '10809': 169, '10818': 170, '10823': 171, '10824': 172, '10825': 173, '10830': 174, '10832': 175, '10833': 176, '10834': 177, '10835': 178, '10837': 179, '10842': 180, '10845': 181, '10848': 182, '10850': 183, '10858': 184, '10860': 185, '10861': 186, '10864': 187, '1087': 188, '10874': 189, '10883': 190, '10888': 191, '10889': 192, '10902': 193, '10903': 194, '10904': 195, '10907': 196, '10913': 197, '1092': 198, '1093': 199, '10931': 200, '10937': 201, '10940': 202, '10942': 203, '10944': 204, '10953': 205, '10956': 206, '10960': 207, '10975': 208, '10979': 209, '1098': 210, '10985': 211, '1099': 212, '10990': 213, '10997': 214, '11003': 215, '11010': 216, '11017': 217, '11019': 218, '1102': 219, '11023': 220, '1103': 221, '11038': 222, '11040': 223, '11043': 224, '11044': 225, '11045': 226, '11049': 227, '11052': 228, '11053': 229, '11054': 230, '11055': 231, '11057': 232, '1106': 233, '11069': 234, '1107': 235, '11075': 236, '11076': 237, '11080': 238, '11082': 239, '11084': 240, '1109': 241, '11093': 242, '11094': 243, '11096': 244, '11098': 245, '1110': 246, '11100': 247, '1111': 248, '11116': 249, '11119': 250, '1112': 251, '11133': 252, '11136': 253, '11148': 254, '1115': 255, '11155': 256, '11156': 257, '11159': 258, '11162': 259, '11164': 260, '11178': 261, '11179': 262, '11194': 263, '11196': 264, '11199': 265, '11205': 266, '11206': 267, '11221': 268, '11229': 269, '11237': 270, '11245': 271, '11259': 272, '1126': 273, '11263': 274, '11268': 275, '11274': 276, '11276': 277, '1128': 278, '11280': 279, '11286': 280, '11287': 281, '11289': 282, '1129': 283, '11293': 284, '11294': 285, '11297': 286, '1130': 287, '11303': 288, '11304': 289, '11310': 290, '1132': 291, '11339': 292, '11340': 293, '11344': 294, '11345': 295, '11346': 296, '11347': 297, '11349': 298, '11355': 299, '1136': 300, '11360': 301, '11361': 302, '11363': 303, '11364': 304, '11370': 305, '11373': 306, '11375': 307, '11378': 308, '11382': 309, '11404': 310, '11408': 311, '11419': 312, '11420': 313, '11431': 314, '11438': 315, '11440': 316, '11447': 317, '11456': 318, '11465': 319, '11472': 320, '11476': 321, '11477': 322, '11481': 323, '11488': 324, '1150': 325, '11500': 326, '11507': 327, '11520': 328, '11522': 329, '11528': 330, '1153': 331, '11544': 332, '11545': 333, '11562': 334, '11567': 335, '11569': 336, '11570': 337, '11582': 338, '11583': 339, '11604': 340, '11618': 341, '11620': 342, '11622': 343, '1164': 344, '11645': 345, '11646': 346, '1165': 347, '11653': 348, '1166': 349, '11667': 350, '1167': 351, '11673': 352, '11674': 353, '11678': 354, '1168': 355, '11683': 356, '1169': 357, '11697': 358, '11704': 359, '11709': 360, '11712': 361, '11717': 362, '11728': 363, '1173': 364, '11730': 365, '11731': 366, '11733': 367, '11734': 368, '11735': 369, '11736': 370, '11737': 371, '11743': 372, '11744': 373, '11746': 374, '11748': 375, '1175': 376, '11752': 377, '11758': 378, '11763': 379, '1177': 380, '11771': 381, '11778': 382, '11788': 383, '11798': 384, '1180': 385, '11814': 386, '11816': 387, '1182': 388, '11822': 389, '11829': 390, '11833': 391, '11841': 392, '11846': 393, '11847': 394, '11848': 395, '11849': 396, '11851': 397, '11854': 398, '11855': 399, '11858': 400, '11860': 401, '11869': 402, '11874': 403, '11882': 404, '11894': 405, '11898': 406, '119': 407, '11903': 408, '11911': 409, '11919': 410, '1192': 411, '11920': 412, '11930': 413, '11931': 414, '11934': 415, '11938': 416, '11940': 417, '11941': 418, '11943': 419, '11946': 420, '11951': 421, '11962': 422, '11966': 423, '11978': 424, '11982': 425, '11988': 426, '11990': 427, '11996': 428, '11997': 429, '11998': 430, '12002': 431, '12014': 432, '1202': 433, '12039': 434, '12045': 435, '12054': 436, '12068': 437, '12080': 438, '12081': 439, '12082': 440, '12086': 441, '12090': 442, '12092': 443, '121': 444, '12112': 445, '12115': 446, '1213': 447, '12135': 448, '12139': 449, '12142': 450, '12145': 451, '12149': 452, '12151': 453, '12153': 454, '12159': 455, '12163': 456, '12167': 457, '12168': 458, '1217': 459, '1218': 460, '12188': 461, '12190': 462, '12194': 463, '12197': 464, '12204': 465, '12213': 466, '12216': 467, '12218': 468, '12223': 469, '12224': 470, '12228': 471, '12231': 472, '12238': 473, '12240': 474, '12241': 475, '12245': 476, '12254': 477, '12257': 478, '12260': 479, '12271': 480, '12290': 481, '12291': 482, '12297': 483, '12306': 484, '12312': 485, '12315': 486, '1232': 487, '12323': 488, '12328': 489, '12331': 490, '12334': 491, '12337': 492, '12339': 493, '1234': 494, '12341': 495, '12346': 496, '12352': 497, '12357': 498, '12359': 499, '12363': 500, '12365': 501, '12374': 502, '12377': 503, '12380': 504, '12385': 505, '12390': 506, '12405': 507, '12416': 508, '12417': 509, '12419': 510, '12433': 511, '12439': 512, '12441': 513, '12443': 514, '12445': 515, '12448': 516, '1245': 517, '12455': 518, '12460': 519, '12461': 520, '12468': 521, '12474': 522, '12482': 523, '12485': 524, '12489': 525, '1249': 526, '12495': 527, '12497': 528, '12498': 529, '12500': 530, '12501': 531, '12503': 532, '1251': 533, '12512': 534, '12515': 535, '12518': 536, '12519': 537, '1252': 538, '12520': 539, '12521': 540, '12522': 541, '12523': 542, '12526': 543, '12545': 544, '12546': 545, '12547': 546, '12550': 547, '12552': 548, '12555': 549, '12556': 550, '12565': 551, '12569': 552, '1257': 553, '12575': 554, '12577': 555, '12579': 556, '12581': 557, '12585': 558, '12591': 559, '12592': 560, '12593': 561, '12595': 562, '12597': 563, '12600': 564, '12608': 565, '12610': 566, '12612': 567, '12614': 568, '12616': 569, '12617': 570, '12618': 571, '1262': 572, '12620': 573, '12624': 574, '12627': 575, '12628': 576, '12631': 577, '12633': 578, '12634': 579, '12638': 580, '12641': 581, '12642': 582, '12643': 583, '12648': 584, '12649': 585, '12650': 586, '12659': 587, '12662': 588, '12668': 589, '12669': 590, '12671': 591, '12673': 592, '12674': 593, '12676': 594, '12677': 595, '12681': 596, '12685': 597, '12699': 598, '1270': 599, '12701': 600, '12702': 601, '12708': 602, '12711': 603, '12712': 604, '12714': 605, '12716': 606, '12717': 607, '12718': 608, '12721': 609, '12723': 610, '12725': 611, '12730': 612, '12733': 613, '12736': 614, '12739': 615, '12744': 616, '12745': 617, '12746': 618, '12747': 619, '1275': 620, '12750': 621, '12751': 622, '12757': 623, '12758': 624, '1276': 625, '12761': 626, '12766': 627, '12774': 628, '12775': 629, '12778': 630, '12781': 631, '12785': 632, '12786': 633, '12787': 634, '12791': 635, '12792': 636, '12793': 637, '12794': 638, '12795': 639, '12796': 640, '12797': 641, '12798': 642, '128': 643, '12800': 644, '12801': 645, '12804': 646, '12813': 647, '12817': 648, '12820': 649, '12822': 650, '12823': 651, '12833': 652, '12836': 653, '12841': 654, '12843': 655, '12848': 656, '12851': 657, '12852': 658, '12853': 659, '12858': 660, '12860': 661, '12861': 662, '12863': 663, '12864': 664, '12866': 665, '12869': 666, '12871': 667, '12874': 668, '12878': 669, '12879': 670, '12883': 671, '12885': 672, '12886': 673, '12888': 674, '12889': 675, '12890': 676, '12893': 677, '12894': 678, '12896': 679, '12897': 680, '12898': 681, '12902': 682, '12911': 683, '12913': 684, '12922': 685, '12924': 686, '12925': 687, '12930': 688, '12931': 689, '12932': 690, '12934': 691, '12936': 692, '12937': 693, '1294': 694, '12943': 695, '12946': 696, '12948': 697, '12949': 698, '12952': 699, '12953': 700, '12954': 701, '12961': 702, '12965': 703, '12969': 704, '12970': 705, '12974': 706, '12981': 707, '12984': 708, '12985': 709, '12988': 710, '12993': 711, '12995': 712, '1300': 713, '13001': 714, '13002': 715, '13004': 716, '13005': 717, '13009': 718, '1301': 719, '13012': 720, '13014': 721, '13015': 722, '13016': 723, '13017': 724, '13018': 725, '13022': 726, '13024': 727, '13025': 728, '13026': 729, '13028': 730, '13029': 731, '13031': 732, '13034': 733, '13035': 734, '13039': 735, '13040': 736, '13041': 737, '13044': 738, '13047': 739, '13049': 740, '13050': 741, '13051': 742, '13052': 743, '13053': 744, '13054': 745, '13055': 746, '13057': 747, '1306': 748, '13060': 749, '13061': 750, '13062': 751, '13065': 752, '13066': 753, '13068': 754, '13069': 755, '13070': 756, '13073': 757, '13074': 758, '13075': 759, '13079': 760, '13080': 761, '13083': 762, '13084': 763, '13087': 764, '13088': 765, '13089': 766, '13090': 767, '13091': 768, '13092': 769, '13094': 770, '13095': 771, '13098': 772, '13100': 773, '13105': 774, '13107': 775, '13109': 776, '13111': 777, '13120': 778, '13121': 779, '13123': 780, '13124': 781, '13127': 782, '13129': 783, '1313': 784, '13130': 785, '13133': 786, '13134': 787, '13135': 788, '13147': 789, '13149': 790, '13152': 791, '13153': 792, '13154': 793, '13155': 794, '13156': 795, '13158': 796, '13159': 797, '13164': 798, '13165': 799, '13166': 800, '13167': 801, '13170': 802, '13174': 803, '13181': 804, '13184': 805, '13186': 806, '13187': 807, '13188': 808, '13189': 809, '13190': 810, '13194': 811, '13196': 812, '13198': 813, '13199': 814, '1320': 815, '13200': 816, '13202': 817, '13203': 818, '13205': 819, '13209': 820, '13210': 821, '13213': 822, '13215': 823, '1322': 824, '13221': 825, '13222': 826, '13224': 827, '13225': 828, '13226': 829, '1323': 830, '13234': 831, '13237': 832, '13239': 833, '13240': 834, '13241': 835, '13242': 836, '13244': 837, '13245': 838, '13246': 839, '13248': 840, '13249': 841, '13253': 842, '13254': 843, '13255': 844, '13262': 845, '13267': 846, '13268': 847, '13275': 848, '13288': 849, '13289': 850, '13290': 851, '13293': 852, '13294': 853, '13295': 854, '13296': 855, '13297': 856, '13300': 857, '13301': 858, '13306': 859, '13319': 860, '13320': 861, '13329': 862, '13331': 863, '13332': 864, '13333': 865, '13334': 866, '13337': 867, '13339': 868, '13344': 869, '13346': 870, '13347': 871, '13349': 872, '1335': 873, '13353': 874, '13354': 875, '13357': 876, '13358': 877, '13360': 878, '13362': 879, '13365': 880, '13366': 881, '13374': 882, '13377': 883, '13379': 884, '13385': 885, '13386': 886, '13387': 887, '13388': 888, '13389': 889, '13391': 890, '13393': 891, '13396': 892, '13399': 893, '134': 894, '13401': 895, '13404': 896, '13405': 897, '13408': 898, '13410': 899, '13417': 900, '13419': 901, '13421': 902, '13423': 903, '13426': 904, '13428': 905, '13430': 906, '13432': 907, '13437': 908, '1344': 909, '13441': 910, '13445': 911, '13447': 912, '13449': 913, '13451': 914, '13454': 915, '13459': 916, '13460': 917, '13461': 918, '13462': 919, '13463': 920, '13472': 921, '13474': 922, '13475': 923, '13476': 924, '13479': 925, '1348': 926, '13485': 927, '13486': 928, '13488': 929, '13490': 930, '13491': 931, '13492': 932, '13494': 933, '13496': 934, '13503': 935, '13504': 936, '13506': 937, '13508': 938, '13509': 939, '13511': 940, '13512': 941, '13513': 942, '13516': 943, '13526': 944, '13527': 945, '13528': 946, '1353': 947, '13531': 948, '13534': 949, '13536': 950, '13537': 951, '13538': 952, '13540': 953, '13542': 954, '13547': 955, '13549': 956, '13553': 957, '13554': 958, '13558': 959, '13561': 960, '13562': 961, '13563': 962, '13566': 963, '13568': 964, '13569': 965, '13571': 966, '13574': 967, '13577': 968, '13578': 969, '13581': 970, '13587': 971, '13588': 972, '1359': 973, '13593': 974, '13601': 975, '13607': 976, '13610': 977, '13614': 978, '13615': 979, '13616': 980, '13618': 981, '13620': 982, '13622': 983, '13624': 984, '13625': 985, '13626': 986, '13629': 987, '1363': 988, '13630': 989, '13631': 990, '13636': 991, '13644': 992, '13646': 993, '13647': 994, '13648': 995, '13652': 996, '13653': 997, '13654': 998, '13655': 999, '13658': 1000, '13659': 1001, '1366': 1002, '13664': 1003, '13666': 1004, '13667': 1005, '1367': 1006, '13670': 1007, '13674': 1008, '13675': 1009, '13676': 1010, '13679': 1011, '13681': 1012, '13684': 1013, '13687': 1014, '13688': 1015, '13693': 1016, '13699': 1017, '1370': 1018, '13700': 1019, '13702': 1020, '13704': 1021, '13705': 1022, '13714': 1023, '13716': 1024, '13718': 1025, '13721': 1026, '13724': 1027, '13726': 1028, '13728': 1029, '1373': 1030, '13732': 1031, '13737': 1032, '13741': 1033, '13745': 1034, '13746': 1035, '13747': 1036, '13748': 1037, '13751': 1038, '13757': 1039, '1376': 1040, '13765': 1041, '13767': 1042, '13779': 1043, '13782': 1044, '13786': 1045, '13789': 1046, '1379': 1047, '13790': 1048, '13791': 1049, '13793': 1050, '13794': 1051, '13796': 1052, '13798': 1053, '13801': 1054, '13803': 1055, '13804': 1056, '13811': 1057, '13812': 1058, '13814': 1059, '13820': 1060, '13821': 1061, '13825': 1062, '13827': 1063, '13828': 1064, '13832': 1065, '13834': 1066, '13835': 1067, '13836': 1068, '13837': 1069, '13839': 1070, '13845': 1071, '13847': 1072, '13850': 1073, '13851': 1074, '13853': 1075, '13855': 1076, '13856': 1077, '13857': 1078, '13858': 1079, '13865': 1080, '13866': 1081, '13868': 1082, '13870': 1083, '13871': 1084, '13872': 1085, '13875': 1086, '13878': 1087, '13880': 1088, '13881': 1089, '13882': 1090, '13886': 1091, '13887': 1092, '13888': 1093, '1389': 1094, '13890': 1095, '13892': 1096, '13895': 1097, '13898': 1098, '13899': 1099, '13900': 1100, '13902': 1101, '13903': 1102, '13905': 1103, '13911': 1104, '13912': 1105, '13914': 1106, '13915': 1107, '13917': 1108, '13919': 1109, '13922': 1110, '13931': 1111, '13934': 1112, '13935': 1113, '13936': 1114, '13938': 1115, '13939': 1116, '13943': 1117, '13945': 1118, '13946': 1119, '13948': 1120, '13954': 1121, '13956': 1122, '13957': 1123, '13958': 1124, '13965': 1125, '1397': 1126, '13971': 1127, '13973': 1128, '13974': 1129, '13976': 1130, '13977': 1131, '13978': 1132, '13979': 1133, '13983': 1134, '13984': 1135, '13988': 1136, '13990': 1137, '13992': 1138, '13994': 1139, '13995': 1140, '13996': 1141, '13998': 1142, '13999': 1143, '14': 1144, '14000': 1145, '14001': 1146, '14002': 1147, '14003': 1148, '14004': 1149, '14006': 1150, '14008': 1151, '1401': 1152, '14010': 1153, '14011': 1154, '14013': 1155, '14014': 1156, '14017': 1157, '14018': 1158, '1402': 1159, '14022': 1160, '14028': 1161, '14029': 1162, '1403': 1163, '14030': 1164, '14031': 1165, '14035': 1166, '14036': 1167, '14038': 1168, '14039': 1169, '14042': 1170, '14044': 1171, '14045': 1172, '14047': 1173, '14052': 1174, '14054': 1175, '14055': 1176, '14062': 1177, '14063': 1178, '14064': 1179, '14066': 1180, '14069': 1181, '14072': 1182, '14077': 1183, '14078': 1184, '1408': 1185, '14080': 1186, '14081': 1187, '14084': 1188, '14085': 1189, '14087': 1190, '14088': 1191, '14089': 1192, '14090': 1193, '14091': 1194, '14093': 1195, '14094': 1196, '14097': 1197, '14099': 1198, '1410': 1199, '14100': 1200, '14102': 1201, '14103': 1202, '14108': 1203, '14109': 1204, '14110': 1205, '14115': 1206, '1412': 1207, '14122': 1208, '14123': 1209, '14127': 1210, '14128': 1211, '14129': 1212, '14133': 1213, '14135': 1214, '14136': 1215, '14138': 1216, '14139': 1217, '14140': 1218, '14141': 1219, '14143': 1220, '14144': 1221, '14145': 1222, '14147': 1223, '14148': 1224, '14153': 1225, '14154': 1226, '14155': 1227, '14157': 1228, '14164': 1229, '14166': 1230, '14170': 1231, '14173': 1232, '14174': 1233, '14178': 1234, '14181': 1235, '14184': 1236, '14185': 1237, '14187': 1238, '14188': 1239, '14189': 1240, '14195': 1241, '14197': 1242, '14198': 1243, '14205': 1244, '14211': 1245, '14215': 1246, '14217': 1247, '14219': 1248, '14220': 1249, '14227': 1250, '14228': 1251, '14232': 1252, '14235': 1253, '14236': 1254, '14237': 1255, '14239': 1256, '14240': 1257, '14243': 1258, '14244': 1259, '14247': 1260, '14251': 1261, '14256': 1262, '14258': 1263, '14260': 1264, '14262': 1265, '14268': 1266, '14269': 1267, '14270': 1268, '14275': 1269, '14276': 1270, '14279': 1271, '14281': 1272, '14284': 1273, '14288': 1274, '14291': 1275, '14292': 1276, '14294': 1277, '14295': 1278, '14296': 1279, '14297': 1280, '14298': 1281, '14299': 1282, '14300': 1283, '14301': 1284, '14305': 1285, '14306': 1286, '14307': 1287, '14309': 1288, '14315': 1289, '14318': 1290, '1432': 1291, '14321': 1292, '14322': 1293, '14323': 1294, '14324': 1295, '14325': 1296, '14327': 1297, '14329': 1298, '14331': 1299, '14335': 1300, '14336': 1301, '14338': 1302, '14343': 1303, '14348': 1304, '1435': 1305, '14350': 1306, '14353': 1307, '14355': 1308, '14356': 1309, '14364': 1310, '14366': 1311, '14367': 1312, '14368': 1313, '14375': 1314, '14377': 1315, '14383': 1316, '14387': 1317, '14389': 1318, '14391': 1319, '14392': 1320, '14393': 1321, '14396': 1322, '14397': 1323, '14399': 1324, '144': 1325, '14401': 1326, '14405': 1327, '14409': 1328, '14411': 1329, '14412': 1330, '14414': 1331, '14418': 1332, '14421': 1333, '14426': 1334, '14427': 1335, '14429': 1336, '14433': 1337, '14438': 1338, '14441': 1339, '1445': 1340, '14452': 1341, '14453': 1342, '14455': 1343, '14461': 1344, '14465': 1345, '14466': 1346, '14467': 1347, '14468': 1348, '14469': 1349, '14475': 1350, '1448': 1351, '14481': 1352, '14483': 1353, '14484': 1354, '14485': 1355, '14487': 1356, '14489': 1357, '14493': 1358, '14501': 1359, '14504': 1360, '14505': 1361, '14507': 1362, '14509': 1363, '14512': 1364, '14516': 1365, '14525': 1366, '14527': 1367, '14528': 1368, '14529': 1369, '1453': 1370, '14531': 1371, '14533': 1372, '14534': 1373, '14539': 1374, '14540': 1375, '14541': 1376, '14542': 1377, '14543': 1378, '14549': 1379, '14551': 1380, '14552': 1381, '14557': 1382, '14558': 1383, '14559': 1384, '14560': 1385, '14564': 1386, '14565': 1387, '14567': 1388, '14568': 1389, '14570': 1390, '14576': 1391, '14579': 1392, '1458': 1393, '14580': 1394, '14585': 1395, '14586': 1396, '14587': 1397, '14591': 1398, '14593': 1399, '14594': 1400, '14595': 1401, '14597': 1402, '14598': 1403, '14601': 1404, '14605': 1405, '14610': 1406, '14611': 1407, '14615': 1408, '14616': 1409, '14617': 1410, '1462': 1411, '14622': 1412, '14632': 1413, '14633': 1414, '14634': 1415, '14638': 1416, '1464': 1417, '14641': 1418, '14643': 1419, '14645': 1420, '14646': 1421, '14648': 1422, '14653': 1423, '14655': 1424, '14658': 1425, '14659': 1426, '14661': 1427, '14662': 1428, '14663': 1429, '14664': 1430, '14668': 1431, '14670': 1432, '14671': 1433, '14674': 1434, '14676': 1435, '14677': 1436, '14682': 1437, '14683': 1438, '14685': 1439, '14690': 1440, '14691': 1441, '14692': 1442, '14693': 1443, '14694': 1444, '14696': 1445, '14697': 1446, '14698': 1447, '14699': 1448, '1470': 1449, '14703': 1450, '14704': 1451, '14706': 1452, '14710': 1453, '14714': 1454, '14715': 1455, '14716': 1456, '14721': 1457, '14723': 1458, '14724': 1459, '14725': 1460, '14726': 1461, '14727': 1462, '14728': 1463, '1473': 1464, '14736': 1465, '14737': 1466, '14740': 1467, '14747': 1468, '14748': 1469, '14749': 1470, '1475': 1471, '14750': 1472, '14753': 1473, '14755': 1474, '14762': 1475, '14763': 1476, '14768': 1477, '14771': 1478, '14774': 1479, '14776': 1480, '14778': 1481, '14779': 1482, '14781': 1483, '14786': 1484, '14788': 1485, '14793': 1486, '14798': 1487, '14802': 1488, '14804': 1489, '14806': 1490, '14811': 1491, '14815': 1492, '14816': 1493, '14824': 1494, '14825': 1495, '14826': 1496, '14827': 1497, '14829': 1498, '14830': 1499, '14831': 1500, '14832': 1501, '14833': 1502, '14834': 1503, '14837': 1504, '1484': 1505, '14845': 1506, '14846': 1507, '14849': 1508, '14850': 1509, '14853': 1510, '14856': 1511, '1486': 1512, '14860': 1513, '14867': 1514, '14868': 1515, '14869': 1516, '1487': 1517, '14870': 1518, '14873': 1519, '14874': 1520, '14877': 1521, '14880': 1522, '14881': 1523, '14882': 1524, '14889': 1525, '14890': 1526, '14892': 1527, '14893': 1528, '14898': 1529, '14899': 1530, '149': 1531, '14900': 1532, '14903': 1533, '14904': 1534, '14905': 1535, '14908': 1536, '14909': 1537, '14912': 1538, '14914': 1539, '14917': 1540, '14918': 1541, '14920': 1542, '14924': 1543, '14925': 1544, '14934': 1545, '14936': 1546, '1494': 1547, '14940': 1548, '14942': 1549, '14950': 1550, '14952': 1551, '14953': 1552, '14954': 1553, '14957': 1554, '14958': 1555, '14959': 1556, '14964': 1557, '14966': 1558, '14968': 1559, '1497': 1560, '14971': 1561, '14973': 1562, '14974': 1563, '14978': 1564, '14979': 1565, '14980': 1566, '14982': 1567, '14985': 1568, '14990': 1569, '14993': 1570, '14995': 1571, '14996': 1572, '15000': 1573, '15001': 1574, '15004': 1575, '15006': 1576, '15007': 1577, '15008': 1578, '1501': 1579, '15010': 1580, '15016': 1581, '15017': 1582, '1502': 1583, '15022': 1584, '15025': 1585, '15026': 1586, '15029': 1587, '15033': 1588, '15034': 1589, '15039': 1590, '15041': 1591, '15042': 1592, '15046': 1593, '15048': 1594, '15049': 1595, '1505': 1596, '15050': 1597, '15051': 1598, '15052': 1599, '15054': 1600, '15057': 1601, '15059': 1602, '1506': 1603, '15061': 1604, '15062': 1605, '15065': 1606, '15067': 1607, '15070': 1608, '15072': 1609, '15074': 1610, '15078': 1611, '15085': 1612, '15086': 1613, '15088': 1614, '15089': 1615, '15090': 1616, '15091': 1617, '15099': 1618, '1510': 1619, '15100': 1620, '15108': 1621, '15115': 1622, '15116': 1623, '1512': 1624, '15122': 1625, '15123': 1626, '15125': 1627, '15126': 1628, '15127': 1629, '15128': 1630, '15134': 1631, '15135': 1632, '15137': 1633, '1514': 1634, '15140': 1635, '15141': 1636, '15142': 1637, '15145': 1638, '15148': 1639, '1515': 1640, '15150': 1641, '15151': 1642, '15152': 1643, '15153': 1644, '15154': 1645, '15156': 1646, '15158': 1647, '15159': 1648, '15160': 1649, '15161': 1650, '15162': 1651, '15167': 1652, '15169': 1653, '15170': 1654, '15173': 1655, '15178': 1656, '1518': 1657, '15182': 1658, '15184': 1659, '15185': 1660, '15191': 1661, '15193': 1662, '15197': 1663, '15199': 1664, '15200': 1665, '15202': 1666, '15204': 1667, '15207': 1668, '1521': 1669, '15213': 1670, '15217': 1671, '15218': 1672, '15219': 1673, '15223': 1674, '15229': 1675, '15235': 1676, '15238': 1677, '15239': 1678, '15243': 1679, '15245': 1680, '15248': 1681, '15252': 1682, '15253': 1683, '15255': 1684, '15257': 1685, '15260': 1686, '15261': 1687, '15263': 1688, '15267': 1689, '15268': 1690, '15269': 1691, '1527': 1692, '15272': 1693, '15273': 1694, '15278': 1695, '15279': 1696, '15287': 1697, '15288': 1698, '15295': 1699, '15297': 1700, '15298': 1701, '15300': 1702, '15304': 1703, '15306': 1704, '15307': 1705, '15309': 1706, '1531': 1707, '15316': 1708, '15322': 1709, '15325': 1710, '15326': 1711, '15328': 1712, '15340': 1713, '15341': 1714, '15342': 1715, '15347': 1716, '15348': 1717, '15349': 1718, '1535': 1719, '15360': 1720, '15363': 1721, '15365': 1722, '15380': 1723, '15385': 1724, '15386': 1725, '15388': 1726, '15389': 1727, '15393': 1728, '15394': 1729, '15395': 1730, '15396': 1731, '15398': 1732, '15399': 1733, '154': 1734, '15400': 1735, '15401': 1736, '15403': 1737, '15404': 1738, '15405': 1739, '15407': 1740, '15409': 1741, '15410': 1742, '15415': 1743, '15417': 1744, '15418': 1745, '15420': 1746, '15421': 1747, '15423': 1748, '15424': 1749, '15425': 1750, '15426': 1751, '15428': 1752, '15431': 1753, '15432': 1754, '15434': 1755, '15435': 1756, '15441': 1757, '15443': 1758, '15446': 1759, '15448': 1760, '15449': 1761, '1545': 1762, '15450': 1763, '15453': 1764, '15454': 1765, '15457': 1766, '15458': 1767, '1546': 1768, '15461': 1769, '15463': 1770, '15465': 1771, '15468': 1772, '15469': 1773, '15471': 1774, '15472': 1775, '15477': 1776, '15479': 1777, '15481': 1778, '15488': 1779, '15491': 1780, '15493': 1781, '15494': 1782, '15498': 1783, '15500': 1784, '15501': 1785, '15503': 1786, '15505': 1787, '15506': 1788, '15507': 1789, '15508': 1790, '15510': 1791, '15512': 1792, '15515': 1793, '15516': 1794, '15518': 1795, '15527': 1796, '15529': 1797, '15531': 1798, '15535': 1799, '15537': 1800, '15538': 1801, '15539': 1802, '1554': 1803, '15542': 1804, '15543': 1805, '15550': 1806, '15552': 1807, '15553': 1808, '15558': 1809, '15559': 1810, '15560': 1811, '15561': 1812, '15562': 1813, '15565': 1814, '15568': 1815, '15569': 1816, '15575': 1817, '15578': 1818, '15579': 1819, '15580': 1820, '15581': 1821, '15583': 1822, '15591': 1823, '15593': 1824, '15595': 1825, '15597': 1826, '15598': 1827, '15607': 1828, '15608': 1829, '15612': 1830, '15613': 1831, '15615': 1832, '15621': 1833, '15622': 1834, '15624': 1835, '15626': 1836, '15628': 1837, '15631': 1838, '15634': 1839, '15635': 1840, '15636': 1841, '15638': 1842, '15639': 1843, '15640': 1844, '15644': 1845, '15647': 1846, '15649': 1847, '15651': 1848, '15653': 1849, '15656': 1850, '15657': 1851, '15663': 1852, '15664': 1853, '15668': 1854, '15669': 1855, '15671': 1856, '15673': 1857, '15674': 1858, '15675': 1859, '15678': 1860, '15679': 1861, '15681': 1862, '15683': 1863, '15686': 1864, '15688': 1865, '15690': 1866, '15692': 1867, '15693': 1868, '15694': 1869, '15698': 1870, '15699': 1871, '157': 1872, '1570': 1873, '15700': 1874, '15706': 1875, '15708': 1876, '15711': 1877, '15712': 1878, '15713': 1879, '15715': 1880, '15718': 1881, '15719': 1882, '1572': 1883, '15721': 1884, '15727': 1885, '15728': 1886, '15730': 1887, '15731': 1888, '15735': 1889, '15739': 1890, '1574': 1891, '15740': 1892, '15741': 1893, '15750': 1894, '15757': 1895, '15759': 1896, '15760': 1897, '15761': 1898, '15762': 1899, '15767': 1900, '15770': 1901, '15771': 1902, '15773': 1903, '15777': 1904, '15783': 1905, '15785': 1906, '15792': 1907, '15797': 1908, '15799': 1909, '15800': 1910, '15801': 1911, '15804': 1912, '15808': 1913, '15811': 1914, '15813': 1915, '15815': 1916, '15816': 1917, '15817': 1918, '15821': 1919, '15822': 1920, '15824': 1921, '15827': 1922, '15828': 1923, '15831': 1924, '15833': 1925, '15835': 1926, '15836': 1927, '15839': 1928, '15841': 1929, '15842': 1930, '15843': 1931, '15844': 1932, '15845': 1933, '15848': 1934, '15849': 1935, '15851': 1936, '15865': 1937, '15866': 1938, '15868': 1939, '15870': 1940, '15875': 1941, '15879': 1942, '1588': 1943, '15882': 1944, '15884': 1945, '15886': 1946, '15893': 1947, '15894': 1948, '15897': 1949, '15909': 1950, '15911': 1951, '15912': 1952, '15913': 1953, '1592': 1954, '15920': 1955, '15926': 1956, '15929': 1957, '1593': 1958, '15933': 1959, '15934': 1960, '15935': 1961, '15936': 1962, '15938': 1963, '15941': 1964, '15943': 1965, '15947': 1966, '15950': 1967, '15951': 1968, '15952': 1969, '15953': 1970, '15957': 1971, '1596': 1972, '15960': 1973, '15963': 1974, '15964': 1975, '15965': 1976, '15967': 1977, '15971': 1978, '15975': 1979, '15977': 1980, '15979': 1981, '1598': 1982, '15980': 1983, '15985': 1984, '15989': 1985, '15990': 1986, '15991': 1987, '15997': 1988, '15998': 1989, '16000': 1990, '16002': 1991, '16003': 1992, '16004': 1993, '16006': 1994, '16007': 1995, '16008': 1996, '16009': 1997, '16010': 1998, '16013': 1999, '16014': 2000, '16015': 2001, '16018': 2002, '16019': 2003, '16020': 2004, '1603': 2005, '16030': 2006, '16031': 2007, '16032': 2008, '16039': 2009, '1604': 2010, '16043': 2011, '16047': 2012, '16050': 2013, '16052': 2014, '16054': 2015, '16056': 2016, '16058': 2017, '16060': 2018, '16066': 2019, '16068': 2020, '16070': 2021, '16071': 2022, '16075': 2023, '16078': 2024, '16079': 2025, '1608': 2026, '16085': 2027, '16089': 2028, '16090': 2029, '16091': 2030, '16099': 2031, '1610': 2032, '16106': 2033, '16110': 2034, '16113': 2035, '16114': 2036, '16117': 2037, '1612': 2038, '16124': 2039, '16126': 2040, '16129': 2041, '16131': 2042, '16136': 2043, '16144': 2044, '16145': 2045, '16146': 2046, '16160': 2047, '16166': 2048, '16171': 2049, '16174': 2050, '16175': 2051, '16176': 2052, '16179': 2053, '16185': 2054, '16186': 2055, '16187': 2056, '16188': 2057, '16194': 2058, '16195': 2059, '16196': 2060, '16199': 2061, '16205': 2062, '16210': 2063, '16211': 2064, '16213': 2065, '16216': 2066, '16223': 2067, '16225': 2068, '16227': 2069, '16228': 2070, '16229': 2071, '16233': 2072, '16235': 2073, '16238': 2074, '1624': 2075, '16241': 2076, '16244': 2077, '16245': 2078, '16247': 2079, '16249': 2080, '16250': 2081, '16256': 2082, '16259': 2083, '16260': 2084, '1627': 2085, '16271': 2086, '16278': 2087, '16280': 2088, '16281': 2089, '16283': 2090, '16285': 2091, '16286': 2092, '16289': 2093, '16294': 2094, '16296': 2095, '16298': 2096, '16299': 2097, '16300': 2098, '16304': 2099, '16306': 2100, '16307': 2101, '16308': 2102, '16309': 2103, '16311': 2104, '16312': 2105, '16314': 2106, '16315': 2107, '16320': 2108, '16321': 2109, '16324': 2110, '16325': 2111, '16327': 2112, '16329': 2113, '16333': 2114, '16334': 2115, '16335': 2116, '16336': 2117, '16337': 2118, '16341': 2119, '16347': 2120, '16348': 2121, '16350': 2122, '16354': 2123, '16355': 2124, '16357': 2125, '1636': 2126, '16360': 2127, '16361': 2128, '16366': 2129, '16367': 2130, '1637': 2131, '16376': 2132, '16382': 2133, '16387': 2134, '16395': 2135, '16396': 2136, '1640': 2137, '16403': 2138, '16409': 2139, '1641': 2140, '16411': 2141, '16412': 2142, '16421': 2143, '16422': 2144, '16426': 2145, '16428': 2146, '16432': 2147, '16433': 2148, '16434': 2149, '16436': 2150, '16437': 2151, '16439': 2152, '16441': 2153, '16442': 2154, '16443': 2155, '16447': 2156, '16451': 2157, '16455': 2158, '16462': 2159, '16463': 2160, '16464': 2161, '16466': 2162, '16472': 2163, '16473': 2164, '16474': 2165, '16475': 2166, '16476': 2167, '1648': 2168, '16485': 2169, '16490': 2170, '16491': 2171, '16494': 2172, '16498': 2173, '16502': 2174, '16503': 2175, '16505': 2176, '16508': 2177, '16509': 2178, '16511': 2179, '16512': 2180, '16515': 2181, '16516': 2182, '16517': 2183, '16518': 2184, '16520': 2185, '16521': 2186, '16523': 2187, '16530': 2188, '16534': 2189, '16537': 2190, '16538': 2191, '16539': 2192, '16540': 2193, '16541': 2194, '16542': 2195, '16545': 2196, '16548': 2197, '1655': 2198, '16550': 2199, '16551': 2200, '16553': 2201, '16554': 2202, '16557': 2203, '16559': 2204, '16560': 2205, '16561': 2206, '16562': 2207, '16566': 2208, '16568': 2209, '1657': 2210, '16573': 2211, '1658': 2212, '16581': 2213, '16582': 2214, '16586': 2215, '16589': 2216, '16592': 2217, '16597': 2218, '16603': 2219, '16605': 2220, '16613': 2221, '16618': 2222, '16628': 2223, '16630': 2224, '16637': 2225, '16639': 2226, '16643': 2227, '16647': 2228, '16651': 2229, '16653': 2230, '16654': 2231, '16655': 2232, '16656': 2233, '16658': 2234, '16659': 2235, '1666': 2236, '16661': 2237, '16662': 2238, '16667': 2239, '16671': 2240, '16674': 2241, '16676': 2242, '16677': 2243, '16678': 2244, '16679': 2245, '16682': 2246, '16687': 2247, '16688': 2248, '1669': 2249, '16690': 2250, '16697': 2251, '16702': 2252, '16703': 2253, '16704': 2254, '16705': 2255, '16712': 2256, '16713': 2257, '16718': 2258, '16719': 2259, '16722': 2260, '16725': 2261, '16729': 2262, '16731': 2263, '16738': 2264, '1674': 2265, '16742': 2266, '16744': 2267, '16745': 2268, '16748': 2269, '1675': 2270, '16751': 2271, '16752': 2272, '16754': 2273, '16755': 2274, '16759': 2275, '16767': 2276, '16768': 2277, '16771': 2278, '16772': 2279, '16774': 2280, '16783': 2281, '16786': 2282, '16787': 2283, '16793': 2284, '16796': 2285, '16797': 2286, '16798': 2287, '16803': 2288, '16804': 2289, '16805': 2290, '16806': 2291, '1681': 2292, '16811': 2293, '16812': 2294, '16813': 2295, '16814': 2296, '16816': 2297, '1682': 2298, '16822': 2299, '16826': 2300, '16829': 2301, '1683': 2302, '16830': 2303, '16834': 2304, '16835': 2305, '16836': 2306, '16837': 2307, '16839': 2308, '16842': 2309, '16845': 2310, '16846': 2311, '16848': 2312, '16849': 2313, '16851': 2314, '16854': 2315, '16861': 2316, '16867': 2317, '16870': 2318, '16872': 2319, '16879': 2320, '16888': 2321, '16893': 2322, '16897': 2323, '16899': 2324, '16908': 2325, '16909': 2326, '16916': 2327, '16921': 2328, '16922': 2329, '16924': 2330, '16926': 2331, '16927': 2332, '1693': 2333, '16930': 2334, '16931': 2335, '16933': 2336, '16942': 2337, '16945': 2338, '16948': 2339, '16950': 2340, '16955': 2341, '16962': 2342, '16965': 2343, '1697': 2344, '16971': 2345, '16972': 2346, '16975': 2347, '16976': 2348, '16977': 2349, '16982': 2350, '16984': 2351, '16989': 2352, '16994': 2353, '170': 2354, '1700': 2355, '17000': 2356, '17004': 2357, '17011': 2358, '17013': 2359, '17016': 2360, '17017': 2361, '17021': 2362, '17024': 2363, '17027': 2364, '17028': 2365, '17029': 2366, '1703': 2367, '17031': 2368, '17032': 2369, '1704': 2370, '17040': 2371, '17042': 2372, '17043': 2373, '17045': 2374, '17047': 2375, '17052': 2376, '17054': 2377, '17055': 2378, '17066': 2379, '17067': 2380, '17068': 2381, '1707': 2382, '17074': 2383, '17077': 2384, '17079': 2385, '1708': 2386, '17080': 2387, '17082': 2388, '17086': 2389, '17091': 2390, '17095': 2391, '17100': 2392, '17105': 2393, '17113': 2394, '17119': 2395, '17122': 2396, '17123': 2397, '17124': 2398, '17125': 2399, '17126': 2400, '17127': 2401, '17130': 2402, '17132': 2403, '17133': 2404, '17138': 2405, '1714': 2406, '17142': 2407, '17143': 2408, '17147': 2409, '17148': 2410, '17149': 2411, '17151': 2412, '17164': 2413, '17171': 2414, '17174': 2415, '17176': 2416, '17177': 2417, '17178': 2418, '1718': 2419, '17180': 2420, '17185': 2421, '17186': 2422, '1719': 2423, '17194': 2424, '17200': 2425, '17205': 2426, '17206': 2427, '17207': 2428, '17208': 2429, '17211': 2430, '17213': 2431, '17214': 2432, '17218': 2433, '1722': 2434, '17221': 2435, '17223': 2436, '17226': 2437, '17228': 2438, '17231': 2439, '17235': 2440, '17236': 2441, '17237': 2442, '1724': 2443, '17240': 2444, '17243': 2445, '17244': 2446, '17246': 2447, '17250': 2448, '17251': 2449, '1726': 2450, '17265': 2451, '17272': 2452, '17277': 2453, '17279': 2454, '17282': 2455, '17283': 2456, '17286': 2457, '17287': 2458, '17288': 2459, '17289': 2460, '17294': 2461, '17295': 2462, '17297': 2463, '173': 2464, '17300': 2465, '17302': 2466, '17303': 2467, '17305': 2468, '17306': 2469, '17308': 2470, '17310': 2471, '17311': 2472, '17312': 2473, '17320': 2474, '17325': 2475, '17327': 2476, '1733': 2477, '17330': 2478, '17331': 2479, '17334': 2480, '17335': 2481, '17338': 2482, '17346': 2483, '17353': 2484, '17355': 2485, '17356': 2486, '17357': 2487, '17360': 2488, '17363': 2489, '17365': 2490, '17371': 2491, '17373': 2492, '17374': 2493, '17375': 2494, '17377': 2495, '17383': 2496, '17393': 2497, '17394': 2498, '17395': 2499, '174': 2500, '17403': 2501, '17404': 2502, '17406': 2503, '17407': 2504, '17409': 2505, '17410': 2506, '17413': 2507, '17414': 2508, '17416': 2509, '17417': 2510, '17419': 2511, '17424': 2512, '17430': 2513, '17431': 2514, '17432': 2515, '17435': 2516, '17437': 2517, '17445': 2518, '17446': 2519, '17450': 2520, '17452': 2521, '17454': 2522, '17456': 2523, '17465': 2524, '17466': 2525, '1747': 2526, '17472': 2527, '17473': 2528, '17476': 2529, '17479': 2530, '17482': 2531, '17484': 2532, '17486': 2533, '17489': 2534, '17493': 2535, '17494': 2536, '17495': 2537, '175': 2538, '17501': 2539, '17503': 2540, '17504': 2541, '17505': 2542, '17509': 2543, '17511': 2544, '17512': 2545, '17513': 2546, '17514': 2547, '1752': 2548, '17524': 2549, '17528': 2550, '17538': 2551, '17540': 2552, '17541': 2553, '17542': 2554, '17544': 2555, '17547': 2556, '17550': 2557, '17554': 2558, '17558': 2559, '1756': 2560, '17560': 2561, '17566': 2562, '17568': 2563, '1757': 2564, '17572': 2565, '17573': 2566, '17576': 2567, '17579': 2568, '1758': 2569, '17580': 2570, '17581': 2571, '17583': 2572, '17585': 2573, '17589': 2574, '17591': 2575, '17592': 2576, '17593': 2577, '17594': 2578, '17596': 2579, '17602': 2580, '17603': 2581, '17604': 2582, '17605': 2583, '17610': 2584, '17611': 2585, '17617': 2586, '17619': 2587, '1762': 2588, '17620': 2589, '17622': 2590, '17626': 2591, '17627': 2592, '17630': 2593, '17631': 2594, '17644': 2595, '17646': 2596, '17647': 2597, '17653': 2598, '17659': 2599, '1766': 2600, '17662': 2601, '17663': 2602, '17665': 2603, '17670': 2604, '17671': 2605, '17672': 2606, '17682': 2607, '17687': 2608, '17698': 2609, '17699': 2610, '17701': 2611, '17708': 2612, '17715': 2613, '17716': 2614, '17718': 2615, '17728': 2616, '1773': 2617, '17735': 2618, '17737': 2619, '17741': 2620, '1775': 2621, '17750': 2622, '17756': 2623, '17762': 2624, '17763': 2625, '17766': 2626, '1778': 2627, '17780': 2628, '17790': 2629, '17793': 2630, '17802': 2631, '1781': 2632, '17810': 2633, '17816': 2634, '17817': 2635, '1782': 2636, '17823': 2637, '17829': 2638, '17831': 2639, '17845': 2640, '17848': 2641, '17857': 2642, '17858': 2643, '1786': 2644, '17861': 2645, '17868': 2646, '1787': 2647, '17871': 2648, '17879': 2649, '17882': 2650, '17891': 2651, '17892': 2652, '17897': 2653, '17903': 2654, '17904': 2655, '17907': 2656, '1792': 2657, '17922': 2658, '17930': 2659, '17941': 2660, '17947': 2661, '17949': 2662, '1795': 2663, '17961': 2664, '17964': 2665, '17965': 2666, '17967': 2667, '17969': 2668, '1797': 2669, '17973': 2670, '17979': 2671, '1798': 2672, '17992': 2673, '17997': 2674, '17999': 2675, '18001': 2676, '18007': 2677, '18017': 2678, '18028': 2679, '18030': 2680, '18031': 2681, '18042': 2682, '18045': 2683, '18046': 2684, '1805': 2685, '18055': 2686, '18060': 2687, '18061': 2688, '18062': 2689, '18068': 2690, '18073': 2691, '18081': 2692, '18082': 2693, '18086': 2694, '1809': 2695, '18095': 2696, '181': 2697, '18103': 2698, '18105': 2699, '18107': 2700, '18110': 2701, '18111': 2702, '18114': 2703, '18128': 2704, '18130': 2705, '1814': 2706, '18140': 2707, '18141': 2708, '18148': 2709, '18153': 2710, '18156': 2711, '1816': 2712, '18160': 2713, '18164': 2714, '18166': 2715, '18169': 2716, '1817': 2717, '18174': 2718, '18177': 2719, '18181': 2720, '18189': 2721, '18192': 2722, '182': 2723, '18208': 2724, '18216': 2725, '18224': 2726, '18238': 2727, '18242': 2728, '18263': 2729, '18267': 2730, '18269': 2731, '18273': 2732, '18275': 2733, '18276': 2734, '18281': 2735, '18282': 2736, '18284': 2737, '18288': 2738, '1829': 2739, '18296': 2740, '183': 2741, '1831': 2742, '18310': 2743, '18317': 2744, '18318': 2745, '18319': 2746, '18322': 2747, '1833': 2748, '18342': 2749, '1835': 2750, '18354': 2751, '18364': 2752, '18368': 2753, '1837': 2754, '18374': 2755, '18387': 2756, '18389': 2757, '1839': 2758, '18392': 2759, '18396': 2760, '18402': 2761, '18404': 2762, '18405': 2763, '18411': 2764, '18413': 2765, '18416': 2766, '18418': 2767, '18423': 2768, '18428': 2769, '1843': 2770, '18437': 2771, '18449': 2772, '1845': 2773, '1846': 2774, '18460': 2775, '18464': 2776, '18466': 2777, '18467': 2778, '18469': 2779, '18470': 2780, '18475': 2781, '18478': 2782, '18481': 2783, '18485': 2784, '18486': 2785, '18490': 2786, '18493': 2787, '18495': 2788, '185': 2789, '18500': 2790, '18502': 2791, '18507': 2792, '18508': 2793, '18519': 2794, '18529': 2795, '18538': 2796, '1854': 2797, '18542': 2798, '18543': 2799, '18555': 2800, '1856': 2801, '18566': 2802, '18571': 2803, '18572': 2804, '18575': 2805, '18577': 2806, '18579': 2807, '1858': 2808, '18581': 2809, '18585': 2810, '18587': 2811, '18592': 2812, '186': 2813, '18601': 2814, '18603': 2815, '18615': 2816, '18618': 2817, '1862': 2818, '18620': 2819, '18626': 2820, '18627': 2821, '18629': 2822, '18637': 2823, '18643': 2824, '18655': 2825, '18657': 2826, '18663': 2827, '18666': 2828, '18667': 2829, '18668': 2830, '18669': 2831, '1867': 2832, '18670': 2833, '18671': 2834, '18677': 2835, '18679': 2836, '18682': 2837, '18683': 2838, '18685': 2839, '18687': 2840, '18689': 2841, '1869': 2842, '18691': 2843, '18694': 2844, '18700': 2845, '18701': 2846, '18702': 2847, '18703': 2848, '18704': 2849, '18707': 2850, '18718': 2851, '18730': 2852, '18733': 2853, '18738': 2854, '18740': 2855, '18741': 2856, '18744': 2857, '18746': 2858, '18747': 2859, '18748': 2860, '18749': 2861, '18753': 2862, '18764': 2863, '18768': 2864, '18769': 2865, '18772': 2866, '18775': 2867, '18776': 2868, '18777': 2869, '18778': 2870, '18779': 2871, '18782': 2872, '18784': 2873, '18785': 2874, '18787': 2875, '18788': 2876, '18792': 2877, '18793': 2878, '18796': 2879, '18800': 2880, '18801': 2881, '18804': 2882, '18805': 2883, '18812': 2884, '18813': 2885, '18815': 2886, '18817': 2887, '18819': 2888, '18821': 2889, '18822': 2890, '18824': 2891, '18825': 2892, '18829': 2893, '18832': 2894, '18836': 2895, '18838': 2896, '18840': 2897, '18846': 2898, '18851': 2899, '18852': 2900, '18854': 2901, '18855': 2902, '18860': 2903, '18865': 2904, '18866': 2905, '18868': 2906, '18869': 2907, '18871': 2908, '18878': 2909, '18880': 2910, '18892': 2911, '18893': 2912, '18895': 2913, '18898': 2914, '18899': 2915, '18900': 2916, '18901': 2917, '18902': 2918, '18903': 2919, '18904': 2920, '18906': 2921, '18907': 2922, '1891': 2923, '18916': 2924, '18918': 2925, '18919': 2926, '1892': 2927, '18922': 2928, '18924': 2929, '18925': 2930, '18926': 2931, '18930': 2932, '18937': 2933, '18938': 2934, '18940': 2935, '18942': 2936, '18944': 2937, '18945': 2938, '18948': 2939, '18953': 2940, '18954': 2941, '18955': 2942, '18956': 2943, '18960': 2944, '18961': 2945, '1897': 2946, '18970': 2947, '18974': 2948, '18977': 2949, '18978': 2950, '18979': 2951, '18980': 2952, '18981': 2953, '18982': 2954, '18983': 2955, '18985': 2956, '18987': 2957, '18989': 2958, '1899': 2959, '18992': 2960, '18997': 2961, '18998': 2962, '190': 2963, '19001': 2964, '19002': 2965, '19009': 2966, '19010': 2967, '19018': 2968, '19022': 2969, '19023': 2970, '19024': 2971, '19029': 2972, '19032': 2973, '19033': 2974, '19034': 2975, '19036': 2976, '19038': 2977, '1904': 2978, '19041': 2979, '19042': 2980, '19043': 2981, '19044': 2982, '19048': 2983, '19049': 2984, '19051': 2985, '19052': 2986, '19054': 2987, '19055': 2988, '19058': 2989, '19059': 2990, '19060': 2991, '19062': 2992, '19063': 2993, '19065': 2994, '19069': 2995, '1907': 2996, '19070': 2997, '19074': 2998, '1908': 2999, '19080': 3000, '19082': 3001, '19084': 3002, '19086': 3003, '19087': 3004, '19089': 3005, '19090': 3006, '19096': 3007, '19097': 3008, '19098': 3009, '19102': 3010, '19103': 3011, '19107': 3012, '1911': 3013, '19110': 3014, '19112': 3015, '19116': 3016, '19117': 3017, '19119': 3018, '19121': 3019, '19123': 3020, '19124': 3021, '19125': 3022, '19129': 3023, '19133': 3024, '19140': 3025, '19143': 3026, '19145': 3027, '19146': 3028, '19150': 3029, '19153': 3030, '19156': 3031, '19159': 3032, '19161': 3033, '19162': 3034, '19168': 3035, '19172': 3036, '19174': 3037, '19175': 3038, '19184': 3039, '19185': 3040, '19186': 3041, '1919': 3042, '19191': 3043, '19193': 3044, '19194': 3045, '19197': 3046, '19199': 3047, '19200': 3048, '19201': 3049, '19202': 3050, '19204': 3051, '19205': 3052, '19207': 3053, '19208': 3054, '19214': 3055, '19216': 3056, '19218': 3057, '1922': 3058, '19222': 3059, '19224': 3060, '19225': 3061, '19227': 3062, '19228': 3063, '19232': 3064, '19237': 3065, '19238': 3066, '19240': 3067, '19242': 3068, '19244': 3069, '19245': 3070, '19247': 3071, '19248': 3072, '1925': 3073, '19251': 3074, '19257': 3075, '19259': 3076, '19260': 3077, '19264': 3078, '19265': 3079, '19268': 3080, '19269': 3081, '1927': 3082, '19273': 3083, '19277': 3084, '19282': 3085, '19283': 3086, '19284': 3087, '19286': 3088, '19287': 3089, '1929': 3090, '19292': 3091, '19295': 3092, '19299': 3093, '19300': 3094, '19310': 3095, '19312': 3096, '19315': 3097, '19316': 3098, '19318': 3099, '19319': 3100, '19322': 3101, '19323': 3102, '19325': 3103, '19329': 3104, '1933': 3105, '19331': 3106, '19332': 3107, '19335': 3108, '19338': 3109, '19350': 3110, '19354': 3111, '19357': 3112, '1936': 3113, '19361': 3114, '19367': 3115, '19370': 3116, '19377': 3117, '19381': 3118, '19382': 3119, '19384': 3120, '19387': 3121, '19389': 3122, '1939': 3123, '19395': 3124, '19398': 3125, '19399': 3126, '194': 3127, '19405': 3128, '19406': 3129, '19407': 3130, '19409': 3131, '19410': 3132, '19411': 3133, '19413': 3134, '19415': 3135, '19416': 3136, '19420': 3137, '19421': 3138, '19423': 3139, '19426': 3140, '19428': 3141, '1943': 3142, '19430': 3143, '19431': 3144, '19432': 3145, '19436': 3146, '1944': 3147, '19441': 3148, '19443': 3149, '19445': 3150, '19447': 3151, '19448': 3152, '19460': 3153, '19461': 3154, '19462': 3155, '19466': 3156, '19468': 3157, '19472': 3158, '19474': 3159, '19479': 3160, '1948': 3161, '19483': 3162, '19487': 3163, '19488': 3164, '1949': 3165, '19491': 3166, '19492': 3167, '19495': 3168, '19498': 3169, '19499': 3170, '19500': 3171, '19502': 3172, '19506': 3173, '19509': 3174, '19512': 3175, '19515': 3176, '19516': 3177, '1952': 3178, '19521': 3179, '19525': 3180, '19528': 3181, '19533': 3182, '19539': 3183, '19545': 3184, '19547': 3185, '19552': 3186, '19555': 3187, '19556': 3188, '1956': 3189, '19566': 3190, '19567': 3191, '19573': 3192, '19574': 3193, '19575': 3194, '19576': 3195, '19579': 3196, '19580': 3197, '19583': 3198, '19587': 3199, '19589': 3200, '19590': 3201, '19592': 3202, '19593': 3203, '19595': 3204, '19596': 3205, '19598': 3206, '196': 3207, '19602': 3208, '19603': 3209, '19606': 3210, '19610': 3211, '19614': 3212, '19617': 3213, '19619': 3214, '19621': 3215, '19630': 3216, '19631': 3217, '19633': 3218, '19636': 3219, '19639': 3220, '1964': 3221, '19640': 3222, '19641': 3223, '19643': 3224, '1965': 3225, '19652': 3226, '19654': 3227, '19656': 3228, '19666': 3229, '19667': 3230, '19669': 3231, '19670': 3232, '19673': 3233, '19675': 3234, '19679': 3235, '19681': 3236, '19683': 3237, '19685': 3238, '19686': 3239, '19687': 3240, '19694': 3241, '19697': 3242, '19698': 3243, '19701': 3244, '19704': 3245, '19707': 3246, '19708': 3247, '19717': 3248, '19724': 3249, '19726': 3250, '19730': 3251, '19734': 3252, '19738': 3253, '19739': 3254, '1974': 3255, '19745': 3256, '19746': 3257, '1975': 3258, '19750': 3259, '19757': 3260, '19758': 3261, '19760': 3262, '19763': 3263, '19764': 3264, '19771': 3265, '19773': 3266, '19774': 3267, '19775': 3268, '19780': 3269, '19781': 3270, '19784': 3271, '19786': 3272, '19788': 3273, '1979': 3274, '19791': 3275, '19795': 3276, '19796': 3277, '19797': 3278, '19801': 3279, '19802': 3280, '19804': 3281, '19806': 3282, '19810': 3283, '19816': 3284, '19822': 3285, '19827': 3286, '19833': 3287, '19840': 3288, '19846': 3289, '19848': 3290, '19852': 3291, '19853': 3292, '19856': 3293, '19861': 3294, '19869': 3295, '19870': 3296, '19871': 3297, '19873': 3298, '19876': 3299, '19879': 3300, '1988': 3301, '19880': 3302, '19886': 3303, '19888': 3304, '19897': 3305, '19900': 3306, '19904': 3307, '19910': 3308, '19911': 3309, '19915': 3310, '19920': 3311, '19922': 3312, '19924': 3313, '19928': 3314, '1993': 3315, '19932': 3316, '19933': 3317, '19936': 3318, '1994': 3319, '19940': 3320, '19942': 3321, '19947': 3322, '19950': 3323, '19955': 3324, '19956': 3325, '19959': 3326, '19970': 3327, '19971': 3328, '19973': 3329, '19975': 3330, '19979': 3331, '19984': 3332, '19987': 3333, '19988': 3334, '19989': 3335, '1999': 3336, '19990': 3337, '19991': 3338, '19992': 3339, '19995': 3340, '19996': 3341, '200': 3342, '20001': 3343, '20002': 3344, '20003': 3345, '20006': 3346, '20007': 3347, '20008': 3348, '20012': 3349, '20013': 3350, '20014': 3351, '20015': 3352, '20018': 3353, '20022': 3354, '20026': 3355, '20027': 3356, '20028': 3357, '20032': 3358, '20033': 3359, '20035': 3360, '2004': 3361, '20041': 3362, '20043': 3363, '20044': 3364, '2005': 3365, '20050': 3366, '20056': 3367, '20058': 3368, '2006': 3369, '20071': 3370, '20073': 3371, '20074': 3372, '20075': 3373, '20079': 3374, '2008': 3375, '20083': 3376, '20088': 3377, '20089': 3378, '20090': 3379, '20092': 3380, '20093': 3381, '20100': 3382, '20101': 3383, '20104': 3384, '20105': 3385, '20107': 3386, '20109': 3387, '2011': 3388, '20111': 3389, '20118': 3390, '20120': 3391, '20123': 3392, '20127': 3393, '20129': 3394, '2013': 3395, '20134': 3396, '20139': 3397, '20143': 3398, '20147': 3399, '20149': 3400, '2015': 3401, '20150': 3402, '20151': 3403, '20155': 3404, '20157': 3405, '2016': 3406, '20162': 3407, '20168': 3408, '20171': 3409, '20172': 3410, '20176': 3411, '20177': 3412, '20178': 3413, '20186': 3414, '2019': 3415, '20190': 3416, '20194': 3417, '20196': 3418, '20199': 3419, '202': 3420, '20202': 3421, '20204': 3422, '20208': 3423, '2021': 3424, '20210': 3425, '20223': 3426, '20224': 3427, '20225': 3428, '20232': 3429, '20233': 3430, '20237': 3431, '20238': 3432, '20239': 3433, '20243': 3434, '20246': 3435, '20252': 3436, '20255': 3437, '20257': 3438, '20259': 3439, '20261': 3440, '20263': 3441, '20264': 3442, '20265': 3443, '20272': 3444, '20274': 3445, '20276': 3446, '20280': 3447, '20281': 3448, '20282': 3449, '20284': 3450, '20286': 3451, '20292': 3452, '20298': 3453, '203': 3454, '2030': 3455, '20301': 3456, '20305': 3457, '20307': 3458, '20312': 3459, '20315': 3460, '20324': 3461, '20326': 3462, '2033': 3463, '20338': 3464, '20345': 3465, '20350': 3466, '20351': 3467, '20353': 3468, '20358': 3469, '20359': 3470, '20365': 3471, '20368': 3472, '20370': 3473, '20380': 3474, '20381': 3475, '20382': 3476, '20387': 3477, '20388': 3478, '20398': 3479, '20405': 3480, '20406': 3481, '20407': 3482, '20411': 3483, '20413': 3484, '20414': 3485, '20419': 3486, '20426': 3487, '20427': 3488, '20431': 3489, '20436': 3490, '20437': 3491, '20438': 3492, '20439': 3493, '20440': 3494, '20444': 3495, '20445': 3496, '20446': 3497, '20447': 3498, '20450': 3499, '20451': 3500, '20453': 3501, '20455': 3502, '20464': 3503, '20469': 3504, '2047': 3505, '20481': 3506, '20483': 3507, '20486': 3508, '20489': 3509, '2049': 3510, '20490': 3511, '20493': 3512, '20495': 3513, '20496': 3514, '20497': 3515, '20507': 3516, '20509': 3517, '2051': 3518, '20514': 3519, '20518': 3520, '20524': 3521, '20525': 3522, '20526': 3523, '20528': 3524, '20534': 3525, '20535': 3526, '2054': 3527, '20540': 3528, '20545': 3529, '20548': 3530, '20549': 3531, '20550': 3532, '20553': 3533, '20555': 3534, '20556': 3535, '20559': 3536, '20562': 3537, '20565': 3538, '20567': 3539, '20574': 3540, '20575': 3541, '20576': 3542, '20581': 3543, '20584': 3544, '20588': 3545, '20589': 3546, '20591': 3547, '20592': 3548, '20600': 3549, '20602': 3550, '20606': 3551, '20611': 3552, '2062': 3553, '20620': 3554, '20621': 3555, '20626': 3556, '20627': 3557, '20633': 3558, '20645': 3559, '20646': 3560, '20651': 3561, '20652': 3562, '20656': 3563, '20659': 3564, '20660': 3565, '20661': 3566, '20662': 3567, '20670': 3568, '20672': 3569, '20678': 3570, '20683': 3571, '20685': 3572, '20686': 3573, '20702': 3574, '20706': 3575, '20708': 3576, '2071': 3577, '20712': 3578, '20714': 3579, '20722': 3580, '20729': 3581, '20730': 3582, '20733': 3583, '20735': 3584, '20742': 3585, '20748': 3586, '20759': 3587, '20760': 3588, '20763': 3589, '2077': 3590, '20773': 3591, '20775': 3592, '2078': 3593, '20783': 3594, '20787': 3595, '20788': 3596, '20790': 3597, '20798': 3598, '20809': 3599, '20811': 3600, '20813': 3601, '20814': 3602, '20818': 3603, '20820': 3604, '20821': 3605, '20827': 3606, '20832': 3607, '20833': 3608, '20834': 3609, '20836': 3610, '20841': 3611, '20843': 3612, '20844': 3613, '20852': 3614, '20853': 3615, '20854': 3616, '2086': 3617, '20870': 3618, '20876': 3619, '20880': 3620, '20881': 3621, '20887': 3622, '20889': 3623, '2089': 3624, '20900': 3625, '20907': 3626, '20908': 3627, '20916': 3628, '20917': 3629, '20921': 3630, '20927': 3631, '20934': 3632, '20948': 3633, '20952': 3634, '20958': 3635, '20959': 3636, '20960': 3637, '20966': 3638, '20974': 3639, '20980': 3640, '20983': 3641, '20986': 3642, '20988': 3643, '2099': 3644, '20993': 3645, '21000': 3646, '21005': 3647, '21017': 3648, '21018': 3649, '21021': 3650, '21025': 3651, '21027': 3652, '2103': 3653, '21049': 3654, '21051': 3655, '21053': 3656, '21061': 3657, '21069': 3658, '21070': 3659, '21072': 3660, '21073': 3661, '21074': 3662, '21077': 3663, '21083': 3664, '2109': 3665, '21096': 3666, '21103': 3667, '21112': 3668, '21113': 3669, '21115': 3670, '21117': 3671, '21129': 3672, '21137': 3673, '21139': 3674, '21141': 3675, '21144': 3676, '21146': 3677, '21150': 3678, '21156': 3679, '21157': 3680, '2116': 3681, '21160': 3682, '21162': 3683, '21168': 3684, '21169': 3685, '2117': 3686, '21178': 3687, '2118': 3688, '21180': 3689, '21182': 3690, '2119': 3691, '21190': 3692, '21193': 3693, '21196': 3694, '21208': 3695, '21209': 3696, '21211': 3697, '21216': 3698, '21219': 3699, '21225': 3700, '21227': 3701, '21228': 3702, '21229': 3703, '21230': 3704, '21241': 3705, '21251': 3706, '21253': 3707, '21263': 3708, '21266': 3709, '21274': 3710, '21278': 3711, '21284': 3712, '21289': 3713, '2129': 3714, '21292': 3715, '21297': 3716, '21299': 3717, '21300': 3718, '21305': 3719, '21307': 3720, '21313': 3721, '2132': 3722, '21320': 3723, '21324': 3724, '21337': 3725, '2134': 3726, '2135': 3727, '21354': 3728, '21355': 3729, '21357': 3730, '21358': 3731, '21359': 3732, '21362': 3733, '21366': 3734, '21367': 3735, '21370': 3736, '21377': 3737, '21378': 3738, '21379': 3739, '21383': 3740, '21387': 3741, '2139': 3742, '21392': 3743, '21393': 3744, '21399': 3745, '21403': 3746, '21405': 3747, '2141': 3748, '21410': 3749, '21411': 3750, '21418': 3751, '21419': 3752, '21424': 3753, '2143': 3754, '21433': 3755, '21435': 3756, '21436': 3757, '21441': 3758, '21443': 3759, '21448': 3760, '21451': 3761, '21452': 3762, '2146': 3763, '21461': 3764, '21479': 3765, '2148': 3766, '21481': 3767, '21488': 3768, '21503': 3769, '2151': 3770, '21515': 3771, '21522': 3772, '21527': 3773, '21529': 3774, '21530': 3775, '21532': 3776, '21538': 3777, '21543': 3778, '21544': 3779, '2155': 3780, '21552': 3781, '21553': 3782, '21558': 3783, '21559': 3784, '21560': 3785, '21563': 3786, '21565': 3787, '2157': 3788, '21579': 3789, '21588': 3790, '21593': 3791, '216': 3792, '21608': 3793, '21610': 3794, '21611': 3795, '21618': 3796, '2162': 3797, '21623': 3798, '21629': 3799, '2163': 3800, '21638': 3801, '21646': 3802, '21653': 3803, '21655': 3804, '21656': 3805, '2166': 3806, '21667': 3807, '21668': 3808, '21669': 3809, '21676': 3810, '21688': 3811, '21695': 3812, '2170': 3813, '21700': 3814, '21702': 3815, '21708': 3816, '21717': 3817, '21727': 3818, '21736': 3819, '21738': 3820, '2174': 3821, '21740': 3822, '21749': 3823, '21754': 3824, '21755': 3825, '21756': 3826, '21757': 3827, '21761': 3828, '21764': 3829, '21767': 3830, '21769': 3831, '21770': 3832, '21775': 3833, '21776': 3834, '21778': 3835, '21781': 3836, '21783': 3837, '21784': 3838, '21786': 3839, '21787': 3840, '21788': 3841, '21791': 3842, '21793': 3843, '21797': 3844, '21798': 3845, '21803': 3846, '21805': 3847, '21809': 3848, '21810': 3849, '21811': 3850, '21816': 3851, '21817': 3852, '21821': 3853, '21823': 3854, '21824': 3855, '21827': 3856, '21828': 3857, '21829': 3858, '21832': 3859, '21835': 3860, '21837': 3861, '21841': 3862, '21844': 3863, '21851': 3864, '21852': 3865, '21854': 3866, '21855': 3867, '21858': 3868, '21859': 3869, '21862': 3870, '21864': 3871, '21866': 3872, '2187': 3873, '21872': 3874, '21879': 3875, '2188': 3876, '21882': 3877, '21885': 3878, '21886': 3879, '21889': 3880, '2189': 3881, '21894': 3882, '21895': 3883, '21896': 3884, '21897': 3885, '21898': 3886, '21902': 3887, '21903': 3888, '21909': 3889, '21910': 3890, '21911': 3891, '21914': 3892, '21916': 3893, '21920': 3894, '21926': 3895, '21928': 3896, '21929': 3897, '2193': 3898, '21932': 3899, '21933': 3900, '21934': 3901, '21935': 3902, '21936': 3903, '21939': 3904, '21943': 3905, '21946': 3906, '2195': 3907, '21952': 3908, '21954': 3909, '21955': 3910, '21957': 3911, '21958': 3912, '21959': 3913, '21960': 3914, '21967': 3915, '21968': 3916, '21969': 3917, '21972': 3918, '21973': 3919, '21975': 3920, '21976': 3921, '21978': 3922, '21979': 3923, '2198': 3924, '21980': 3925, '21982': 3926, '21984': 3927, '21985': 3928, '21987': 3929, '21988': 3930, '21989': 3931, '21992': 3932, '21996': 3933, '21997': 3934, '22001': 3935, '22006': 3936, '22010': 3937, '22013': 3938, '22015': 3939, '22017': 3940, '22019': 3941, '2202': 3942, '22020': 3943, '22021': 3944, '22022': 3945, '22023': 3946, '22025': 3947, '22026': 3948, '22028': 3949, '22033': 3950, '22034': 3951, '22037': 3952, '22039': 3953, '22043': 3954, '22046': 3955, '22047': 3956, '22049': 3957, '22050': 3958, '22051': 3959, '22053': 3960, '22055': 3961, '22060': 3962, '22061': 3963, '22062': 3964, '22063': 3965, '22064': 3966, '22065': 3967, '22066': 3968, '22068': 3969, '22072': 3970, '22076': 3971, '22077': 3972, '22079': 3973, '22082': 3974, '22084': 3975, '22088': 3976, '22090': 3977, '22091': 3978, '22092': 3979, '22093': 3980, '22094': 3981, '22101': 3982, '22102': 3983, '22103': 3984, '22104': 3985, '22105': 3986, '22107': 3987, '22108': 3988, '22109': 3989, '22114': 3990, '22118': 3991, '22119': 3992, '2212': 3993, '22122': 3994, '22125': 3995, '22128': 3996, '22129': 3997, '22133': 3998, '22137': 3999, '22147': 4000, '22150': 4001, '22153': 4002, '22162': 4003, '22165': 4004, '22167': 4005, '22170': 4006, '22173': 4007, '22178': 4008, '22180': 4009, '22181': 4010, '22182': 4011, '2219': 4012, '22190': 4013, '22193': 4014, '22195': 4015, '22198': 4016, '22199': 4017, '22202': 4018, '22206': 4019, '22208': 4020, '22209': 4021, '22214': 4022, '22215': 4023, '22216': 4024, '22217': 4025, '22219': 4026, '22222': 4027, '22224': 4028, '22225': 4029, '2223': 4030, '22231': 4031, '22236': 4032, '22237': 4033, '22239': 4034, '22240': 4035, '22245': 4036, '22246': 4037, '22248': 4038, '22255': 4039, '22258': 4040, '22261': 4041, '22263': 4042, '22264': 4043, '22266': 4044, '22267': 4045, '22268': 4046, '2227': 4047, '22273': 4048, '22275': 4049, '22288': 4050, '22289': 4051, '22290': 4052, '22291': 4053, '22300': 4054, '22302': 4055, '22307': 4056, '22315': 4057, '22316': 4058, '2232': 4059, '22321': 4060, '22322': 4061, '2233': 4062, '22332': 4063, '22333': 4064, '22334': 4065, '22336': 4066, '22339': 4067, '22340': 4068, '22343': 4069, '22348': 4070, '22349': 4071, '2235': 4072, '22350': 4073, '22351': 4074, '22357': 4075, '22358': 4076, '22359': 4077, '22361': 4078, '22365': 4079, '22367': 4080, '22369': 4081, '22370': 4082, '22373': 4083, '22380': 4084, '22386': 4085, '22387': 4086, '2239': 4087, '22390': 4088, '22394': 4089, '22400': 4090, '22401': 4091, '22403': 4092, '22404': 4093, '22408': 4094, '2241': 4095, '22412': 4096, '22415': 4097, '22416': 4098, '22419': 4099, '22423': 4100, '22424': 4101, '22426': 4102, '22427': 4103, '22428': 4104, '22434': 4105, '22436': 4106, '22445': 4107, '22447': 4108, '22451': 4109, '22452': 4110, '22456': 4111, '22458': 4112, '22461': 4113, '22463': 4114, '22468': 4115, '2247': 4116, '22470': 4117, '22474': 4118, '22477': 4119, '22479': 4120, '22480': 4121, '22481': 4122, '22482': 4123, '22484': 4124, '22486': 4125, '22488': 4126, '2249': 4127, '22494': 4128, '22496': 4129, '22497': 4130, '22499': 4131, '22501': 4132, '22502': 4133, '22505': 4134, '2251': 4135, '22510': 4136, '22514': 4137, '22516': 4138, '22521': 4139, '22523': 4140, '22529': 4141, '2253': 4142, '22530': 4143, '22531': 4144, '22533': 4145, '22535': 4146, '22536': 4147, '22539': 4148, '2254': 4149, '22546': 4150, '22547': 4151, '22550': 4152, '22553': 4153, '22556': 4154, '2256': 4155, '22563': 4156, '22565': 4157, '22566': 4158, '22567': 4159, '22569': 4160, '2257': 4161, '22570': 4162, '22571': 4163, '22575': 4164, '22577': 4165, '22578': 4166, '22579': 4167, '22581': 4168, '22582': 4169, '22584': 4170, '22588': 4171, '2259': 4172, '22593': 4173, '22594': 4174, '22595': 4175, '22596': 4176, '22599': 4177, '22600': 4178, '22602': 4179, '22604': 4180, '22605': 4181, '22612': 4182, '22613': 4183, '22614': 4184, '22618': 4185, '22621': 4186, '22623': 4187, '22624': 4188, '22626': 4189, '22629': 4190, '2263': 4191, '22631': 4192, '22632': 4193, '22633': 4194, '22639': 4195, '2264': 4196, '22641': 4197, '22644': 4198, '22649': 4199, '22657': 4200, '2266': 4201, '22660': 4202, '22661': 4203, '22669': 4204, '22673': 4205, '22678': 4206, '22681': 4207, '22689': 4208, '22692': 4209, '22694': 4210, '22696': 4211, '22698': 4212, '22699': 4213, '2270': 4214, '22700': 4215, '22703': 4216, '22704': 4217, '22706': 4218, '22707': 4219, '22708': 4220, '22715': 4221, '22716': 4222, '22719': 4223, '2272': 4224, '22722': 4225, '22723': 4226, '22725': 4227, '22728': 4228, '2273': 4229, '22731': 4230, '22732': 4231, '22737': 4232, '22738': 4233, '22739': 4234, '22743': 4235, '22747': 4236, '22748': 4237, '22750': 4238, '22751': 4239, '22755': 4240, '22756': 4241, '22758': 4242, '22760': 4243, '22761': 4244, '22764': 4245, '22769': 4246, '22771': 4247, '22774': 4248, '22776': 4249, '22777': 4250, '22779': 4251, '22785': 4252, '22787': 4253, '22790': 4254, '22792': 4255, '22793': 4256, '22796': 4257, '22799': 4258, '22804': 4259, '22805': 4260, '22808': 4261, '22815': 4262, '22819': 4263, '22820': 4264, '22821': 4265, '22823': 4266, '22825': 4267, '22848': 4268, '2285': 4269, '22855': 4270, '2289': 4271, '22891': 4272, '22901': 4273, '22904': 4274, '22907': 4275, '22916': 4276, '22917': 4277, '22920': 4278, '22922': 4279, '22939': 4280, '22940': 4281, '22944': 4282, '22947': 4283, '22948': 4284, '22955': 4285, '22961': 4286, '22962': 4287, '22963': 4288, '22967': 4289, '22968': 4290, '2297': 4291, '22982': 4292, '22992': 4293, '22996': 4294, '23000': 4295, '23005': 4296, '23022': 4297, '23030': 4298, '23033': 4299, '23036': 4300, '23037': 4301, '23040': 4302, '23042': 4303, '23045': 4304, '23046': 4305, '23054': 4306, '2306': 4307, '23060': 4308, '23062': 4309, '23065': 4310, '23067': 4311, '23068': 4312, '23081': 4313, '2309': 4314, '23095': 4315, '23098': 4316, '23099': 4317, '2310': 4318, '23104': 4319, '23107': 4320, '23111': 4321, '23113': 4322, '23114': 4323, '23115': 4324, '23118': 4325, '23119': 4326, '23121': 4327, '23128': 4328, '23129': 4329, '23137': 4330, '23141': 4331, '23143': 4332, '23148': 4333, '2315': 4334, '23159': 4335, '23160': 4336, '23164': 4337, '23167': 4338, '2317': 4339, '23171': 4340, '23172': 4341, '23175': 4342, '23180': 4343, '23181': 4344, '23198': 4345, '232': 4346, '23201': 4347, '23204': 4348, '23211': 4349, '23213': 4350, '23214': 4351, '23222': 4352, '23226': 4353, '23230': 4354, '2324': 4355, '23244': 4356, '23245': 4357, '23247': 4358, '23249': 4359, '23257': 4360, '23260': 4361, '23264': 4362, '23273': 4363, '23283': 4364, '23289': 4365, '23291': 4366, '23292': 4367, '23293': 4368, '23297': 4369, '2331': 4370, '23310': 4371, '23317': 4372, '23320': 4373, '23322': 4374, '23324': 4375, '23325': 4376, '23326': 4377, '23331': 4378, '23338': 4379, '23340': 4380, '23355': 4381, '23358': 4382, '2336': 4383, '23366': 4384, '2337': 4385, '23384': 4386, '23395': 4387, '23398': 4388, '23400': 4389, '23403': 4390, '23411': 4391, '23415': 4392, '23416': 4393, '23420': 4394, '23437': 4395, '23442': 4396, '23445': 4397, '23454': 4398, '23456': 4399, '23458': 4400, '23469': 4401, '23471': 4402, '23473': 4403, '23475': 4404, '23477': 4405, '23479': 4406, '23487': 4407, '23489': 4408, '23492': 4409, '23497': 4410, '2350': 4411, '23503': 4412, '23505': 4413, '23507': 4414, '23517': 4415, '23518': 4416, '23522': 4417, '23524': 4418, '23527': 4419, '2353': 4420, '23533': 4421, '23545': 4422, '23549': 4423, '23555': 4424, '23556': 4425, '23560': 4426, '23563': 4427, '2357': 4428, '23573': 4429, '23574': 4430, '23576': 4431, '2358': 4432, '23581': 4433, '23583': 4434, '23587': 4435, '23589': 4436, '2359': 4437, '23592': 4438, '23594': 4439, '2360': 4440, '23618': 4441, '23621': 4442, '23624': 4443, '23648': 4444, '23650': 4445, '23657': 4446, '23665': 4447, '23666': 4448, '23672': 4449, '23677': 4450, '23679': 4451, '23680': 4452, '23692': 4453, '23700': 4454, '23703': 4455, '23707': 4456, '23717': 4457, '2372': 4458, '23722': 4459, '23723': 4460, '23731': 4461, '23733': 4462, '23737': 4463, '23746': 4464, '23754': 4465, '23760': 4466, '23762': 4467, '23764': 4468, '23769': 4469, '23772': 4470, '23777': 4471, '23780': 4472, '23782': 4473, '23785': 4474, '23786': 4475, '23788': 4476, '2379': 4477, '23804': 4478, '23810': 4479, '23815': 4480, '23823': 4481, '23828': 4482, '23830': 4483, '23832': 4484, '23833': 4485, '23837': 4486, '23841': 4487, '23842': 4488, '23843': 4489, '23844': 4490, '23845': 4491, '23848': 4492, '23849': 4493, '23851': 4494, '23856': 4495, '23860': 4496, '23861': 4497, '23862': 4498, '23866': 4499, '23869': 4500, '23870': 4501, '23871': 4502, '23873': 4503, '23877': 4504, '23878': 4505, '23880': 4506, '23883': 4507, '23884': 4508, '23885': 4509, '23886': 4510, '23888': 4511, '2389': 4512, '23891': 4513, '23894': 4514, '23895': 4515, '23897': 4516, '23898': 4517, '23899': 4518, '23902': 4519, '23904': 4520, '2391': 4521, '23911': 4522, '23912': 4523, '23914': 4524, '23915': 4525, '23916': 4526, '23918': 4527, '2392': 4528, '23922': 4529, '23924': 4530, '23925': 4531, '23926': 4532, '23928': 4533, '23931': 4534, '23933': 4535, '23936': 4536, '2394': 4537, '23943': 4538, '23945': 4539, '23947': 4540, '23949': 4541, '23951': 4542, '23952': 4543, '23954': 4544, '23956': 4545, '23965': 4546, '23966': 4547, '23967': 4548, '23970': 4549, '23971': 4550, '23972': 4551, '23975': 4552, '23979': 4553, '23984': 4554, '23985': 4555, '23987': 4556, '23988': 4557, '23992': 4558, '23994': 4559, '23995': 4560, '23997': 4561, '23998': 4562, '23999': 4563, '24000': 4564, '24003': 4565, '24006': 4566, '24007': 4567, '24010': 4568, '24011': 4569, '24012': 4570, '24013': 4571, '24015': 4572, '24018': 4573, '24022': 4574, '24023': 4575, '24027': 4576, '24028': 4577, '2403': 4578, '24038': 4579, '24039': 4580, '2404': 4581, '24040': 4582, '24044': 4583, '24046': 4584, '24047': 4585, '24048': 4586, '24052': 4587, '24053': 4588, '24055': 4589, '24057': 4590, '24061': 4591, '24066': 4592, '24067': 4593, '24069': 4594, '24076': 4595, '2408': 4596, '24085': 4597, '24086': 4598, '24088': 4599, '2409': 4600, '24090': 4601, '24091': 4602, '24093': 4603, '24094': 4604, '24095': 4605, '24096': 4606, '24097': 4607, '2410': 4608, '24100': 4609, '24102': 4610, '24104': 4611, '24108': 4612, '24111': 4613, '24113': 4614, '24114': 4615, '24117': 4616, '24118': 4617, '24119': 4618, '2412': 4619, '24122': 4620, '24127': 4621, '2413': 4622, '24130': 4623, '24132': 4624, '24135': 4625, '24137': 4626, '24141': 4627, '24143': 4628, '24144': 4629, '24145': 4630, '24148': 4631, '24149': 4632, '2415': 4633, '24151': 4634, '24152': 4635, '24155': 4636, '24156': 4637, '24163': 4638, '24164': 4639, '24167': 4640, '24171': 4641, '24177': 4642, '24178': 4643, '24186': 4644, '24191': 4645, '24194': 4646, '24197': 4647, '24198': 4648, '24202': 4649, '24204': 4650, '24208': 4651, '24209': 4652, '24213': 4653, '24214': 4654, '24215': 4655, '24221': 4656, '24222': 4657, '24224': 4658, '24227': 4659, '24229': 4660, '2423': 4661, '24230': 4662, '24231': 4663, '24233': 4664, '24235': 4665, '24236': 4666, '24237': 4667, '24239': 4668, '24240': 4669, '24245': 4670, '24246': 4671, '24247': 4672, '24248': 4673, '24250': 4674, '24253': 4675, '24257': 4676, '2426': 4677, '24260': 4678, '24262': 4679, '24266': 4680, '24269': 4681, '24271': 4682, '24272': 4683, '24277': 4684, '24278': 4685, '24284': 4686, '24286': 4687, '24289': 4688, '24291': 4689, '24293': 4690, '24295': 4691, '24296': 4692, '24298': 4693, '243': 4694, '24305': 4695, '24306': 4696, '24307': 4697, '24309': 4698, '24311': 4699, '24313': 4700, '24314': 4701, '24317': 4702, '24319': 4703, '24320': 4704, '24325': 4705, '2433': 4706, '24333': 4707, '24334': 4708, '24336': 4709, '24338': 4710, '24340': 4711, '24341': 4712, '24347': 4713, '24349': 4714, '24352': 4715, '24356': 4716, '24359': 4717, '24360': 4718, '24361': 4719, '24362': 4720, '24363': 4721, '24364': 4722, '24365': 4723, '24368': 4724, '24369': 4725, '2437': 4726, '24371': 4727, '24372': 4728, '24373': 4729, '24374': 4730, '24375': 4731, '24378': 4732, '24379': 4733, '24380': 4734, '24381': 4735, '24382': 4736, '24383': 4737, '24385': 4738, '2439': 4739, '24390': 4740, '24391': 4741, '24394': 4742, '2440': 4743, '24403': 4744, '24411': 4745, '24415': 4746, '24418': 4747, '2442': 4748, '24420': 4749, '24422': 4750, '24423': 4751, '24424': 4752, '24428': 4753, '2443': 4754, '24430': 4755, '24431': 4756, '24440': 4757, '24447': 4758, '2445': 4759, '24455': 4760, '24457': 4761, '24463': 4762, '24466': 4763, '24469': 4764, '24471': 4765, '24476': 4766, '24480': 4767, '24481': 4768, '24483': 4769, '24484': 4770, '24492': 4771, '24493': 4772, '24497': 4773, '24498': 4774, '24502': 4775, '24503': 4776, '24505': 4777, '24507': 4778, '24508': 4779, '2451': 4780, '24512': 4781, '24513': 4782, '24514': 4783, '24515': 4784, '24516': 4785, '24518': 4786, '24521': 4787, '24525': 4788, '24527': 4789, '24528': 4790, '24530': 4791, '24531': 4792, '24533': 4793, '24539': 4794, '2454': 4795, '24544': 4796, '24546': 4797, '24551': 4798, '24552': 4799, '24553': 4800, '24559': 4801, '2456': 4802, '24560': 4803, '24561': 4804, '24562': 4805, '24567': 4806, '24568': 4807, '24570': 4808, '24571': 4809, '24574': 4810, '24578': 4811, '24580': 4812, '24584': 4813, '24585': 4814, '24586': 4815, '24592': 4816, '24596': 4817, '24598': 4818, '2460': 4819, '24603': 4820, '24604': 4821, '24605': 4822, '24607': 4823, '24608': 4824, '24610': 4825, '24611': 4826, '24612': 4827, '24613': 4828, '24614': 4829, '24615': 4830, '24616': 4831, '2462': 4832, '24622': 4833, '24623': 4834, '24626': 4835, '24627': 4836, '24630': 4837, '24632': 4838, '24634': 4839, '24637': 4840, '24638': 4841, '24643': 4842, '24646': 4843, '24648': 4844, '24649': 4845, '24650': 4846, '24652': 4847, '24653': 4848, '24658': 4849, '2466': 4850, '24660': 4851, '24662': 4852, '24663': 4853, '24669': 4854, '24670': 4855, '24674': 4856, '24676': 4857, '24677': 4858, '24678': 4859, '24685': 4860, '24688': 4861, '24691': 4862, '24692': 4863, '24693': 4864, '24695': 4865, '24696': 4866, '24700': 4867, '24708': 4868, '2471': 4869, '24721': 4870, '24723': 4871, '24724': 4872, '2473': 4873, '24731': 4874, '24740': 4875, '24742': 4876, '24743': 4877, '24744': 4878, '24745': 4879, '24746': 4880, '24747': 4881, '24748': 4882, '2475': 4883, '24751': 4884, '24752': 4885, '24759': 4886, '24760': 4887, '24762': 4888, '24764': 4889, '24765': 4890, '24766': 4891, '24767': 4892, '24771': 4893, '24772': 4894, '24773': 4895, '24774': 4896, '24779': 4897, '24788': 4898, '24790': 4899, '24793': 4900, '24794': 4901, '24795': 4902, '24799': 4903, '24806': 4904, '24807': 4905, '2481': 4906, '24812': 4907, '24814': 4908, '24815': 4909, '24817': 4910, '24818': 4911, '2482': 4912, '24822': 4913, '24824': 4914, '24825': 4915, '24826': 4916, '24831': 4917, '24832': 4918, '24834': 4919, '24835': 4920, '24837': 4921, '24841': 4922, '24842': 4923, '24844': 4924, '24846': 4925, '24848': 4926, '24849': 4927, '24851': 4928, '24853': 4929, '24854': 4930, '24855': 4931, '24857': 4932, '24866': 4933, '2487': 4934, '24870': 4935, '24880': 4936, '24881': 4937, '24883': 4938, '24885': 4939, '24887': 4940, '24898': 4941, '24906': 4942, '24908': 4943, '2491': 4944, '2492': 4945, '24927': 4946, '2493': 4947, '24953': 4948, '24954': 4949, '24963': 4950, '24964': 4951, '24974': 4952, '24983': 4953, '24986': 4954, '24992': 4955, '24996': 4956, '24998': 4957, '25001': 4958, '25004': 4959, '25007': 4960, '25012': 4961, '25013': 4962, '25014': 4963, '25015': 4964, '25019': 4965, '25021': 4966, '25024': 4967, '25027': 4968, '25029': 4969, '25030': 4970, '25037': 4971, '25041': 4972, '25044': 4973, '25048': 4974, '25051': 4975, '25053': 4976, '25056': 4977, '25058': 4978, '25060': 4979, '25064': 4980, '25065': 4981, '25068': 4982, '25072': 4983, '25074': 4984, '25076': 4985, '25077': 4986, '25078': 4987, '25083': 4988, '25100': 4989, '25104': 4990, '25105': 4991, '25116': 4992, '2512': 4993, '25121': 4994, '25127': 4995, '25133': 4996, '25138': 4997, '2514': 4998, '25140': 4999, '25149': 5000, '25159': 5001, '2516': 5002, '25161': 5003, '25172': 5004, '25173': 5005, '25178': 5006, '25179': 5007, '25181': 5008, '25185': 5009, '25190': 5010, '25191': 5011, '25200': 5012, '2521': 5013, '25210': 5014, '25213': 5015, '25216': 5016, '25220': 5017, '25226': 5018, '25228': 5019, '2523': 5020, '25230': 5021, '25243': 5022, '25246': 5023, '25247': 5024, '25249': 5025, '2525': 5026, '25253': 5027, '25254': 5028, '25256': 5029, '25266': 5030, '25268': 5031, '25278': 5032, '25280': 5033, '25284': 5034, '25286': 5035, '25292': 5036, '25297': 5037, '2531': 5038, '25313': 5039, '25314': 5040, '25318': 5041, '25319': 5042, '2532': 5043, '25327': 5044, '25328': 5045, '25329': 5046, '25332': 5047, '25338': 5048, '25341': 5049, '25346': 5050, '25348': 5051, '2535': 5052, '25358': 5053, '25359': 5054, '25360': 5055, '25361': 5056, '25363': 5057, '25365': 5058, '25371': 5059, '25381': 5060, '25382': 5061, '25386': 5062, '25388': 5063, '25394': 5064, '25396': 5065, '25398': 5066, '25400': 5067, '25411': 5068, '25413': 5069, '25416': 5070, '25418': 5071, '25419': 5072, '25421': 5073, '25423': 5074, '25451': 5075, '25453': 5076, '25457': 5077, '25459': 5078, '25466': 5079, '25472': 5080, '25475': 5081, '2548': 5082, '25483': 5083, '25485': 5084, '25486': 5085, '25493': 5086, '25498': 5087, '255': 5088, '2550': 5089, '2551': 5090, '25512': 5091, '25519': 5092, '25520': 5093, '25521': 5094, '25522': 5095, '25526': 5096, '25530': 5097, '25537': 5098, '25538': 5099, '25546': 5100, '25547': 5101, '25557': 5102, '25558': 5103, '25564': 5104, '25571': 5105, '25574': 5106, '25581': 5107, '25582': 5108, '25587': 5109, '25590': 5110, '25595': 5111, '25600': 5112, '25603': 5113, '25605': 5114, '25608': 5115, '25613': 5116, '25621': 5117, '25630': 5118, '25637': 5119, '25640': 5120, '25645': 5121, '25646': 5122, '25651': 5123, '25653': 5124, '25655': 5125, '25656': 5126, '25660': 5127, '25661': 5128, '25667': 5129, '25668': 5130, '25673': 5131, '25677': 5132, '25684': 5133, '25685': 5134, '25688': 5135, '25692': 5136, '2570': 5137, '25701': 5138, '25705': 5139, '25711': 5140, '25717': 5141, '25718': 5142, '25719': 5143, '25720': 5144, '25726': 5145, '25727': 5146, '2573': 5147, '25750': 5148, '25753': 5149, '25758': 5150, '2576': 5151, '25763': 5152, '25775': 5153, '25776': 5154, '25777': 5155, '25794': 5156, '25806': 5157, '25809': 5158, '2581': 5159, '25812': 5160, '25815': 5161, '25816': 5162, '25820': 5163, '25823': 5164, '25832': 5165, '25834': 5166, '25835': 5167, '2584': 5168, '25860': 5169, '25861': 5170, '25867': 5171, '25872': 5172, '2588': 5173, '25884': 5174, '25888': 5175, '25889': 5176, '2589': 5177, '25892': 5178, '25899': 5179, '2590': 5180, '25901': 5181, '25902': 5182, '25903': 5183, '25908': 5184, '25914': 5185, '25915': 5186, '25916': 5187, '25918': 5188, '25922': 5189, '25935': 5190, '25936': 5191, '25939': 5192, '25945': 5193, '2595': 5194, '25952': 5195, '25953': 5196, '25955': 5197, '25956': 5198, '25958': 5199, '25960': 5200, '25961': 5201, '25964': 5202, '25969': 5203, '2597': 5204, '25971': 5205, '25972': 5206, '25976': 5207, '25978': 5208, '25979': 5209, '25981': 5210, '25982': 5211, '25985': 5212, '25992': 5213, '25997': 5214, '25999': 5215, '26': 5216, '2600': 5217, '26001': 5218, '26006': 5219, '26007': 5220, '26009': 5221, '26016': 5222, '26017': 5223, '26022': 5224, '26023': 5225, '26026': 5226, '26028': 5227, '26032': 5228, '26035': 5229, '26042': 5230, '26044': 5231, '26046': 5232, '2605': 5233, '26055': 5234, '26058': 5235, '2606': 5236, '26060': 5237, '26070': 5238, '26072': 5239, '26073': 5240, '26080': 5241, '26084': 5242, '2609': 5243, '26093': 5244, '26096': 5245, '26098': 5246, '26100': 5247, '26101': 5248, '26102': 5249, '26104': 5250, '26107': 5251, '26109': 5252, '2611': 5253, '26110': 5254, '26111': 5255, '26112': 5256, '26117': 5257, '2612': 5258, '26120': 5259, '26122': 5260, '26126': 5261, '26128': 5262, '26129': 5263, '26131': 5264, '26132': 5265, '26134': 5266, '26135': 5267, '2614': 5268, '26140': 5269, '26142': 5270, '26146': 5271, '26148': 5272, '26149': 5273, '26153': 5274, '26154': 5275, '26157': 5276, '26159': 5277, '26161': 5278, '26163': 5279, '26164': 5280, '26167': 5281, '26169': 5282, '26173': 5283, '26174': 5284, '26180': 5285, '26182': 5286, '2619': 5287, '26190': 5288, '26192': 5289, '26194': 5290, '26197': 5291, '26198': 5292, '26203': 5293, '26204': 5294, '2621': 5295, '26214': 5296, '26217': 5297, '26218': 5298, '26219': 5299, '26221': 5300, '26223': 5301, '26226': 5302, '2623': 5303, '26233': 5304, '26236': 5305, '26237': 5306, '26241': 5307, '26243': 5308, '26244': 5309, '26245': 5310, '26246': 5311, '26247': 5312, '26250': 5313, '26251': 5314, '26252': 5315, '26253': 5316, '26254': 5317, '26257': 5318, '26259': 5319, '26261': 5320, '26262': 5321, '26264': 5322, '26267': 5323, '26268': 5324, '2627': 5325, '26278': 5326, '2628': 5327, '26283': 5328, '26286': 5329, '26288': 5330, '26296': 5331, '26297': 5332, '26299': 5333, '26301': 5334, '26302': 5335, '26303': 5336, '26306': 5337, '26309': 5338, '26311': 5339, '26312': 5340, '26316': 5341, '26318': 5342, '2632': 5343, '26321': 5344, '26322': 5345, '26324': 5346, '26326': 5347, '2633': 5348, '26334': 5349, '26341': 5350, '26343': 5351, '26345': 5352, '2635': 5353, '26356': 5354, '26359': 5355, '26364': 5356, '26370': 5357, '26375': 5358, '26377': 5359, '26378': 5360, '26381': 5361, '26383': 5362, '26385': 5363, '26386': 5364, '26388': 5365, '26389': 5366, '26391': 5367, '26394': 5368, '26399': 5369, '26400': 5370, '26401': 5371, '26402': 5372, '26404': 5373, '26407': 5374, '26409': 5375, '2641': 5376, '26410': 5377, '26411': 5378, '26418': 5379, '26421': 5380, '26425': 5381, '26426': 5382, '26427': 5383, '26431': 5384, '26439': 5385, '2644': 5386, '26443': 5387, '26444': 5388, '26447': 5389, '26451': 5390, '26452': 5391, '26455': 5392, '26458': 5393, '26460': 5394, '26464': 5395, '26471': 5396, '26472': 5397, '26474': 5398, '26476': 5399, '26477': 5400, '26480': 5401, '26482': 5402, '26484': 5403, '26485': 5404, '26487': 5405, '26488': 5406, '26491': 5407, '26492': 5408, '26499': 5409, '2650': 5410, '26506': 5411, '26507': 5412, '26510': 5413, '26511': 5414, '26512': 5415, '26515': 5416, '26516': 5417, '26519': 5418, '26520': 5419, '26521': 5420, '26526': 5421, '26527': 5422, '26535': 5423, '26536': 5424, '26542': 5425, '26543': 5426, '26546': 5427, '26549': 5428, '26551': 5429, '26553': 5430, '26555': 5431, '26556': 5432, '26557': 5433, '26561': 5434, '26562': 5435, '26565': 5436, '26566': 5437, '26573': 5438, '26575': 5439, '26576': 5440, '26577': 5441, '26579': 5442, '26581': 5443, '26583': 5444, '26584': 5445, '26585': 5446, '26589': 5447, '26598': 5448, '266': 5449, '26602': 5450, '26603': 5451, '26604': 5452, '26605': 5453, '26613': 5454, '26618': 5455, '26621': 5456, '26624': 5457, '26628': 5458, '26630': 5459, '26638': 5460, '26642': 5461, '26643': 5462, '26645': 5463, '26651': 5464, '26655': 5465, '26657': 5466, '26659': 5467, '26663': 5468, '26665': 5469, '26666': 5470, '26667': 5471, '26670': 5472, '26674': 5473, '26675': 5474, '26676': 5475, '26678': 5476, '26682': 5477, '26683': 5478, '26685': 5479, '26686': 5480, '26687': 5481, '2669': 5482, '26691': 5483, '26698': 5484, '26700': 5485, '26702': 5486, '26707': 5487, '26716': 5488, '26718': 5489, '26725': 5490, '26726': 5491, '26727': 5492, '2673': 5493, '26731': 5494, '26733': 5495, '26735': 5496, '26736': 5497, '26737': 5498, '26739': 5499, '26741': 5500, '26744': 5501, '26750': 5502, '26751': 5503, '26753': 5504, '26754': 5505, '26758': 5506, '26759': 5507, '26767': 5508, '26769': 5509, '26774': 5510, '26775': 5511, '26776': 5512, '26778': 5513, '26784': 5514, '26786': 5515, '26791': 5516, '26797': 5517, '26802': 5518, '26804': 5519, '26811': 5520, '26816': 5521, '26825': 5522, '26830': 5523, '26832': 5524, '26835': 5525, '26837': 5526, '26838': 5527, '26843': 5528, '26846': 5529, '26847': 5530, '26848': 5531, '26854': 5532, '26857': 5533, '26858': 5534, '26859': 5535, '26860': 5536, '26866': 5537, '26872': 5538, '26878': 5539, '26884': 5540, '26890': 5541, '26899': 5542, '26906': 5543, '26907': 5544, '26909': 5545, '26910': 5546, '26915': 5547, '26916': 5548, '26917': 5549, '26920': 5550, '26923': 5551, '26928': 5552, '26929': 5553, '2693': 5554, '26931': 5555, '26933': 5556, '26938': 5557, '26939': 5558, '26940': 5559, '26942': 5560, '26943': 5561, '26944': 5562, '26945': 5563, '26949': 5564, '26956': 5565, '26960': 5566, '26961': 5567, '26964': 5568, '26968': 5569, '26971': 5570, '26973': 5571, '26974': 5572, '26977': 5573, '26978': 5574, '26980': 5575, '26981': 5576, '26989': 5577, '26992': 5578, '26994': 5579, '26998': 5580, '27': 5581, '27003': 5582, '27005': 5583, '27006': 5584, '27009': 5585, '2701': 5586, '27010': 5587, '27016': 5588, '27018': 5589, '27021': 5590, '27028': 5591, '27029': 5592, '2703': 5593, '27035': 5594, '27037': 5595, '27038': 5596, '27041': 5597, '27042': 5598, '27045': 5599, '27047': 5600, '27049': 5601, '27050': 5602, '27057': 5603, '27058': 5604, '27067': 5605, '27084': 5606, '27087': 5607, '27094': 5608, '27100': 5609, '27103': 5610, '27104': 5611, '27105': 5612, '2711': 5613, '27111': 5614, '27114': 5615, '27116': 5616, '27118': 5617, '27120': 5618, '27126': 5619, '27128': 5620, '2713': 5621, '27132': 5622, '27133': 5623, '27134': 5624, '27136': 5625, '27140': 5626, '27143': 5627, '27144': 5628, '27149': 5629, '27150': 5630, '27155': 5631, '27156': 5632, '27161': 5633, '27162': 5634, '27164': 5635, '27165': 5636, '27168': 5637, '27172': 5638, '27173': 5639, '27177': 5640, '27185': 5641, '27186': 5642, '27187': 5643, '27189': 5644, '27190': 5645, '27191': 5646, '27193': 5647, '27197': 5648, '27199': 5649, '27200': 5650, '27209': 5651, '2721': 5652, '27214': 5653, '27221': 5654, '27225': 5655, '2723': 5656, '27230': 5657, '27234': 5658, '27235': 5659, '27239': 5660, '2724': 5661, '27240': 5662, '27243': 5663, '27250': 5664, '27252': 5665, '27254': 5666, '27262': 5667, '27263': 5668, '27268': 5669, '2727': 5670, '27270': 5671, '27271': 5672, '27272': 5673, '27273': 5674, '27280': 5675, '27281': 5676, '27284': 5677, '27285': 5678, '27292': 5679, '27293': 5680, '27294': 5681, '27296': 5682, '27302': 5683, '27306': 5684, '27311': 5685, '27312': 5686, '27316': 5687, '27318': 5688, '27319': 5689, '27321': 5690, '27322': 5691, '27323': 5692, '27325': 5693, '27326': 5694, '27327': 5695, '2733': 5696, '27330': 5697, '27331': 5698, '27336': 5699, '27338': 5700, '27339': 5701, '27340': 5702, '27341': 5703, '27343': 5704, '27344': 5705, '27345': 5706, '27349': 5707, '27351': 5708, '27358': 5709, '2736': 5710, '27361': 5711, '27362': 5712, '27367': 5713, '27371': 5714, '27372': 5715, '27374': 5716, '27376': 5717, '27379': 5718, '27382': 5719, '27385': 5720, '2739': 5721, '27391': 5722, '27392': 5723, '27393': 5724, '27398': 5725, '27400': 5726, '27402': 5727, '27406': 5728, '27409': 5729, '27410': 5730, '27415': 5731, '27420': 5732, '27421': 5733, '27422': 5734, '27429': 5735, '27431': 5736, '27432': 5737, '27434': 5738, '27436': 5739, '27437': 5740, '27438': 5741, '27440': 5742, '27446': 5743, '2745': 5744, '27456': 5745, '27462': 5746, '27464': 5747, '27465': 5748, '27469': 5749, '2747': 5750, '27472': 5751, '27484': 5752, '27485': 5753, '27489': 5754, '27491': 5755, '27495': 5756, '27496': 5757, '27497': 5758, '2750': 5759, '27501': 5760, '27502': 5761, '27504': 5762, '27506': 5763, '27508': 5764, '27511': 5765, '27512': 5766, '27513': 5767, '27515': 5768, '27517': 5769, '27519': 5770, '27520': 5771, '27522': 5772, '27525': 5773, '27529': 5774, '27533': 5775, '27535': 5776, '27536': 5777, '27537': 5778, '27539': 5779, '27540': 5780, '27542': 5781, '27543': 5782, '27545': 5783, '27546': 5784, '27547': 5785, '27548': 5786, '27549': 5787, '27552': 5788, '27555': 5789, '27556': 5790, '27561': 5791, '27565': 5792, '27581': 5793, '27590': 5794, '276': 5795, '2760': 5796, '27602': 5797, '27604': 5798, '27610': 5799, '27613': 5800, '27615': 5801, '27625': 5802, '27627': 5803, '2763': 5804, '27630': 5805, '27632': 5806, '27635': 5807, '27638': 5808, '2765': 5809, '27651': 5810, '27653': 5811, '27660': 5812, '2767': 5813, '27670': 5814, '27675': 5815, '27703': 5816, '27706': 5817, '27707': 5818, '27709': 5819, '27714': 5820, '27718': 5821, '27719': 5822, '27721': 5823, '27722': 5824, '27723': 5825, '27724': 5826, '27726': 5827, '27729': 5828, '27740': 5829, '27743': 5830, '27744': 5831, '27750': 5832, '27756': 5833, '27766': 5834, '27767': 5835, '2777': 5836, '27778': 5837, '27789': 5838, '27800': 5839, '27802': 5840, '2782': 5841, '27829': 5842, '27841': 5843, '27842': 5844, '27844': 5845, '27846': 5846, '27855': 5847, '27856': 5848, '27860': 5849, '27867': 5850, '27869': 5851, '27870': 5852, '27874': 5853, '27875': 5854, '27883': 5855, '27887': 5856, '27888': 5857, '27890': 5858, '27891': 5859, '27897': 5860, '27898': 5861, '27899': 5862, '27901': 5863, '27902': 5864, '27903': 5865, '27907': 5866, '27917': 5867, '27923': 5868, '27926': 5869, '27931': 5870, '27932': 5871, '27934': 5872, '27935': 5873, '27937': 5874, '2794': 5875, '27945': 5876, '2795': 5877, '27951': 5878, '2796': 5879, '27960': 5880, '27961': 5881, '27964': 5882, '27965': 5883, '27966': 5884, '27979': 5885, '27980': 5886, '27981': 5887, '27984': 5888, '27985': 5889, '27987': 5890, '27991': 5891, '27992': 5892, '27993': 5893, '27995': 5894, '28000': 5895, '28003': 5896, '28008': 5897, '28011': 5898, '28014': 5899, '28017': 5900, '28019': 5901, '2802': 5902, '28024': 5903, '2803': 5904, '28030': 5905, '28036': 5906, '28039': 5907, '28040': 5908, '28041': 5909, '28046': 5910, '28051': 5911, '28052': 5912, '28056': 5913, '28058': 5914, '2806': 5915, '28065': 5916, '28068': 5917, '28069': 5918, '28071': 5919, '28079': 5920, '28080': 5921, '28086': 5922, '28090': 5923, '28091': 5924, '28098': 5925, '28100': 5926, '28101': 5927, '28102': 5928, '28103': 5929, '28108': 5930, '28109': 5931, '28112': 5932, '28114': 5933, '28118': 5934, '28119': 5935, '28121': 5936, '28123': 5937, '28124': 5938, '28127': 5939, '28129': 5940, '28130': 5941, '28131': 5942, '28132': 5943, '28134': 5944, '28135': 5945, '28137': 5946, '28138': 5947, '28140': 5948, '28141': 5949, '28144': 5950, '28148': 5951, '28150': 5952, '28152': 5953, '28153': 5954, '28155': 5955, '28157': 5956, '2816': 5957, '28163': 5958, '28164': 5959, '28166': 5960, '28169': 5961, '2817': 5962, '28171': 5963, '28173': 5964, '28174': 5965, '28180': 5966, '28181': 5967, '28186': 5968, '28189': 5969, '28191': 5970, '28196': 5971, '28197': 5972, '28198': 5973, '28199': 5974, '282': 5975, '28200': 5976, '28206': 5977, '28209': 5978, '2821': 5979, '28210': 5980, '28212': 5981, '28215': 5982, '28222': 5983, '28224': 5984, '28225': 5985, '28228': 5986, '28231': 5987, '28233': 5988, '28234': 5989, '28235': 5990, '28237': 5991, '28240': 5992, '28241': 5993, '28242': 5994, '28246': 5995, '28250': 5996, '28251': 5997, '28253': 5998, '28254': 5999, '28255': 6000, '28257': 6001, '28258': 6002, '28267': 6003, '28269': 6004, '2828': 6005, '28289': 6006, '2829': 6007, '28293': 6008, '28296': 6009, '28302': 6010, '28304': 6011, '28306': 6012, '28307': 6013, '28309': 6014, '28314': 6015, '28315': 6016, '28316': 6017, '28318': 6018, '28320': 6019, '28324': 6020, '28329': 6021, '28332': 6022, '28336': 6023, '28338': 6024, '28348': 6025, '2835': 6026, '28350': 6027, '28351': 6028, '28353': 6029, '28358': 6030, '28359': 6031, '28360': 6032, '28366': 6033, '28369': 6034, '28370': 6035, '28373': 6036, '28376': 6037, '28380': 6038, '28389': 6039, '28390': 6040, '28393': 6041, '28399': 6042, '2840': 6043, '28400': 6044, '28402': 6045, '28403': 6046, '28405': 6047, '28408': 6048, '28409': 6049, '28411': 6050, '28413': 6051, '28415': 6052, '28416': 6053, '28420': 6054, '28421': 6055, '28424': 6056, '28425': 6057, '28427': 6058, '28429': 6059, '28432': 6060, '28436': 6061, '28439': 6062, '28443': 6063, '28445': 6064, '2845': 6065, '28450': 6066, '28454': 6067, '28455': 6068, '28457': 6069, '28458': 6070, '28459': 6071, '2846': 6072, '28464': 6073, '28465': 6074, '28470': 6075, '28472': 6076, '28474': 6077, '28475': 6078, '28476': 6079, '28478': 6080, '28479': 6081, '28480': 6082, '28482': 6083, '28483': 6084, '28488': 6085, '28489': 6086, '28491': 6087, '28492': 6088, '28495': 6089, '2850': 6090, '28500': 6091, '28503': 6092, '28505': 6093, '28506': 6094, '28510': 6095, '28513': 6096, '28518': 6097, '28519': 6098, '28520': 6099, '28521': 6100, '28524': 6101, '28525': 6102, '28527': 6103, '2853': 6104, '28532': 6105, '28538': 6106, '28542': 6107, '28543': 6108, '2855': 6109, '28553': 6110, '28554': 6111, '28555': 6112, '28558': 6113, '2856': 6114, '28565': 6115, '28567': 6116, '28568': 6117, '28569': 6118, '2857': 6119, '28573': 6120, '28575': 6121, '28576': 6122, '28583': 6123, '28588': 6124, '28589': 6125, '28592': 6126, '28594': 6127, '28598': 6128, '28599': 6129, '28600': 6130, '28604': 6131, '28606': 6132, '28607': 6133, '28612': 6134, '28613': 6135, '28616': 6136, '28617': 6137, '28619': 6138, '28626': 6139, '28627': 6140, '28629': 6141, '28630': 6142, '28632': 6143, '28636': 6144, '28642': 6145, '28643': 6146, '28645': 6147, '28646': 6148, '28650': 6149, '28651': 6150, '28656': 6151, '28661': 6152, '28664': 6153, '2867': 6154, '28671': 6155, '28672': 6156, '28675': 6157, '28679': 6158, '28680': 6159, '28682': 6160, '28683': 6161, '28686': 6162, '28688': 6163, '2869': 6164, '28690': 6165, '28691': 6166, '28695': 6167, '28697': 6168, '28698': 6169, '287': 6170, '28702': 6171, '28703': 6172, '28704': 6173, '28705': 6174, '2871': 6175, '28712': 6176, '28714': 6177, '28719': 6178, '28721': 6179, '28722': 6180, '28726': 6181, '28727': 6182, '2873': 6183, '28730': 6184, '28734': 6185, '28737': 6186, '28743': 6187, '28745': 6188, '28751': 6189, '28752': 6190, '28753': 6191, '28755': 6192, '28756': 6193, '28757': 6194, '28759': 6195, '28765': 6196, '28766': 6197, '28768': 6198, '28770': 6199, '28772': 6200, '28773': 6201, '28774': 6202, '28779': 6203, '28780': 6204, '28783': 6205, '28787': 6206, '28790': 6207, '28792': 6208, '28793': 6209, '28796': 6210, '28798': 6211, '28800': 6212, '28802': 6213, '28803': 6214, '28804': 6215, '28807': 6216, '28808': 6217, '2881': 6218, '28812': 6219, '28814': 6220, '28816': 6221, '28820': 6222, '28821': 6223, '28824': 6224, '28826': 6225, '28827': 6226, '28828': 6227, '28829': 6228, '28835': 6229, '28838': 6230, '2884': 6231, '28842': 6232, '28843': 6233, '28844': 6234, '28845': 6235, '28849': 6236, '28851': 6237, '28857': 6238, '28863': 6239, '28864': 6240, '28869': 6241, '28881': 6242, '28884': 6243, '28889': 6244, '2889': 6245, '28894': 6246, '28895': 6247, '28896': 6248, '28898': 6249, '28900': 6250, '28901': 6251, '28904': 6252, '28907': 6253, '28908': 6254, '28912': 6255, '28914': 6256, '28915': 6257, '28918': 6258, '28919': 6259, '28922': 6260, '28923': 6261, '28926': 6262, '28927': 6263, '2893': 6264, '28930': 6265, '28932': 6266, '28934': 6267, '28936': 6268, '28938': 6269, '28939': 6270, '28942': 6271, '28943': 6272, '28944': 6273, '28947': 6274, '2895': 6275, '28950': 6276, '28951': 6277, '28955': 6278, '28956': 6279, '28959': 6280, '2896': 6281, '28962': 6282, '28965': 6283, '28969': 6284, '28970': 6285, '28971': 6286, '28973': 6287, '28976': 6288, '28978': 6289, '28979': 6290, '28984': 6291, '28987': 6292, '28989': 6293, '28990': 6294, '28991': 6295, '28994': 6296, '28995': 6297, '28999': 6298, '29000': 6299, '29002': 6300, '29004': 6301, '29007': 6302, '29011': 6303, '29014': 6304, '29019': 6305, '29025': 6306, '29028': 6307, '29029': 6308, '29030': 6309, '29032': 6310, '2904': 6311, '29049': 6312, '2906': 6313, '29068': 6314, '29073': 6315, '29077': 6316, '2908': 6317, '29081': 6318, '2909': 6319, '29092': 6320, '29094': 6321, '29099': 6322, '2911': 6323, '29110': 6324, '29113': 6325, '2912': 6326, '29122': 6327, '29123': 6328, '29126': 6329, '29131': 6330, '2914': 6331, '29147': 6332, '29160': 6333, '29165': 6334, '29167': 6335, '29177': 6336, '2918': 6337, '29180': 6338, '29195': 6339, '29199': 6340, '29203': 6341, '29209': 6342, '29211': 6343, '29212': 6344, '29217': 6345, '29224': 6346, '29231': 6347, '29237': 6348, '2924': 6349, '29243': 6350, '29244': 6351, '29246': 6352, '29249': 6353, '29251': 6354, '29254': 6355, '29259': 6356, '29268': 6357, '29269': 6358, '29273': 6359, '29278': 6360, '29282': 6361, '29295': 6362, '293': 6363, '29301': 6364, '29311': 6365, '29313': 6366, '29314': 6367, '29317': 6368, '29319': 6369, '29329': 6370, '29343': 6371, '29346': 6372, '2935': 6373, '29350': 6374, '29353': 6375, '29354': 6376, '29355': 6377, '2936': 6378, '29367': 6379, '29371': 6380, '29372': 6381, '29376': 6382, '29378': 6383, '29380': 6384, '29387': 6385, '29389': 6386, '2939': 6387, '29393': 6388, '29403': 6389, '29410': 6390, '29414': 6391, '29416': 6392, '29418': 6393, '29419': 6394, '29423': 6395, '29425': 6396, '29426': 6397, '29430': 6398, '29431': 6399, '29436': 6400, '29442': 6401, '29445': 6402, '29451': 6403, '29457': 6404, '29463': 6405, '29465': 6406, '29482': 6407, '29488': 6408, '29495': 6409, '29506': 6410, '29510': 6411, '29512': 6412, '29513': 6413, '29515': 6414, '29516': 6415, '29520': 6416, '29521': 6417, '29540': 6418, '29542': 6419, '29547': 6420, '29548': 6421, '29568': 6422, '29569': 6423, '29570': 6424, '29576': 6425, '29578': 6426, '29594': 6427, '29599': 6428, '2960': 6429, '29611': 6430, '29614': 6431, '29619': 6432, '29620': 6433, '29624': 6434, '29634': 6435, '29639': 6436, '2964': 6437, '29642': 6438, '29653': 6439, '29659': 6440, '29661': 6441, '29678': 6442, '29680': 6443, '29689': 6444, '29690': 6445, '29692': 6446, '29704': 6447, '29714': 6448, '29721': 6449, '29722': 6450, '2973': 6451, '29730': 6452, '29731': 6453, '29733': 6454, '29735': 6455, '29743': 6456, '29745': 6457, '29751': 6458, '29752': 6459, '29756': 6460, '29759': 6461, '2976': 6462, '29765': 6463, '29769': 6464, '29777': 6465, '29779': 6466, '29782': 6467, '29788': 6468, '2980': 6469, '29802': 6470, '29810': 6471, '29813': 6472, '29817': 6473, '29821': 6474, '29827': 6475, '29829': 6476, '29830': 6477, '29833': 6478, '29838': 6479, '29841': 6480, '29858': 6481, '29869': 6482, '29871': 6483, '29872': 6484, '29875': 6485, '29877': 6486, '29879': 6487, '29880': 6488, '29883': 6489, '29884': 6490, '29889': 6491, '2989': 6492, '29894': 6493, '29899': 6494, '29901': 6495, '29902': 6496, '29907': 6497, '29909': 6498, '29917': 6499, '29922': 6500, '29927': 6501, '29932': 6502, '29936': 6503, '29948': 6504, '2995': 6505, '29951': 6506, '29953': 6507, '29961': 6508, '29962': 6509, '29967': 6510, '2998': 6511, '29983': 6512, '29984': 6513, '29986': 6514, '29996': 6515, '3000': 6516, '30002': 6517, '3001': 6518, '30015': 6519, '30019': 6520, '30020': 6521, '30024': 6522, '30028': 6523, '30029': 6524, '30041': 6525, '30044': 6526, '3005': 6527, '30054': 6528, '30058': 6529, '3006': 6530, '30062': 6531, '30064': 6532, '30068': 6533, '3007': 6534, '30075': 6535, '30078': 6536, '30079': 6537, '30080': 6538, '30083': 6539, '30093': 6540, '30096': 6541, '30098': 6542, '30099': 6543, '301': 6544, '30102': 6545, '30103': 6546, '30105': 6547, '30108': 6548, '30110': 6549, '30111': 6550, '30112': 6551, '3012': 6552, '30128': 6553, '30131': 6554, '30132': 6555, '30144': 6556, '30145': 6557, '30149': 6558, '30153': 6559, '30167': 6560, '30169': 6561, '30172': 6562, '30174': 6563, '30179': 6564, '3018': 6565, '30182': 6566, '30183': 6567, '30187': 6568, '30192': 6569, '30196': 6570, '302': 6571, '3020': 6572, '30203': 6573, '3021': 6574, '30213': 6575, '3022': 6576, '30220': 6577, '3023': 6578, '30234': 6579, '3024': 6580, '30242': 6581, '30244': 6582, '30245': 6583, '30246': 6584, '30247': 6585, '30253': 6586, '30257': 6587, '30260': 6588, '30261': 6589, '30268': 6590, '30271': 6591, '30272': 6592, '30279': 6593, '30287': 6594, '3029': 6595, '30294': 6596, '303': 6597, '30308': 6598, '30310': 6599, '30313': 6600, '30316': 6601, '30326': 6602, '30327': 6603, '30329': 6604, '30335': 6605, '30338': 6606, '30344': 6607, '30345': 6608, '30347': 6609, '30354': 6610, '30359': 6611, '30362': 6612, '30367': 6613, '3037': 6614, '30381': 6615, '30396': 6616, '30398': 6617, '30408': 6618, '30411': 6619, '30413': 6620, '30420': 6621, '30423': 6622, '30424': 6623, '30425': 6624, '30428': 6625, '30434': 6626, '30436': 6627, '30441': 6628, '30447': 6629, '30450': 6630, '30457': 6631, '3046': 6632, '30460': 6633, '30466': 6634, '3047': 6635, '30471': 6636, '30473': 6637, '30475': 6638, '30476': 6639, '30478': 6640, '30480': 6641, '30484': 6642, '30492': 6643, '30494': 6644, '30496': 6645, '3051': 6646, '30510': 6647, '30513': 6648, '30514': 6649, '30516': 6650, '30519': 6651, '30524': 6652, '30528': 6653, '30529': 6654, '3053': 6655, '30536': 6656, '30543': 6657, '30545': 6658, '30549': 6659, '30556': 6660, '30559': 6661, '30566': 6662, '30567': 6663, '30569': 6664, '30575': 6665, '30584': 6666, '30585': 6667, '3059': 6668, '306': 6669, '30601': 6670, '30607': 6671, '30608': 6672, '30614': 6673, '30619': 6674, '30620': 6675, '30621': 6676, '30627': 6677, '30629': 6678, '30632': 6679, '30634': 6680, '3064': 6681, '30645': 6682, '30648': 6683, '30653': 6684, '3066': 6685, '30661': 6686, '30666': 6687, '30669': 6688, '30670': 6689, '30675': 6690, '30688': 6691, '30694': 6692, '307': 6693, '3070': 6694, '30701': 6695, '30704': 6696, '30707': 6697, '30715': 6698, '30716': 6699, '30717': 6700, '30720': 6701, '30721': 6702, '30731': 6703, '30737': 6704, '30738': 6705, '30749': 6706, '30751': 6707, '30753': 6708, '3076': 6709, '30764': 6710, '30766': 6711, '30769': 6712, '30770': 6713, '30772': 6714, '30773': 6715, '30774': 6716, '30776': 6717, '30781': 6718, '30782': 6719, '30788': 6720, '30789': 6721, '3079': 6722, '30798': 6723, '30803': 6724, '30804': 6725, '30808': 6726, '3083': 6727, '30833': 6728, '30835': 6729, '30842': 6730, '30845': 6731, '30848': 6732, '3085': 6733, '3086': 6734, '30863': 6735, '30865': 6736, '30872': 6737, '30875': 6738, '30877': 6739, '30894': 6740, '30902': 6741, '30907': 6742, '30921': 6743, '30925': 6744, '30926': 6745, '30927': 6746, '30928': 6747, '30929': 6748, '30933': 6749, '30952': 6750, '30957': 6751, '30960': 6752, '30961': 6753, '30963': 6754, '30965': 6755, '30967': 6756, '30973': 6757, '30981': 6758, '30985': 6759, '30995': 6760, '30999': 6761, '310': 6762, '31002': 6763, '31007': 6764, '31016': 6765, '31022': 6766, '31025': 6767, '31027': 6768, '31028': 6769, '31031': 6770, '31035': 6771, '31037': 6772, '31039': 6773, '31045': 6774, '31047': 6775, '31048': 6776, '3105': 6777, '3106': 6778, '31064': 6779, '31069': 6780, '31073': 6781, '31077': 6782, '31078': 6783, '31084': 6784, '31089': 6785, '31092': 6786, '3110': 6787, '31104': 6788, '31107': 6789, '3111': 6790, '31110': 6791, '31111': 6792, '31112': 6793, '31113': 6794, '31115': 6795, '31120': 6796, '31121': 6797, '31128': 6798, '31133': 6799, '31134': 6800, '31142': 6801, '31147': 6802, '31148': 6803, '3115': 6804, '31151': 6805, '31169': 6806, '31174': 6807, '31176': 6808, '31180': 6809, '31183': 6810, '31187': 6811, '3119': 6812, '31191': 6813, '31199': 6814, '3120': 6815, '31200': 6816, '31203': 6817, '31204': 6818, '31219': 6819, '3122': 6820, '31228': 6821, '31234': 6822, '3124': 6823, '31240': 6824, '31246': 6825, '31249': 6826, '31255': 6827, '31260': 6828, '31261': 6829, '31262': 6830, '31265': 6831, '31269': 6832, '31270': 6833, '31271': 6834, '3129': 6835, '31290': 6836, '31296': 6837, '31297': 6838, '313': 6839, '31302': 6840, '31311': 6841, '31315': 6842, '3132': 6843, '31322': 6844, '31333': 6845, '31335': 6846, '31336': 6847, '31340': 6848, '31343': 6849, '31348': 6850, '3135': 6851, '31351': 6852, '31357': 6853, '31358': 6854, '31360': 6855, '31381': 6856, '31382': 6857, '31383': 6858, '31388': 6859, '31389': 6860, '31391': 6861, '31392': 6862, '31398': 6863, '31402': 6864, '31414': 6865, '31421': 6866, '31430': 6867, '31436': 6868, '31443': 6869, '31447': 6870, '31452': 6871, '31461': 6872, '31462': 6873, '31465': 6874, '31473': 6875, '31475': 6876, '31482': 6877, '31487': 6878, '31489': 6879, '31490': 6880, '31498': 6881, '31505': 6882, '31506': 6883, '31507': 6884, '31520': 6885, '31521': 6886, '3153': 6887, '31533': 6888, '31534': 6889, '31535': 6890, '31536': 6891, '31541': 6892, '31549': 6893, '31552': 6894, '31555': 6895, '31556': 6896, '31559': 6897, '31560': 6898, '31561': 6899, '31562': 6900, '31563': 6901, '31568': 6902, '31570': 6903, '31585': 6904, '31588': 6905, '3159': 6906, '31593': 6907, '31603': 6908, '31606': 6909, '31608': 6910, '31610': 6911, '31613': 6912, '31618': 6913, '3162': 6914, '31620': 6915, '31622': 6916, '31628': 6917, '31631': 6918, '31636': 6919, '31651': 6920, '31657': 6921, '3167': 6922, '31689': 6923, '31698': 6924, '31699': 6925, '31701': 6926, '3171': 6927, '31716': 6928, '3172': 6929, '31722': 6930, '31724': 6931, '3173': 6932, '31731': 6933, '31735': 6934, '3174': 6935, '31743': 6936, '31748': 6937, '31759': 6938, '3176': 6939, '31760': 6940, '31761': 6941, '31765': 6942, '31769': 6943, '31775': 6944, '31781': 6945, '31782': 6946, '31785': 6947, '31795': 6948, '31805': 6949, '31831': 6950, '31840': 6951, '31844': 6952, '31854': 6953, '3186': 6954, '31860': 6955, '31863': 6956, '31869': 6957, '31879': 6958, '31881': 6959, '31884': 6960, '3189': 6961, '31890': 6962, '31899': 6963, '31901': 6964, '3191': 6965, '31910': 6966, '31926': 6967, '31927': 6968, '31929': 6969, '31943': 6970, '31958': 6971, '31959': 6972, '3196': 6973, '31968': 6974, '3197': 6975, '31977': 6976, '31978': 6977, '31979': 6978, '31986': 6979, '31988': 6980, '31989': 6981, '3199': 6982, '31992': 6983, '3200': 6984, '32000': 6985, '32002': 6986, '32010': 6987, '32011': 6988, '32012': 6989, '3202': 6990, '32021': 6991, '32023': 6992, '32037': 6993, '32039': 6994, '3204': 6995, '32045': 6996, '32046': 6997, '32048': 6998, '32049': 6999, '32051': 7000, '32055': 7001, '32056': 7002, '32059': 7003, '32062': 7004, '32075': 7005, '32077': 7006, '3208': 7007, '32083': 7008, '32084': 7009, '32086': 7010, '32090': 7011, '32092': 7012, '32104': 7013, '32105': 7014, '32106': 7015, '32111': 7016, '32121': 7017, '32122': 7018, '32123': 7019, '32127': 7020, '3214': 7021, '32145': 7022, '3215': 7023, '32152': 7024, '32156': 7025, '32157': 7026, '32159': 7027, '3216': 7028, '3217': 7029, '32175': 7030, '32183': 7031, '32184': 7032, '32185': 7033, '32190': 7034, '32192': 7035, '32196': 7036, '32199': 7037, '32202': 7038, '32207': 7039, '32208': 7040, '32209': 7041, '32210': 7042, '32212': 7043, '32219': 7044, '3223': 7045, '32242': 7046, '32244': 7047, '32247': 7048, '32253': 7049, '32258': 7050, '32264': 7051, '32265': 7052, '32268': 7053, '32271': 7054, '32273': 7055, '32274': 7056, '3228': 7057, '32282': 7058, '32289': 7059, '32291': 7060, '32293': 7061, '32296': 7062, '32298': 7063, '32301': 7064, '32307': 7065, '32308': 7066, '32310': 7067, '3232': 7068, '32328': 7069, '32330': 7070, '32342': 7071, '32345': 7072, '32350': 7073, '32352': 7074, '32359': 7075, '32367': 7076, '32369': 7077, '32373': 7078, '32377': 7079, '32378': 7080, '32379': 7081, '32384': 7082, '32385': 7083, '3239': 7084, '32396': 7085, '32398': 7086, '3240': 7087, '32403': 7088, '32408': 7089, '32412': 7090, '32420': 7091, '32424': 7092, '32433': 7093, '32436': 7094, '32437': 7095, '32438': 7096, '32439': 7097, '32442': 7098, '32445': 7099, '32449': 7100, '32460': 7101, '32462': 7102, '32464': 7103, '32467': 7104, '32474': 7105, '3248': 7106, '32488': 7107, '32490': 7108, '32501': 7109, '32511': 7110, '32512': 7111, '32513': 7112, '32517': 7113, '32518': 7114, '32523': 7115, '3253': 7116, '32532': 7117, '32533': 7118, '32535': 7119, '32551': 7120, '32554': 7121, '32559': 7122, '3256': 7123, '32565': 7124, '32574': 7125, '32576': 7126, '32577': 7127, '32578': 7128, '32579': 7129, '3258': 7130, '32583': 7131, '32587': 7132, '32588': 7133, '32590': 7134, '32591': 7135, '32592': 7136, '32593': 7137, '32597': 7138, '3260': 7139, '32608': 7140, '32615': 7141, '3263': 7142, '32635': 7143, '32638': 7144, '32641': 7145, '32642': 7146, '32644': 7147, '32648': 7148, '32654': 7149, '32660': 7150, '32663': 7151, '32666': 7152, '3267': 7153, '32678': 7154, '3268': 7155, '32685': 7156, '3269': 7157, '32696': 7158, '327': 7159, '3270': 7160, '32701': 7161, '32703': 7162, '32704': 7163, '3271': 7164, '32713': 7165, '32715': 7166, '32722': 7167, '32727': 7168, '32738': 7169, '32743': 7170, '3275': 7171, '32751': 7172, '32757': 7173, '32764': 7174, '32768': 7175, '32770': 7176, '32771': 7177, '32772': 7178, '32778': 7179, '32779': 7180, '32780': 7181, '32782': 7182, '32784': 7183, '32791': 7184, '32796': 7185, '3280': 7186, '32810': 7187, '32818': 7188, '3282': 7189, '32824': 7190, '3283': 7191, '32832': 7192, '32836': 7193, '3284': 7194, '32851': 7195, '32853': 7196, '3286': 7197, '32865': 7198, '32885': 7199, '32887': 7200, '32888': 7201, '32897': 7202, '32907': 7203, '32910': 7204, '32914': 7205, '32917': 7206, '3292': 7207, '3293': 7208, '32931': 7209, '32933': 7210, '32938': 7211, '32943': 7212, '32946': 7213, '32949': 7214, '32953': 7215, '32954': 7216, '32956': 7217, '32958': 7218, '32973': 7219, '32979': 7220, '32983': 7221, '32984': 7222, '32985': 7223, '32995': 7224, '32997': 7225, '32999': 7226, '33': 7227, '330': 7228, '33011': 7229, '33019': 7230, '33026': 7231, '33042': 7232, '33043': 7233, '33048': 7234, '33052': 7235, '33053': 7236, '33056': 7237, '33064': 7238, '33065': 7239, '3308': 7240, '33080': 7241, '33081': 7242, '33092': 7243, '33095': 7244, '331': 7245, '33109': 7246, '33114': 7247, '33124': 7248, '33129': 7249, '3313': 7250, '33131': 7251, '33133': 7252, '33140': 7253, '33146': 7254, '3315': 7255, '33151': 7256, '33154': 7257, '33156': 7258, '33158': 7259, '33171': 7260, '33173': 7261, '33175': 7262, '33177': 7263, '3318': 7264, '33187': 7265, '33188': 7266, '33196': 7267, '332': 7268, '3320': 7269, '33201': 7270, '33207': 7271, '3321': 7272, '33212': 7273, '33213': 7274, '3322': 7275, '33223': 7276, '33237': 7277, '33243': 7278, '33246': 7279, '3325': 7280, '33255': 7281, '33265': 7282, '3327': 7283, '33270': 7284, '33274': 7285, '3328': 7286, '33282': 7287, '33284': 7288, '33296': 7289, '33309': 7290, '33314': 7291, '33317': 7292, '33322': 7293, '33324': 7294, '33326': 7295, '33345': 7296, '33346': 7297, '33348': 7298, '33352': 7299, '33355': 7300, '33360': 7301, '33362': 7302, '33372': 7303, '33381': 7304, '33386': 7305, '33387': 7306, '3339': 7307, '33402': 7308, '33403': 7309, '33408': 7310, '33416': 7311, '33420': 7312, '33428': 7313, '3343': 7314, '33432': 7315, '33434': 7316, '33442': 7317, '33445': 7318, '33458': 7319, '3346': 7320, '33461': 7321, '33464': 7322, '33476': 7323, '33478': 7324, '33484': 7325, '33487': 7326, '33490': 7327, '33492': 7328, '33494': 7329, '33501': 7330, '33507': 7331, '33521': 7332, '33522': 7333, '33527': 7334, '33547': 7335, '3355': 7336, '33550': 7337, '33552': 7338, '33564': 7339, '33569': 7340, '33576': 7341, '33578': 7342, '33580': 7343, '33594': 7344, '33596': 7345, '33597': 7346, '33598': 7347, '336': 7348, '3360': 7349, '33600': 7350, '33606': 7351, '33607': 7352, '33609': 7353, '33615': 7354, '33616': 7355, '33621': 7356, '33623': 7357, '33626': 7358, '33627': 7359, '33643': 7360, '3365': 7361, '33650': 7362, '33656': 7363, '3366': 7364, '33665': 7365, '33673': 7366, '33674': 7367, '33678': 7368, '33679': 7369, '33681': 7370, '33682': 7371, '33686': 7372, '33689': 7373, '3369': 7374, '33696': 7375, '33699': 7376, '3370': 7377, '33706': 7378, '33712': 7379, '33716': 7380, '33718': 7381, '33719': 7382, '33723': 7383, '33728': 7384, '3373': 7385, '33746': 7386, '33756': 7387, '33760': 7388, '33762': 7389, '33766': 7390, '33769': 7391, '3377': 7392, '33771': 7393, '33775': 7394, '33776': 7395, '33783': 7396, '33796': 7397, '33803': 7398, '33814': 7399, '33815': 7400, '33816': 7401, '33817': 7402, '33821': 7403, '33824': 7404, '3383': 7405, '33837': 7406, '33843': 7407, '33844': 7408, '33850': 7409, '33851': 7410, '33854': 7411, '33863': 7412, '33864': 7413, '33874': 7414, '33875': 7415, '33877': 7416, '33882': 7417, '33890': 7418, '33894': 7419, '33895': 7420, '33896': 7421, '33898': 7422, '3390': 7423, '33902': 7424, '33905': 7425, '33909': 7426, '33928': 7427, '33935': 7428, '33943': 7429, '3395': 7430, '33955': 7431, '33957': 7432, '33962': 7433, '33964': 7434, '33966': 7435, '33969': 7436, '33970': 7437, '33972': 7438, '33987': 7439, '33992': 7440, '33995': 7441, '3400': 7442, '34001': 7443, '34006': 7444, '34007': 7445, '3401': 7446, '34015': 7447, '34033': 7448, '34042': 7449, '34043': 7450, '34058': 7451, '3406': 7452, '34067': 7453, '34078': 7454, '3408': 7455, '34082': 7456, '34084': 7457, '34089': 7458, '3409': 7459, '34096': 7460, '34104': 7461, '34111': 7462, '34116': 7463, '34119': 7464, '34123': 7465, '34126': 7466, '34132': 7467, '34135': 7468, '34145': 7469, '34156': 7470, '34160': 7471, '34162': 7472, '34164': 7473, '34167': 7474, '34172': 7475, '34182': 7476, '34185': 7477, '34195': 7478, '34198': 7479, '34218': 7480, '3422': 7481, '34224': 7482, '34230': 7483, '34231': 7484, '34243': 7485, '34248': 7486, '34258': 7487, '34261': 7488, '34271': 7489, '34273': 7490, '34279': 7491, '34280': 7492, '34281': 7493, '34284': 7494, '34287': 7495, '34288': 7496, '34290': 7497, '34293': 7498, '34303': 7499, '34316': 7500, '34320': 7501, '34322': 7502, '34327': 7503, '34335': 7504, '34340': 7505, '34346': 7506, '34350': 7507, '34351': 7508, '34352': 7509, '34358': 7510, '34359': 7511, '34361': 7512, '3437': 7513, '34372': 7514, '34381': 7515, '34384': 7516, '34387': 7517, '34399': 7518, '3440': 7519, '34405': 7520, '34408': 7521, '34414': 7522, '3442': 7523, '34420': 7524, '34424': 7525, '34425': 7526, '34426': 7527, '34427': 7528, '34432': 7529, '3444': 7530, '34440': 7531, '34441': 7532, '34448': 7533, '34455': 7534, '34458': 7535, '34465': 7536, '34470': 7537, '34471': 7538, '34473': 7539, '34501': 7540, '34508': 7541, '34521': 7542, '34522': 7543, '34526': 7544, '34529': 7545, '34533': 7546, '34536': 7547, '34545': 7548, '34549': 7549, '34552': 7550, '34560': 7551, '34562': 7552, '34564': 7553, '34573': 7554, '3458': 7555, '34586': 7556, '34599': 7557, '34600': 7558, '34613': 7559, '34619': 7560, '34624': 7561, '34641': 7562, '34654': 7563, '34657': 7564, '34658': 7565, '34660': 7566, '34663': 7567, '34667': 7568, '34669': 7569, '34673': 7570, '34678': 7571, '3468': 7572, '34684': 7573, '34687': 7574, '34690': 7575, '347': 7576, '34700': 7577, '34716': 7578, '34719': 7579, '34723': 7580, '34724': 7581, '34729': 7582, '34732': 7583, '34739': 7584, '34743': 7585, '34748': 7586, '34754': 7587, '34757': 7588, '3476': 7589, '34762': 7590, '34767': 7591, '34772': 7592, '34794': 7593, '34795': 7594, '34798': 7595, '34801': 7596, '34806': 7597, '34814': 7598, '34816': 7599, '34821': 7600, '34832': 7601, '34838': 7602, '34842': 7603, '34843': 7604, '34848': 7605, '34851': 7606, '34853': 7607, '34858': 7608, '34859': 7609, '34860': 7610, '34861': 7611, '34876': 7612, '34879': 7613, '34880': 7614, '34885': 7615, '34887': 7616, '34890': 7617, '34899': 7618, '34906': 7619, '34908': 7620, '34910': 7621, '34919': 7622, '34920': 7623, '34925': 7624, '34926': 7625, '34929': 7626, '34930': 7627, '34934': 7628, '34937': 7629, '3494': 7630, '34942': 7631, '34944': 7632, '34953': 7633, '3496': 7634, '34961': 7635, '34963': 7636, '34971': 7637, '34975': 7638, '34978': 7639, '34985': 7640, '34986': 7641, '350': 7642, '3500': 7643, '35007': 7644, '3501': 7645, '35011': 7646, '35014': 7647, '35015': 7648, '35025': 7649, '35026': 7650, '35030': 7651, '35039': 7652, '35041': 7653, '35058': 7654, '35059': 7655, '35060': 7656, '35066': 7657, '3507': 7658, '35072': 7659, '35073': 7660, '35077': 7661, '35081': 7662, '35083': 7663, '35084': 7664, '35091': 7665, '35093': 7666, '35095': 7667, '35097': 7668, '35098': 7669, '3510': 7670, '35107': 7671, '35114': 7672, '35116': 7673, '35118': 7674, '35122': 7675, '35124': 7676, '3513': 7677, '35130': 7678, '35140': 7679, '35141': 7680, '35143': 7681, '35146': 7682, '35150': 7683, '35160': 7684, '35161': 7685, '35165': 7686, '35196': 7687, '35198': 7688, '35207': 7689, '35209': 7690, '35225': 7691, '3523': 7692, '35233': 7693, '3524': 7694, '35242': 7695, '35244': 7696, '35245': 7697, '35252': 7698, '35261': 7699, '35262': 7700, '35264': 7701, '35275': 7702, '35285': 7703, '35291': 7704, '35293': 7705, '35297': 7706, '35298': 7707, '35299': 7708, '35303': 7709, '35304': 7710, '35305': 7711, '35306': 7712, '35319': 7713, '35320': 7714, '35324': 7715, '3533': 7716, '35331': 7717, '35338': 7718, '35342': 7719, '35344': 7720, '35350': 7721, '35354': 7722, '35357': 7723, '35368': 7724, '3537': 7725, '35372': 7726, '35375': 7727, '35381': 7728, '35389': 7729, '35399': 7730, '354': 7731, '35407': 7732, '3541': 7733, '35414': 7734, '35421': 7735, '35427': 7736, '35432': 7737, '35436': 7738, '35437': 7739, '35443': 7740, '35448': 7741, '35452': 7742, '35453': 7743, '35461': 7744, '35466': 7745, '35468': 7746, '35472': 7747, '35473': 7748, '35475': 7749, '35477': 7750, '35481': 7751, '35483': 7752, '35487': 7753, '35493': 7754, '35494': 7755, '35495': 7756, '35496': 7757, '35497': 7758, '3550': 7759, '35517': 7760, '35522': 7761, '35527': 7762, '3553': 7763, '35530': 7764, '35533': 7765, '35546': 7766, '35547': 7767, '35553': 7768, '35554': 7769, '35557': 7770, '35558': 7771, '35561': 7772, '35576': 7773, '35583': 7774, '3559': 7775, '35593': 7776, '35605': 7777, '35612': 7778, '35613': 7779, '35618': 7780, '35619': 7781, '35621': 7782, '35623': 7783, '35624': 7784, '35637': 7785, '35644': 7786, '3565': 7787, '35652': 7788, '35653': 7789, '35654': 7790, '35658': 7791, '35659': 7792, '35660': 7793, '35665': 7794, '35666': 7795, '35674': 7796, '35679': 7797, '35691': 7798, '35695': 7799, '35699': 7800, '3570': 7801, '35702': 7802, '35703': 7803, '35709': 7804, '35717': 7805, '3572': 7806, '35722': 7807, '35723': 7808, '35732': 7809, '35735': 7810, '35736': 7811, '35752': 7812, '35755': 7813, '35758': 7814, '35767': 7815, '35775': 7816, '35776': 7817, '35779': 7818, '35784': 7819, '35790': 7820, '35791': 7821, '35793': 7822, '35799': 7823, '358': 7824, '35803': 7825, '35806': 7826, '35809': 7827, '35818': 7828, '35824': 7829, '35825': 7830, '35826': 7831, '35827': 7832, '35834': 7833, '3585': 7834, '35854': 7835, '35860': 7836, '35868': 7837, '3587': 7838, '35871': 7839, '35875': 7840, '35880': 7841, '35884': 7842, '35889': 7843, '35899': 7844, '35906': 7845, '35908': 7846, '35909': 7847, '35911': 7848, '35916': 7849, '35923': 7850, '35924': 7851, '35926': 7852, '35935': 7853, '3594': 7854, '35948': 7855, '35954': 7856, '35957': 7857, '35959': 7858, '35966': 7859, '35979': 7860, '35982': 7861, '35984': 7862, '3599': 7863, '35990': 7864, '35991': 7865, '35993': 7866, '35997': 7867, '36002': 7868, '36009': 7869, '36018': 7870, '3603': 7871, '36034': 7872, '36039': 7873, '36046': 7874, '36052': 7875, '36056': 7876, '3606': 7877, '36061': 7878, '36065': 7879, '36083': 7880, '36085': 7881, '36095': 7882, '3610': 7883, '36100': 7884, '36101': 7885, '36104': 7886, '36115': 7887, '36116': 7888, '36118': 7889, '36123': 7890, '36129': 7891, '36130': 7892, '36135': 7893, '36145': 7894, '36146': 7895, '36147': 7896, '36149': 7897, '36151': 7898, '36159': 7899, '36166': 7900, '36167': 7901, '36169': 7902, '36175': 7903, '36179': 7904, '3618': 7905, '36181': 7906, '36192': 7907, '36196': 7908, '362': 7909, '36205': 7910, '36206': 7911, '36208': 7912, '36214': 7913, '36223': 7914, '36224': 7915, '36238': 7916, '36240': 7917, '36245': 7918, '3625': 7919, '36253': 7920, '36258': 7921, '36259': 7922, '36267': 7923, '36272': 7924, '36273': 7925, '36277': 7926, '36279': 7927, '36287': 7928, '36300': 7929, '36302': 7930, '3631': 7931, '36323': 7932, '3633': 7933, '36330': 7934, '36336': 7935, '36339': 7936, '36343': 7937, '36346': 7938, '36362': 7939, '36366': 7940, '36367': 7941, '36377': 7942, '3638': 7943, '36393': 7944, '36395': 7945, '36396': 7946, '364': 7947, '36406': 7948, '3641': 7949, '36410': 7950, '36415': 7951, '36417': 7952, '36418': 7953, '3642': 7954, '36423': 7955, '36428': 7956, '36429': 7957, '36431': 7958, '36433': 7959, '36447': 7960, '36454': 7961, '36466': 7962, '3647': 7963, '36470': 7964, '36471': 7965, '36477': 7966, '3648': 7967, '36481': 7968, '36482': 7969, '36485': 7970, '36488': 7971, '3649': 7972, '36490': 7973, '36492': 7974, '36497': 7975, '3650': 7976, '36500': 7977, '36502': 7978, '36503': 7979, '36504': 7980, '36505': 7981, '36512': 7982, '36513': 7983, '3653': 7984, '36532': 7985, '36534': 7986, '36535': 7987, '36536': 7988, '36540': 7989, '36544': 7990, '36545': 7991, '36546': 7992, '36573': 7993, '36589': 7994, '36597': 7995, '36598': 7996, '36605': 7997, '36606': 7998, '3661': 7999, '36610': 8000, '36617': 8001, '36625': 8002, '36637': 8003, '36644': 8004, '36647': 8005, '36656': 8006, '3666': 8007, '36661': 8008, '36670': 8009, '36672': 8010, '36676': 8011, '36688': 8012, '36690': 8013, '36694': 8014, '36703': 8015, '36706': 8016, '36710': 8017, '36719': 8018, '36726': 8019, '3673': 8020, '36730': 8021, '36731': 8022, '36737': 8023, '36738': 8024, '36741': 8025, '36743': 8026, '36751': 8027, '36756': 8028, '36757': 8029, '3676': 8030, '36762': 8031, '36763': 8032, '36768': 8033, '36778': 8034, '36779': 8035, '3678': 8036, '36785': 8037, '36797': 8038, '36804': 8039, '36805': 8040, '36815': 8041, '36816': 8042, '3682': 8043, '36820': 8044, '36821': 8045, '36824': 8046, '36835': 8047, '36836': 8048, '36839': 8049, '36844': 8050, '36845': 8051, '36846': 8052, '36854': 8053, '36857': 8054, '36858': 8055, '36872': 8056, '36873': 8057, '36877': 8058, '36887': 8059, '36890': 8060, '36895': 8061, '36901': 8062, '36903': 8063, '36912': 8064, '36918': 8065, '36923': 8066, '36930': 8067, '36931': 8068, '36937': 8069, '3694': 8070, '36946': 8071, '36950': 8072, '36956': 8073, '36957': 8074, '36958': 8075, '36964': 8076, '36969': 8077, '36971': 8078, '36978': 8079, '36984': 8080, '36998': 8081, '37005': 8082, '37007': 8083, '37010': 8084, '37013': 8085, '37014': 8086, '37022': 8087, '37024': 8088, '37037': 8089, '37044': 8090, '37050': 8091, '37051': 8092, '37054': 8093, '37063': 8094, '37067': 8095, '37076': 8096, '37077': 8097, '37080': 8098, '37083': 8099, '37085': 8100, '37088': 8101, '37095': 8102, '37097': 8103, '37104': 8104, '37106': 8105, '37108': 8106, '3711': 8107, '37110': 8108, '37117': 8109, '3712': 8110, '37120': 8111, '37123': 8112, '37125': 8113, '37135': 8114, '37141': 8115, '37145': 8116, '37146': 8117, '37147': 8118, '37148': 8119, '3715': 8120, '37150': 8121, '37157': 8122, '37162': 8123, '37175': 8124, '37179': 8125, '37180': 8126, '37182': 8127, '37189': 8128, '37191': 8129, '37208': 8130, '37213': 8131, '37214': 8132, '37216': 8133, '3722': 8134, '37222': 8135, '37233': 8136, '37240': 8137, '37244': 8138, '37248': 8139, '37253': 8140, '37254': 8141, '37264': 8142, '3727': 8143, '37270': 8144, '37274': 8145, '37281': 8146, '37285': 8147, '37286': 8148, '37288': 8149, '37294': 8150, '373': 8151, '3730': 8152, '37304': 8153, '37306': 8154, '37321': 8155, '37324': 8156, '37327': 8157, '37329': 8158, '37340': 8159, '37343': 8160, '37347': 8161, '37349': 8162, '3735': 8163, '37354': 8164, '37355': 8165, '37357': 8166, '37359': 8167, '37360': 8168, '37363': 8169, '37367': 8170, '37374': 8171, '37377': 8172, '37382': 8173, '37385': 8174, '37395': 8175, '37408': 8176, '37409': 8177, '37410': 8178, '37413': 8179, '37414': 8180, '37422': 8181, '37430': 8182, '37431': 8183, '37433': 8184, '37438': 8185, '37440': 8186, '37446': 8187, '3745': 8188, '37453': 8189, '37462': 8190, '37463': 8191, '37464': 8192, '37466': 8193, '37467': 8194, '3747': 8195, '37474': 8196, '37475': 8197, '3748': 8198, '37480': 8199, '37484': 8200, '37485': 8201, '3749': 8202, '37494': 8203, '37497': 8204, '37499': 8205, '37500': 8206, '37501': 8207, '3751': 8208, '37524': 8209, '37531': 8210, '37538': 8211, '37539': 8212, '37546': 8213, '37552': 8214, '37553': 8215, '3756': 8216, '37561': 8217, '37571': 8218, '37585': 8219, '3759': 8220, '37593': 8221, '37594': 8222, '376': 8223, '3760': 8224, '37600': 8225, '37606': 8226, '3761': 8227, '37618': 8228, '37619': 8229, '3762': 8230, '37624': 8231, '37632': 8232, '37634': 8233, '37637': 8234, '37639': 8235, '37640': 8236, '37646': 8237, '3765': 8238, '37655': 8239, '37659': 8240, '37662': 8241, '37663': 8242, '37666': 8243, '37670': 8244, '37676': 8245, '3768': 8246, '37680': 8247, '37683': 8248, '37699': 8249, '37701': 8250, '37702': 8251, '37703': 8252, '37706': 8253, '37715': 8254, '37717': 8255, '37721': 8256, '37723': 8257, '37728': 8258, '37729': 8259, '37733': 8260, '37734': 8261, '37735': 8262, '37736': 8263, '3774': 8264, '37740': 8265, '37751': 8266, '37752': 8267, '37755': 8268, '37778': 8269, '37798': 8270, '378': 8271, '37801': 8272, '37803': 8273, '37815': 8274, '37816': 8275, '37829': 8276, '3783': 8277, '37835': 8278, '37837': 8279, '37842': 8280, '37848': 8281, '3785': 8282, '37850': 8283, '37861': 8284, '37862': 8285, '37863': 8286, '37875': 8287, '37878': 8288, '37897': 8289, '37898': 8290, '37904': 8291, '37906': 8292, '37909': 8293, '37917': 8294, '3792': 8295, '37923': 8296, '37935': 8297, '37941': 8298, '37942': 8299, '37947': 8300, '37952': 8301, '37953': 8302, '37957': 8303, '37960': 8304, '37961': 8305, '37973': 8306, '37978': 8307, '37982': 8308, '37984': 8309, '37985': 8310, '37989': 8311, '37995': 8312, '37998': 8313, '37999': 8314, '38': 8315, '3802': 8316, '38025': 8317, '3803': 8318, '38040': 8319, '38050': 8320, '38055': 8321, '38063': 8322, '38064': 8323, '38066': 8324, '38068': 8325, '38069': 8326, '3807': 8327, '38073': 8328, '38074': 8329, '38079': 8330, '38082': 8331, '38091': 8332, '38095': 8333, '38098': 8334, '38099': 8335, '38102': 8336, '38104': 8337, '38114': 8338, '38116': 8339, '38117': 8340, '38124': 8341, '38136': 8342, '38137': 8343, '38146': 8344, '38150': 8345, '38152': 8346, '38154': 8347, '38159': 8348, '38161': 8349, '38167': 8350, '38169': 8351, '3817': 8352, '38170': 8353, '38175': 8354, '38180': 8355, '38185': 8356, '38193': 8357, '38205': 8358, '38207': 8359, '38212': 8360, '38223': 8361, '38230': 8362, '38238': 8363, '3824': 8364, '38242': 8365, '38245': 8366, '38248': 8367, '3825': 8368, '38254': 8369, '38257': 8370, '38259': 8371, '3826': 8372, '38268': 8373, '3827': 8374, '38274': 8375, '3828': 8376, '38280': 8377, '38281': 8378, '38285': 8379, '38286': 8380, '38300': 8381, '38301': 8382, '38306': 8383, '38318': 8384, '38323': 8385, '38327': 8386, '38337': 8387, '38341': 8388, '38350': 8389, '38353': 8390, '38354': 8391, '38363': 8392, '38366': 8393, '38373': 8394, '38385': 8395, '38387': 8396, '38390': 8397, '3840': 8398, '38414': 8399, '38416': 8400, '38424': 8401, '38427': 8402, '38431': 8403, '38433': 8404, '38434': 8405, '38437': 8406, '3844': 8407, '38440': 8408, '38441': 8409, '38448': 8410, '38455': 8411, '38459': 8412, '3846': 8413, '38461': 8414, '38462': 8415, '38470': 8416, '38482': 8417, '38483': 8418, '38488': 8419, '3849': 8420, '38498': 8421, '38500': 8422, '38503': 8423, '38505': 8424, '38507': 8425, '38509': 8426, '3852': 8427, '38521': 8428, '38523': 8429, '38533': 8430, '38539': 8431, '38547': 8432, '38551': 8433, '38554': 8434, '38557': 8435, '38559': 8436, '3856': 8437, '38568': 8438, '38570': 8439, '38576': 8440, '38597': 8441, '38600': 8442, '38602': 8443, '38603': 8444, '38610': 8445, '38615': 8446, '38616': 8447, '38617': 8448, '38619': 8449, '38621': 8450, '38630': 8451, '38631': 8452, '38636': 8453, '38642': 8454, '38648': 8455, '38650': 8456, '3866': 8457, '38660': 8458, '38662': 8459, '38666': 8460, '38667': 8461, '38674': 8462, '38677': 8463, '38686': 8464, '38687': 8465, '38689': 8466, '3869': 8467, '38695': 8468, '38697': 8469, '387': 8470, '3870': 8471, '38701': 8472, '38704': 8473, '38708': 8474, '38709': 8475, '38711': 8476, '38713': 8477, '38714': 8478, '38715': 8479, '3872': 8480, '38720': 8481, '38722': 8482, '38725': 8483, '38727': 8484, '38730': 8485, '38731': 8486, '38732': 8487, '38734': 8488, '38739': 8489, '3874': 8490, '38756': 8491, '38758': 8492, '38762': 8493, '38763': 8494, '38768': 8495, '38770': 8496, '38775': 8497, '3878': 8498, '38782': 8499, '38788': 8500, '38796': 8501, '38802': 8502, '3881': 8503, '3882': 8504, '38822': 8505, '38826': 8506, '38827': 8507, '38840': 8508, '38844': 8509, '38845': 8510, '38846': 8511, '38851': 8512, '38854': 8513, '38859': 8514, '38860': 8515, '38867': 8516, '38874': 8517, '38877': 8518, '38881': 8519, '38882': 8520, '38884': 8521, '38885': 8522, '3889': 8523, '38898': 8524, '38900': 8525, '38909': 8526, '38914': 8527, '38916': 8528, '38917': 8529, '38919': 8530, '38922': 8531, '38924': 8532, '38926': 8533, '38927': 8534, '38928': 8535, '38934': 8536, '38937': 8537, '3894': 8538, '38947': 8539, '38948': 8540, '38950': 8541, '38953': 8542, '38961': 8543, '38962': 8544, '38971': 8545, '38976': 8546, '38994': 8547, '38996': 8548, '3900': 8549, '39002': 8550, '39003': 8551, '39014': 8552, '39016': 8553, '39019': 8554, '39024': 8555, '39028': 8556, '3903': 8557, '39033': 8558, '39040': 8559, '39042': 8560, '39047': 8561, '39051': 8562, '39057': 8563, '39058': 8564, '3906': 8565, '39060': 8566, '39063': 8567, '39068': 8568, '3907': 8569, '39072': 8570, '39074': 8571, '39080': 8572, '39088': 8573, '39089': 8574, '3909': 8575, '39099': 8576, '39100': 8577, '39102': 8578, '39111': 8579, '39120': 8580, '39131': 8581, '39135': 8582, '3914': 8583, '39143': 8584, '39154': 8585, '39156': 8586, '3916': 8587, '39160': 8588, '39170': 8589, '39177': 8590, '3918': 8591, '39181': 8592, '3919': 8593, '39197': 8594, '39203': 8595, '39204': 8596, '3921': 8597, '39210': 8598, '39216': 8599, '39229': 8600, '39238': 8601, '39239': 8602, '39241': 8603, '39250': 8604, '39270': 8605, '39276': 8606, '39282': 8607, '39283': 8608, '39290': 8609, '39291': 8610, '39293': 8611, '39294': 8612, '39295': 8613, '39297': 8614, '39298': 8615, '39308': 8616, '39311': 8617, '39313': 8618, '39314': 8619, '39324': 8620, '39343': 8621, '39355': 8622, '39362': 8623, '39366': 8624, '39369': 8625, '3939': 8626, '39399': 8627, '3940': 8628, '39400': 8629, '39403': 8630, '39404': 8631, '39419': 8632, '3942': 8633, '39423': 8634, '39432': 8635, '39440': 8636, '39441': 8637, '39447': 8638, '39452': 8639, '39453': 8640, '3946': 8641, '39465': 8642, '39468': 8643, '39474': 8644, '39475': 8645, '3948': 8646, '39493': 8647, '39500': 8648, '39511': 8649, '39516': 8650, '39519': 8651, '3952': 8652, '39524': 8653, '39528': 8654, '39534': 8655, '39541': 8656, '39544': 8657, '39545': 8658, '39552': 8659, '39554': 8660, '39560': 8661, '39563': 8662, '39579': 8663, '39582': 8664, '39587': 8665, '39589': 8666, '39591': 8667, '39594': 8668, '39601': 8669, '39605': 8670, '39609': 8671, '39610': 8672, '39611': 8673, '39615': 8674, '39617': 8675, '39619': 8676, '3962': 8677, '39627': 8678, '39628': 8679, '39635': 8680, '39643': 8681, '39653': 8682, '39657': 8683, '39662': 8684, '39665': 8685, '39666': 8686, '39669': 8687, '3967': 8688, '39671': 8689, '39678': 8690, '39679': 8691, '39684': 8692, '39687': 8693, '39690': 8694, '39695': 8695, '3970': 8696, '39700': 8697, '39717': 8698, '39720': 8699, '39721': 8700, '39744': 8701, '39745': 8702, '39754': 8703, '39757': 8704, '39759': 8705, '3976': 8706, '39765': 8707, '39773': 8708, '39782': 8709, '39790': 8710, '39792': 8711, '39798': 8712, '39805': 8713, '39810': 8714, '39818': 8715, '39819': 8716, '3982': 8717, '39826': 8718, '39830': 8719, '39835': 8720, '39837': 8721, '39840': 8722, '39841': 8723, '39845': 8724, '39849': 8725, '3985': 8726, '39851': 8727, '39853': 8728, '39854': 8729, '39859': 8730, '39869': 8731, '39875': 8732, '39876': 8733, '39878': 8734, '39880': 8735, '39883': 8736, '39884': 8737, '39893': 8738, '39897': 8739, '39908': 8740, '39912': 8741, '39915': 8742, '39916': 8743, '39917': 8744, '3992': 8745, '39923': 8746, '39930': 8747, '39933': 8748, '39938': 8749, '3994': 8750, '39953': 8751, '3996': 8752, '39960': 8753, '39963': 8754, '39965': 8755, '39966': 8756, '39968': 8757, '39972': 8758, '39975': 8759, '39977': 8760, '39979': 8761, '39980': 8762, '39984': 8763, '39986': 8764, '39991': 8765, '39997': 8766, '39998': 8767, '39999': 8768, '40010': 8769, '40011': 8770, '40019': 8771, '4002': 8772, '40020': 8773, '40024': 8774, '40026': 8775, '40027': 8776, '40028': 8777, '40044': 8778, '40048': 8779, '40052': 8780, '40053': 8781, '4006': 8782, '40065': 8783, '40074': 8784, '40078': 8785, '40081': 8786, '40083': 8787, '40086': 8788, '40092': 8789, '40095': 8790, '40096': 8791, '40098': 8792, '40100': 8793, '40106': 8794, '40108': 8795, '40117': 8796, '40118': 8797, '40126': 8798, '40128': 8799, '40129': 8800, '40130': 8801, '40131': 8802, '40136': 8803, '40139': 8804, '40146': 8805, '4015': 8806, '40153': 8807, '40160': 8808, '40162': 8809, '40173': 8810, '40175': 8811, '40176': 8812, '4018': 8813, '40181': 8814, '4019': 8815, '40192': 8816, '40199': 8817, '40203': 8818, '40209': 8819, '40217': 8820, '40224': 8821, '40233': 8822, '40235': 8823, '40255': 8824, '40259': 8825, '40265': 8826, '40269': 8827, '40270': 8828, '40271': 8829, '40279': 8830, '4028': 8831, '40280': 8832, '40284': 8833, '40285': 8834, '40293': 8835, '40297': 8836, '40304': 8837, '40306': 8838, '40308': 8839, '4031': 8840, '40310': 8841, '40320': 8842, '40323': 8843, '40324': 8844, '40326': 8845, '40341': 8846, '40343': 8847, '40348': 8848, '40349': 8849, '40354': 8850, '40355': 8851, '40362': 8852, '40373': 8853, '4038': 8854, '40389': 8855, '4039': 8856, '40392': 8857, '40395': 8858, '40396': 8859, '404': 8860, '4041': 8861, '40417': 8862, '40420': 8863, '40427': 8864, '40428': 8865, '40433': 8866, '40444': 8867, '40445': 8868, '40447': 8869, '40453': 8870, '40454': 8871, '4046': 8872, '40470': 8873, '40474': 8874, '40481': 8875, '40489': 8876, '40494': 8877, '40496': 8878, '40498': 8879, '40502': 8880, '40509': 8881, '40510': 8882, '40514': 8883, '40515': 8884, '40516': 8885, '40530': 8886, '40536': 8887, '4054': 8888, '40545': 8889, '40549': 8890, '40552': 8891, '40556': 8892, '4056': 8893, '40571': 8894, '40583': 8895, '40587': 8896, '40589': 8897, '40592': 8898, '40596': 8899, '40597': 8900, '40600': 8901, '40606': 8902, '40615': 8903, '40620': 8904, '40621': 8905, '40622': 8906, '4063': 8907, '40630': 8908, '40637': 8909, '4064': 8910, '40640': 8911, '40649': 8912, '40655': 8913, '40667': 8914, '40669': 8915, '40673': 8916, '40676': 8917, '40679': 8918, '4068': 8919, '40684': 8920, '40686': 8921, '40690': 8922, '40699': 8923, '40706': 8924, '40708': 8925, '40710': 8926, '40716': 8927, '40717': 8928, '40723': 8929, '40739': 8930, '40740': 8931, '40742': 8932, '40748': 8933, '40750': 8934, '40753': 8935, '40758': 8936, '40770': 8937, '40778': 8938, '4078': 8939, '40785': 8940, '40789': 8941, '4079': 8942, '40798': 8943, '40799': 8944, '40803': 8945, '40804': 8946, '40806': 8947, '40812': 8948, '40816': 8949, '40821': 8950, '40822': 8951, '40825': 8952, '40835': 8953, '4084': 8954, '40840': 8955, '40844': 8956, '40845': 8957, '40848': 8958, '40850': 8959, '4086': 8960, '40864': 8961, '40867': 8962, '40875': 8963, '4088': 8964, '40896': 8965, '40897': 8966, '40901': 8967, '40911': 8968, '40919': 8969, '4092': 8970, '40924': 8971, '40925': 8972, '40929': 8973, '40934': 8974, '40940': 8975, '40947': 8976, '40949': 8977, '40953': 8978, '40954': 8979, '40964': 8980, '40967': 8981, '40968': 8982, '4097': 8983, '40970': 8984, '40971': 8985, '40972': 8986, '40977': 8987, '40978': 8988, '40981': 8989, '40982': 8990, '40986': 8991, '40993': 8992, '40994': 8993, '41': 8994, '410': 8995, '4100': 8996, '41001': 8997, '41003': 8998, '41008': 8999, '41009': 9000, '41017': 9001, '41018': 9002, '4102': 9003, '41023': 9004, '41025': 9005, '41026': 9006, '41034': 9007, '41035': 9008, '41037': 9009, '41042': 9010, '4105': 9011, '41059': 9012, '41060': 9013, '41062': 9014, '41066': 9015, '41073': 9016, '41075': 9017, '41076': 9018, '41082': 9019, '41087': 9020, '41106': 9021, '41109': 9022, '41112': 9023, '41113': 9024, '41116': 9025, '41117': 9026, '4114': 9027, '41141': 9028, '41146': 9029, '41149': 9030, '4115': 9031, '41158': 9032, '4116': 9033, '41160': 9034, '41161': 9035, '41168': 9036, '4117': 9037, '41170': 9038, '41172': 9039, '41176': 9040, '41178': 9041, '41193': 9042, '41196': 9043, '41201': 9044, '41204': 9045, '41206': 9046, '41208': 9047, '4121': 9048, '41210': 9049, '41214': 9050, '41220': 9051, '41223': 9052, '41232': 9053, '41240': 9054, '41243': 9055, '4125': 9056, '41255': 9057, '41260': 9058, '41261': 9059, '41267': 9060, '41277': 9061, '41279': 9062, '4128': 9063, '41287': 9064, '41295': 9065, '41296': 9066, '41299': 9067, '413': 9068, '4130': 9069, '41301': 9070, '4131': 9071, '41312': 9072, '41318': 9073, '41331': 9074, '41347': 9075, '4135': 9076, '41364': 9077, '41368': 9078, '4138': 9079, '41382': 9080, '41389': 9081, '41392': 9082, '41393': 9083, '41394': 9084, '41397': 9085, '414': 9086, '41411': 9087, '41414': 9088, '41423': 9089, '41435': 9090, '4144': 9091, '41441': 9092, '41446': 9093, '41449': 9094, '41451': 9095, '41458': 9096, '41461': 9097, '41463': 9098, '41465': 9099, '4147': 9100, '41474': 9101, '41476': 9102, '4148': 9103, '41488': 9104, '41489': 9105, '4149': 9106, '41495': 9107, '41496': 9108, '4150': 9109, '41500': 9110, '4151': 9111, '41516': 9112, '4152': 9113, '41533': 9114, '41535': 9115, '41536': 9116, '4154': 9117, '41548': 9118, '41552': 9119, '41559': 9120, '41562': 9121, '41565': 9122, '41569': 9123, '41574': 9124, '41578': 9125, '41584': 9126, '41587': 9127, '41593': 9128, '41595': 9129, '41597': 9130, '41610': 9131, '41615': 9132, '41616': 9133, '4162': 9134, '41623': 9135, '41626': 9136, '41627': 9137, '41630': 9138, '41632': 9139, '41639': 9140, '41643': 9141, '41645': 9142, '41651': 9143, '41654': 9144, '41659': 9145, '41664': 9146, '41672': 9147, '4168': 9148, '41680': 9149, '41687': 9150, '41692': 9151, '41693': 9152, '41705': 9153, '41706': 9154, '4171': 9155, '41713': 9156, '41722': 9157, '4173': 9158, '41735': 9159, '41737': 9160, '41738': 9161, '4174': 9162, '41743': 9163, '41744': 9164, '41745': 9165, '41749': 9166, '41754': 9167, '41760': 9168, '41766': 9169, '41772': 9170, '41774': 9171, '41778': 9172, '41787': 9173, '41789': 9174, '4179': 9175, '41794': 9176, '41795': 9177, '41802': 9178, '41811': 9179, '41818': 9180, '4182': 9181, '41821': 9182, '41824': 9183, '41825': 9184, '41829': 9185, '41830': 9186, '41832': 9187, '41833': 9188, '41838': 9189, '41839': 9190, '41845': 9191, '4185': 9192, '41863': 9193, '41864': 9194, '41866': 9195, '41868': 9196, '41869': 9197, '41877': 9198, '41884': 9199, '41893': 9200, '41894': 9201, '41895': 9202, '41911': 9203, '41912': 9204, '41915': 9205, '41919': 9206, '4192': 9207, '41923': 9208, '41928': 9209, '41930': 9210, '41932': 9211, '41939': 9212, '41941': 9213, '41946': 9214, '41950': 9215, '41953': 9216, '41954': 9217, '41955': 9218, '41959': 9219, '41961': 9220, '41968': 9221, '41969': 9222, '4197': 9223, '41970': 9224, '41980': 9225, '41983': 9226, '41984': 9227, '41992': 9228, '42002': 9229, '42019': 9230, '42029': 9231, '42036': 9232, '42040': 9233, '42044': 9234, '4205': 9235, '42052': 9236, '42054': 9237, '42062': 9238, '42068': 9239, '42073': 9240, '42074': 9241, '4208': 9242, '42081': 9243, '42089': 9244, '42093': 9245, '42094': 9246, '42095': 9247, '42109': 9248, '42112': 9249, '42117': 9250, '42119': 9251, '42122': 9252, '42123': 9253, '42133': 9254, '42135': 9255, '42139': 9256, '42140': 9257, '42142': 9258, '42150': 9259, '42154': 9260, '42156': 9261, '42157': 9262, '42160': 9263, '42163': 9264, '4217': 9265, '42175': 9266, '42176': 9267, '42179': 9268, '4218': 9269, '42181': 9270, '42187': 9271, '42188': 9272, '42189': 9273, '42190': 9274, '42207': 9275, '42211': 9276, '42214': 9277, '42217': 9278, '4222': 9279, '42221': 9280, '42225': 9281, '42234': 9282, '42237': 9283, '42241': 9284, '42245': 9285, '4225': 9286, '42250': 9287, '42259': 9288, '42263': 9289, '42271': 9290, '42282': 9291, '42288': 9292, '42294': 9293, '42306': 9294, '42308': 9295, '42309': 9296, '42310': 9297, '42312': 9298, '42324': 9299, '42338': 9300, '42349': 9301, '42352': 9302, '4236': 9303, '42361': 9304, '42372': 9305, '42378': 9306, '42389': 9307, '42396': 9308, '42398': 9309, '42399': 9310, '4241': 9311, '42411': 9312, '42415': 9313, '42419': 9314, '42424': 9315, '42427': 9316, '42440': 9317, '4245': 9318, '42451': 9319, '42457': 9320, '42459': 9321, '4246': 9322, '42460': 9323, '42462': 9324, '42463': 9325, '42471': 9326, '42474': 9327, '42475': 9328, '42478': 9329, '42480': 9330, '42484': 9331, '42490': 9332, '42496': 9333, '42499': 9334, '42504': 9335, '42505': 9336, '42507': 9337, '42520': 9338, '42523': 9339, '42529': 9340, '42537': 9341, '42539': 9342, '4254': 9343, '42544': 9344, '42553': 9345, '42554': 9346, '42556': 9347, '42567': 9348, '42573': 9349, '42578': 9350, '4258': 9351, '4259': 9352, '42597': 9353, '42600': 9354, '42602': 9355, '42611': 9356, '42613': 9357, '42617': 9358, '42620': 9359, '42623': 9360, '42625': 9361, '42632': 9362, '42633': 9363, '42637': 9364, '42641': 9365, '42646': 9366, '42647': 9367, '42648': 9368, '42649': 9369, '4265': 9370, '42655': 9371, '42656': 9372, '42658': 9373, '42664': 9374, '42677': 9375, '42683': 9376, '42686': 9377, '42688': 9378, '42689': 9379, '42699': 9380, '4270': 9381, '42701': 9382, '42705': 9383, '4271': 9384, '42717': 9385, '42731': 9386, '42734': 9387, '42736': 9388, '42741': 9389, '4275': 9390, '42752': 9391, '42756': 9392, '42760': 9393, '42761': 9394, '42762': 9395, '42766': 9396, '42768': 9397, '4277': 9398, '42776': 9399, '42784': 9400, '42789': 9401, '42790': 9402, '42791': 9403, '4280': 9404, '42806': 9405, '4281': 9406, '42810': 9407, '42823': 9408, '42828': 9409, '42830': 9410, '42835': 9411, '42845': 9412, '42858': 9413, '42860': 9414, '42861': 9415, '42862': 9416, '42873': 9417, '42874': 9418, '4288': 9419, '42893': 9420, '42894': 9421, '42902': 9422, '42908': 9423, '42927': 9424, '42932': 9425, '42935': 9426, '42938': 9427, '42956': 9428, '42957': 9429, '42965': 9430, '42969': 9431, '42971': 9432, '4298': 9433, '42982': 9434, '42986': 9435, '42993': 9436, '42996': 9437, '430': 9438, '43001': 9439, '43004': 9440, '43006': 9441, '4301': 9442, '43014': 9443, '43019': 9444, '43028': 9445, '4303': 9446, '43035': 9447, '43042': 9448, '43045': 9449, '43048': 9450, '43051': 9451, '43059': 9452, '43064': 9453, '43065': 9454, '4307': 9455, '43073': 9456, '43074': 9457, '43075': 9458, '43076': 9459, '43078': 9460, '43079': 9461, '4308': 9462, '43082': 9463, '43085': 9464, '43090': 9465, '43096': 9466, '43099': 9467, '4310': 9468, '43114': 9469, '4312': 9470, '43124': 9471, '43125': 9472, '43126': 9473, '43133': 9474, '43141': 9475, '43166': 9476, '43167': 9477, '43172': 9478, '43187': 9479, '43188': 9480, '43190': 9481, '43193': 9482, '4321': 9483, '43220': 9484, '43222': 9485, '43230': 9486, '43232': 9487, '43233': 9488, '43234': 9489, '43240': 9490, '43244': 9491, '43248': 9492, '4325': 9493, '43252': 9494, '43259': 9495, '43260': 9496, '4327': 9497, '43276': 9498, '43278': 9499, '4328': 9500, '43281': 9501, '43290': 9502, '4330': 9503, '43305': 9504, '43311': 9505, '43315': 9506, '43321': 9507, '43329': 9508, '43334': 9509, '43341': 9510, '43342': 9511, '43347': 9512, '4335': 9513, '43358': 9514, '43359': 9515, '43361': 9516, '43363': 9517, '43365': 9518, '43370': 9519, '43373': 9520, '43374': 9521, '43377': 9522, '4338': 9523, '43381': 9524, '43392': 9525, '434': 9526, '43409': 9527, '43413': 9528, '43414': 9529, '43424': 9530, '43435': 9531, '43436': 9532, '43437': 9533, '43438': 9534, '43439': 9535, '4344': 9536, '43444': 9537, '43450': 9538, '43452': 9539, '43456': 9540, '43466': 9541, '43467': 9542, '43470': 9543, '43472': 9544, '43479': 9545, '4348': 9546, '43487': 9547, '4349': 9548, '43490': 9549, '43493': 9550, '43502': 9551, '43503': 9552, '43521': 9553, '43525': 9554, '43528': 9555, '43538': 9556, '4354': 9557, '43540': 9558, '43543': 9559, '43551': 9560, '43558': 9561, '4356': 9562, '43560': 9563, '43561': 9564, '43563': 9565, '43569': 9566, '4357': 9567, '43571': 9568, '43573': 9569, '43574': 9570, '43578': 9571, '4358': 9572, '43581': 9573, '43584': 9574, '43587': 9575, '43588': 9576, '43593': 9577, '43601': 9578, '43603': 9579, '43612': 9580, '43613': 9581, '43618': 9582, '4362': 9583, '43624': 9584, '43626': 9585, '43631': 9586, '43635': 9587, '43640': 9588, '43645': 9589, '43650': 9590, '43653': 9591, '43661': 9592, '43670': 9593, '43675': 9594, '43681': 9595, '43687': 9596, '43705': 9597, '43706': 9598, '4371': 9599, '43710': 9600, '43714': 9601, '43723': 9602, '43724': 9603, '43727': 9604, '43735': 9605, '43737': 9606, '43738': 9607, '43748': 9608, '43757': 9609, '43759': 9610, '43763': 9611, '43764': 9612, '43790': 9613, '43801': 9614, '43804': 9615, '43806': 9616, '43809': 9617, '43811': 9618, '43823': 9619, '43828': 9620, '43833': 9621, '4384': 9622, '43847': 9623, '4385': 9624, '43850': 9625, '43851': 9626, '43856': 9627, '43862': 9628, '43865': 9629, '43867': 9630, '43875': 9631, '43891': 9632, '43894': 9633, '4390': 9634, '43901': 9635, '43904': 9636, '43907': 9637, '43909': 9638, '43910': 9639, '43912': 9640, '43914': 9641, '43919': 9642, '43920': 9643, '43934': 9644, '43935': 9645, '4395': 9646, '43953': 9647, '43955': 9648, '43960': 9649, '43968': 9650, '4397': 9651, '43977': 9652, '4398': 9653, '43983': 9654, '43987': 9655, '43992': 9656, '43993': 9657, '43996': 9658, '43997': 9659, '44002': 9660, '44005': 9661, '44015': 9662, '44021': 9663, '4403': 9664, '4404': 9665, '44048': 9666, '4405': 9667, '44051': 9668, '44052': 9669, '44053': 9670, '44056': 9671, '44058': 9672, '44060': 9673, '44063': 9674, '44065': 9675, '44068': 9676, '44069': 9677, '4407': 9678, '44076': 9679, '44077': 9680, '44079': 9681, '44085': 9682, '44092': 9683, '44095': 9684, '44098': 9685, '441': 9686, '4410': 9687, '44102': 9688, '44107': 9689, '44109': 9690, '44113': 9691, '44115': 9692, '44125': 9693, '44130': 9694, '44137': 9695, '4414': 9696, '44141': 9697, '44142': 9698, '44147': 9699, '44152': 9700, '44162': 9701, '44163': 9702, '44167': 9703, '44175': 9704, '44180': 9705, '44184': 9706, '44188': 9707, '44192': 9708, '44194': 9709, '44220': 9710, '44221': 9711, '44223': 9712, '44224': 9713, '44225': 9714, '44226': 9715, '4423': 9716, '44232': 9717, '44235': 9718, '44243': 9719, '44244': 9720, '44249': 9721, '44261': 9722, '44262': 9723, '44277': 9724, '44280': 9725, '44283': 9726, '44292': 9727, '44296': 9728, '443': 9729, '4430': 9730, '44301': 9731, '44304': 9732, '44305': 9733, '44309': 9734, '44311': 9735, '44312': 9736, '44319': 9737, '4432': 9738, '44321': 9739, '44327': 9740, '44329': 9741, '44334': 9742, '44336': 9743, '44337': 9744, '44343': 9745, '44345': 9746, '44349': 9747, '44356': 9748, '44360': 9749, '44361': 9750, '44362': 9751, '44368': 9752, '44372': 9753, '44382': 9754, '4439': 9755, '44391': 9756, '44392': 9757, '444': 9758, '44401': 9759, '44402': 9760, '44403': 9761, '44404': 9762, '44410': 9763, '44424': 9764, '44428': 9765, '4443': 9766, '44433': 9767, '44434': 9768, '44441': 9769, '44448': 9770, '44449': 9771, '4446': 9772, '44460': 9773, '44462': 9774, '44467': 9775, '44472': 9776, '44481': 9777, '44484': 9778, '44490': 9779, '4450': 9780, '44500': 9781, '44505': 9782, '44515': 9783, '44536': 9784, '44550': 9785, '44552': 9786, '44556': 9787, '44557': 9788, '44558': 9789, '44568': 9790, '44569': 9791, '4457': 9792, '44575': 9793, '44586': 9794, '4459': 9795, '44593': 9796, '44595': 9797, '44600': 9798, '44605': 9799, '44606': 9800, '44608': 9801, '44615': 9802, '44617': 9803, '44620': 9804, '44627': 9805, '44628': 9806, '44630': 9807, '44634': 9808, '4464': 9809, '44640': 9810, '44642': 9811, '44659': 9812, '44673': 9813, '44676': 9814, '44685': 9815, '44691': 9816, '44692': 9817, '44696': 9818, '44712': 9819, '44714': 9820, '44715': 9821, '44722': 9822, '44725': 9823, '44726': 9824, '44728': 9825, '4473': 9826, '44737': 9827, '44740': 9828, '44746': 9829, '44752': 9830, '44766': 9831, '44768': 9832, '44772': 9833, '44790': 9834, '44797': 9835, '44800': 9836, '44803': 9837, '44805': 9838, '44806': 9839, '44807': 9840, '44817': 9841, '44822': 9842, '44823': 9843, '44824': 9844, '44843': 9845, '44857': 9846, '44867': 9847, '44879': 9848, '44884': 9849, '44895': 9850, '44905': 9851, '44910': 9852, '44914': 9853, '44915': 9854, '4492': 9855, '44921': 9856, '44935': 9857, '44936': 9858, '44938': 9859, '4494': 9860, '44941': 9861, '44947': 9862, '44952': 9863, '44958': 9864, '44968': 9865, '44970': 9866, '44972': 9867, '44977': 9868, '44984': 9869, '44992': 9870, '45001': 9871, '45005': 9872, '4502': 9873, '45020': 9874, '45022': 9875, '45023': 9876, '45028': 9877, '45031': 9878, '45032': 9879, '45035': 9880, '45037': 9881, '45040': 9882, '45044': 9883, '45045': 9884, '45053': 9885, '45057': 9886, '45058': 9887, '4506': 9888, '45061': 9889, '45065': 9890, '45066': 9891, '4507': 9892, '45074': 9893, '45078': 9894, '45083': 9895, '45085': 9896, '45096': 9897, '45099': 9898, '451': 9899, '45106': 9900, '45116': 9901, '4512': 9902, '45125': 9903, '45132': 9904, '45133': 9905, '45143': 9906, '45144': 9907, '4515': 9908, '45152': 9909, '45156': 9910, '45158': 9911, '45159': 9912, '45164': 9913, '45169': 9914, '45172': 9915, '45190': 9916, '45195': 9917, '452': 9918, '4520': 9919, '45212': 9920, '45219': 9921, '45220': 9922, '45225': 9923, '45226': 9924, '4524': 9925, '45248': 9926, '45262': 9927, '45269': 9928, '45275': 9929, '45276': 9930, '45277': 9931, '45278': 9932, '45279': 9933, '45280': 9934, '45281': 9935, '45282': 9936, '45283': 9937, '45284': 9938, '45285': 9939, '45286': 9940, '45287': 9941, '45288': 9942, '45289': 9943, '45290': 9944, '45291': 9945, '45293': 9946, '45294': 9947, '45295': 9948, '45296': 9949, '45297': 9950, '45298': 9951, '45299': 9952, '45303': 9953, '45304': 9954, '45305': 9955, '45307': 9956, '45308': 9957, '45311': 9958, '45312': 9959, '45313': 9960, '45315': 9961, '45316': 9962, '45317': 9963, '45318': 9964, '45320': 9965, '45321': 9966, '45322': 9967, '45323': 9968, '45324': 9969, '45326': 9970, '45328': 9971, '45329': 9972, '4533': 9973, '45330': 9974, '45331': 9975, '45332': 9976, '45333': 9977, '45334': 9978, '45335': 9979, '45336': 9980, '45337': 9981, '45340': 9982, '45341': 9983, '45343': 9984, '45344': 9985, '45345': 9986, '45346': 9987, '45347': 9988, '45348': 9989, '45349': 9990, '45350': 9991, '45351': 9992, '45352': 9993, '45353': 9994, '45354': 9995, '45357': 9996, '45359': 9997, '45360': 9998, '45361': 9999, '45362': 10000, '45363': 10001, '45364': 10002, '45365': 10003, '45366': 10004, '45367': 10005, '45368': 10006, '45369': 10007, '45370': 10008, '45372': 10009, '45374': 10010, '45375': 10011, '45376': 10012, '45377': 10013, '45379': 10014, '45380': 10015, '45381': 10016, '45383': 10017, '45384': 10018, '45385': 10019, '45386': 10020, '45387': 10021, '45388': 10022, '45389': 10023, '4539': 10024, '45390': 10025, '45391': 10026, '45392': 10027, '45393': 10028, '45395': 10029, '45396': 10030, '45397': 10031, '45398': 10032, '45399': 10033, '45400': 10034, '45401': 10035, '45402': 10036, '45403': 10037, '45404': 10038, '45405': 10039, '45406': 10040, '45407': 10041, '45408': 10042, '45409': 10043, '45410': 10044, '45411': 10045, '45412': 10046, '45413': 10047, '45414': 10048, '45415': 10049, '45416': 10050, '45417': 10051, '45418': 10052, '45419': 10053, '45420': 10054, '45421': 10055, '45422': 10056, '45423': 10057, '45425': 10058, '45426': 10059, '45428': 10060, '45429': 10061, '45430': 10062, '45432': 10063, '45434': 10064, '45436': 10065, '45437': 10066, '45438': 10067, '45439': 10068, '45440': 10069, '45441': 10070, '45442': 10071, '45443': 10072, '45444': 10073, '45446': 10074, '45447': 10075, '45448': 10076, '45449': 10077, '4545': 10078, '45450': 10079, '45452': 10080, '45453': 10081, '45454': 10082, '45455': 10083, '45456': 10084, '45457': 10085, '45459': 10086, '45460': 10087, '45461': 10088, '45462': 10089, '45463': 10090, '45464': 10091, '45465': 10092, '45466': 10093, '45467': 10094, '45468': 10095, '45469': 10096, '45470': 10097, '45471': 10098, '45472': 10099, '45473': 10100, '45474': 10101, '45475': 10102, '45476': 10103, '45478': 10104, '45479': 10105, '45481': 10106, '45482': 10107, '45483': 10108, '45484': 10109, '45485': 10110, '45487': 10111, '4549': 10112, '45490': 10113, '45491': 10114, '45494': 10115, '45495': 10116, '45496': 10117, '45497': 10118, '45498': 10119, '45499': 10120, '4550': 10121, '45500': 10122, '45501': 10123, '45502': 10124, '45503': 10125, '45505': 10126, '45506': 10127, '45507': 10128, '45509': 10129, '4551': 10130, '45510': 10131, '45512': 10132, '45513': 10133, '45514': 10134, '45516': 10135, '45517': 10136, '45518': 10137, '45519': 10138, '45520': 10139, '45521': 10140, '45523': 10141, '45524': 10142, '45527': 10143, '45528': 10144, '45530': 10145, '45531': 10146, '45533': 10147, '45534': 10148, '45535': 10149, '45536': 10150, '45537': 10151, '45538': 10152, '45539': 10153, '4554': 10154, '45540': 10155, '45541': 10156, '45542': 10157, '45543': 10158, '45544': 10159, '45545': 10160, '45546': 10161, '45547': 10162, '45548': 10163, '45550': 10164, '45551': 10165, '45553': 10166, '45554': 10167, '45555': 10168, '45556': 10169, '45557': 10170, '45558': 10171, '45559': 10172, '4556': 10173, '45560': 10174, '45561': 10175, '45562': 10176, '45563': 10177, '45564': 10178, '45566': 10179, '45567': 10180, '45568': 10181, '45570': 10182, '45571': 10183, '45572': 10184, '45573': 10185, '45574': 10186, '45575': 10187, '45576': 10188, '45577': 10189, '45578': 10190, '45579': 10191, '4558': 10192, '45580': 10193, '45581': 10194, '45582': 10195, '45583': 10196, '45584': 10197, '45585': 10198, '45586': 10199, '45588': 10200, '45589': 10201, '45590': 10202, '45591': 10203, '45592': 10204, '45593': 10205, '45594': 10206, '45596': 10207, '45598': 10208, '45599': 10209, '4560': 10210, '45600': 10211, '45601': 10212, '45602': 10213, '45603': 10214, '45604': 10215, '45605': 10216, '45606': 10217, '45608': 10218, '45611': 10219, '45612': 10220, '45614': 10221, '45615': 10222, '45616': 10223, '45617': 10224, '45618': 10225, '45619': 10226, '45620': 10227, '45621': 10228, '45622': 10229, '45623': 10230, '45626': 10231, '45627': 10232, '45628': 10233, '45630': 10234, '45631': 10235, '45632': 10236, '45633': 10237, '45634': 10238, '45635': 10239, '45637': 10240, '45638': 10241, '45639': 10242, '45640': 10243, '45641': 10244, '45643': 10245, '45644': 10246, '45645': 10247, '45646': 10248, '45647': 10249, '45648': 10250, '45649': 10251, '45651': 10252, '45652': 10253, '45653': 10254, '45654': 10255, '45655': 10256, '45656': 10257, '45657': 10258, '45658': 10259, '45659': 10260, '45661': 10261, '45662': 10262, '45663': 10263, '45664': 10264, '45665': 10265, '45666': 10266, '45667': 10267, '45668': 10268, '45669': 10269, '4567': 10270, '45670': 10271, '45671': 10272, '45673': 10273, '45674': 10274, '45675': 10275, '45677': 10276, '45678': 10277, '45679': 10278, '45680': 10279, '45681': 10280, '45682': 10281, '45684': 10282, '45685': 10283, '45686': 10284, '45687': 10285, '45688': 10286, '45689': 10287, '45690': 10288, '45692': 10289, '45693': 10290, '45694': 10291, '45695': 10292, '45696': 10293, '45697': 10294, '45700': 10295, '45701': 10296, '45702': 10297, '45704': 10298, '45705': 10299, '45706': 10300, '45708': 10301, '45709': 10302, '45710': 10303, '45711': 10304, '45712': 10305, '45713': 10306, '45714': 10307, '45715': 10308, '45716': 10309, '45717': 10310, '45719': 10311, '45720': 10312, '45721': 10313, '45722': 10314, '45724': 10315, '45725': 10316, '45726': 10317, '45727': 10318, '45728': 10319, '45729': 10320, '4573': 10321, '45731': 10322, '45732': 10323, '45733': 10324, '45735': 10325, '45736': 10326, '45737': 10327, '45738': 10328, '45739': 10329, '4574': 10330, '45740': 10331, '45741': 10332, '45744': 10333, '45745': 10334, '45746': 10335, '45747': 10336, '45748': 10337, '45749': 10338, '45750': 10339, '45751': 10340, '45753': 10341, '45754': 10342, '45755': 10343, '45756': 10344, '45758': 10345, '45760': 10346, '45761': 10347, '45762': 10348, '45764': 10349, '45765': 10350, '45766': 10351, '45767': 10352, '45768': 10353, '45769': 10354, '45770': 10355, '45771': 10356, '45772': 10357, '45773': 10358, '45774': 10359, '45775': 10360, '45776': 10361, '45777': 10362, '45778': 10363, '45780': 10364, '45781': 10365, '45782': 10366, '45783': 10367, '45784': 10368, '45785': 10369, '45787': 10370, '45788': 10371, '45789': 10372, '4579': 10373, '45790': 10374, '45791': 10375, '45792': 10376, '45793': 10377, '45794': 10378, '45795': 10379, '45796': 10380, '45797': 10381, '45798': 10382, '45799': 10383, '4580': 10384, '45800': 10385, '45802': 10386, '45803': 10387, '45804': 10388, '45805': 10389, '45807': 10390, '45808': 10391, '45809': 10392, '45810': 10393, '45811': 10394, '45812': 10395, '45813': 10396, '45815': 10397, '45816': 10398, '45817': 10399, '4582': 10400, '45820': 10401, '45821': 10402, '45822': 10403, '45824': 10404, '45825': 10405, '45828': 10406, '45829': 10407, '45830': 10408, '45831': 10409, '45832': 10410, '45833': 10411, '45834': 10412, '45835': 10413, '45836': 10414, '45837': 10415, '45839': 10416, '45840': 10417, '45841': 10418, '45842': 10419, '45844': 10420, '45845': 10421, '45846': 10422, '45847': 10423, '45848': 10424, '45849': 10425, '45850': 10426, '45852': 10427, '45853': 10428, '45854': 10429, '45856': 10430, '45857': 10431, '45858': 10432, '45859': 10433, '4586': 10434, '45861': 10435, '45863': 10436, '45864': 10437, '45865': 10438, '45867': 10439, '45869': 10440, '45870': 10441, '45871': 10442, '45872': 10443, '45875': 10444, '45876': 10445, '45877': 10446, '45880': 10447, '45881': 10448, '45883': 10449, '45884': 10450, '45885': 10451, '45886': 10452, '45887': 10453, '45888': 10454, '45889': 10455, '45890': 10456, '45892': 10457, '45895': 10458, '45896': 10459, '45897': 10460, '45898': 10461, '45899': 10462, '45900': 10463, '45901': 10464, '45902': 10465, '45903': 10466, '45904': 10467, '45905': 10468, '45906': 10469, '45907': 10470, '45908': 10471, '45910': 10472, '45911': 10473, '45912': 10474, '45914': 10475, '45915': 10476, '45916': 10477, '45917': 10478, '4592': 10479, '45920': 10480, '45922': 10481, '45923': 10482, '45924': 10483, '45925': 10484, '45926': 10485, '45927': 10486, '45928': 10487, '45929': 10488, '45930': 10489, '45931': 10490, '45933': 10491, '45934': 10492, '45935': 10493, '45936': 10494, '45937': 10495, '45938': 10496, '45939': 10497, '45940': 10498, '45941': 10499, '45942': 10500, '45943': 10501, '45944': 10502, '45945': 10503, '45946': 10504, '45947': 10505, '45948': 10506, '45949': 10507, '45951': 10508, '45953': 10509, '45955': 10510, '45956': 10511, '45957': 10512, '45958': 10513, '45959': 10514, '45960': 10515, '45962': 10516, '45963': 10517, '45965': 10518, '45966': 10519, '45967': 10520, '45968': 10521, '45969': 10522, '45970': 10523, '45971': 10524, '45972': 10525, '45973': 10526, '45974': 10527, '45975': 10528, '45976': 10529, '45977': 10530, '45978': 10531, '45979': 10532, '4598': 10533, '45980': 10534, '45981': 10535, '45984': 10536, '45986': 10537, '45988': 10538, '45989': 10539, '45991': 10540, '45992': 10541, '45994': 10542, '45995': 10543, '45998': 10544, '45999': 10545, '460': 10546, '46001': 10547, '46002': 10548, '46005': 10549, '46006': 10550, '46007': 10551, '46009': 10552, '46011': 10553, '46012': 10554, '46013': 10555, '46014': 10556, '46017': 10557, '46018': 10558, '46019': 10559, '46020': 10560, '46021': 10561, '46022': 10562, '46023': 10563, '46024': 10564, '46025': 10565, '46026': 10566, '46028': 10567, '46029': 10568, '46030': 10569, '46032': 10570, '46033': 10571, '46034': 10572, '46036': 10573, '46037': 10574, '46038': 10575, '46039': 10576, '4604': 10577, '46040': 10578, '46041': 10579, '46042': 10580, '46043': 10581, '46044': 10582, '46046': 10583, '46048': 10584, '46049': 10585, '46050': 10586, '46051': 10587, '46052': 10588, '46055': 10589, '46056': 10590, '46058': 10591, '4606': 10592, '46060': 10593, '46062': 10594, '46064': 10595, '46066': 10596, '46067': 10597, '46068': 10598, '46070': 10599, '46071': 10600, '46073': 10601, '46074': 10602, '46075': 10603, '46076': 10604, '46077': 10605, '46078': 10606, '46080': 10607, '46081': 10608, '46082': 10609, '46083': 10610, '46084': 10611, '46085': 10612, '46086': 10613, '46087': 10614, '46088': 10615, '46089': 10616, '46090': 10617, '46092': 10618, '46093': 10619, '46094': 10620, '46095': 10621, '46096': 10622, '46097': 10623, '46098': 10624, '46099': 10625, '461': 10626, '46100': 10627, '46101': 10628, '46102': 10629, '46103': 10630, '46104': 10631, '46105': 10632, '46106': 10633, '46107': 10634, '46108': 10635, '46110': 10636, '46112': 10637, '46113': 10638, '46114': 10639, '46115': 10640, '46116': 10641, '46117': 10642, '46118': 10643, '46120': 10644, '46121': 10645, '46122': 10646, '46123': 10647, '46124': 10648, '46125': 10649, '46126': 10650, '46127': 10651, '46128': 10652, '46129': 10653, '46131': 10654, '46132': 10655, '46133': 10656, '46135': 10657, '46136': 10658, '46138': 10659, '46139': 10660, '46141': 10661, '46142': 10662, '46143': 10663, '46144': 10664, '46145': 10665, '46146': 10666, '46147': 10667, '46148': 10668, '46149': 10669, '46150': 10670, '46152': 10671, '46153': 10672, '46154': 10673, '46156': 10674, '46157': 10675, '46158': 10676, '46159': 10677, '4616': 10678, '46161': 10679, '46162': 10680, '46163': 10681, '46164': 10682, '46165': 10683, '46166': 10684, '46167': 10685, '46168': 10686, '46169': 10687, '46170': 10688, '46171': 10689, '46172': 10690, '46173': 10691, '46175': 10692, '46176': 10693, '46177': 10694, '46179': 10695, '46180': 10696, '46181': 10697, '46183': 10698, '46184': 10699, '46185': 10700, '46187': 10701, '46188': 10702, '46191': 10703, '46192': 10704, '46193': 10705, '46194': 10706, '46195': 10707, '46196': 10708, '46197': 10709, '46198': 10710, '46199': 10711, '46200': 10712, '46202': 10713, '46204': 10714, '46205': 10715, '46207': 10716, '46208': 10717, '46210': 10718, '46211': 10719, '46212': 10720, '46213': 10721, '46214': 10722, '46215': 10723, '46216': 10724, '46217': 10725, '46218': 10726, '46222': 10727, '46223': 10728, '46224': 10729, '46225': 10730, '46226': 10731, '46227': 10732, '46228': 10733, '46229': 10734, '46230': 10735, '46231': 10736, '46232': 10737, '46233': 10738, '46234': 10739, '46237': 10740, '46239': 10741, '46240': 10742, '46241': 10743, '46242': 10744, '46243': 10745, '46244': 10746, '46245': 10747, '46246': 10748, '46247': 10749, '46249': 10750, '46251': 10751, '46252': 10752, '46253': 10753, '46256': 10754, '46257': 10755, '46258': 10756, '46259': 10757, '4626': 10758, '46260': 10759, '46261': 10760, '46262': 10761, '46263': 10762, '46264': 10763, '46265': 10764, '46266': 10765, '46267': 10766, '46268': 10767, '46269': 10768, '46270': 10769, '46271': 10770, '46272': 10771, '46275': 10772, '46276': 10773, '46277': 10774, '46278': 10775, '46279': 10776, '46280': 10777, '46281': 10778, '46283': 10779, '46284': 10780, '46285': 10781, '46287': 10782, '46288': 10783, '46289': 10784, '46290': 10785, '46292': 10786, '46293': 10787, '46294': 10788, '46295': 10789, '46297': 10790, '46298': 10791, '46299': 10792, '46300': 10793, '46301': 10794, '46302': 10795, '46303': 10796, '46304': 10797, '46305': 10798, '46306': 10799, '46307': 10800, '46308': 10801, '46309': 10802, '46311': 10803, '46312': 10804, '46313': 10805, '46314': 10806, '46315': 10807, '46316': 10808, '46317': 10809, '46319': 10810, '46321': 10811, '46322': 10812, '46325': 10813, '46326': 10814, '46327': 10815, '46329': 10816, '46331': 10817, '46332': 10818, '46333': 10819, '46334': 10820, '46335': 10821, '46336': 10822, '46337': 10823, '46338': 10824, '46339': 10825, '46340': 10826, '46341': 10827, '46342': 10828, '46343': 10829, '46345': 10830, '46346': 10831, '46348': 10832, '46349': 10833, '46350': 10834, '46351': 10835, '46352': 10836, '46353': 10837, '46354': 10838, '46357': 10839, '46358': 10840, '46359': 10841, '46361': 10842, '46362': 10843, '46364': 10844, '46365': 10845, '46366': 10846, '46367': 10847, '46368': 10848, '46369': 10849, '46370': 10850, '46371': 10851, '46372': 10852, '46375': 10853, '46376': 10854, '46378': 10855, '46379': 10856, '46380': 10857, '46381': 10858, '46382': 10859, '46383': 10860, '46384': 10861, '46385': 10862, '46386': 10863, '46387': 10864, '46388': 10865, '46391': 10866, '46392': 10867, '46393': 10868, '46396': 10869, '46397': 10870, '46398': 10871, '46399': 10872, '46401': 10873, '46402': 10874, '46403': 10875, '46404': 10876, '46405': 10877, '46406': 10878, '46407': 10879, '46409': 10880, '46410': 10881, '46411': 10882, '46413': 10883, '46414': 10884, '46416': 10885, '46418': 10886, '46419': 10887, '4642': 10888, '46420': 10889, '46422': 10890, '46424': 10891, '46425': 10892, '46426': 10893, '46427': 10894, '46428': 10895, '46429': 10896, '46430': 10897, '46431': 10898, '46432': 10899, '46433': 10900, '46434': 10901, '46437': 10902, '46439': 10903, '46440': 10904, '46442': 10905, '46443': 10906, '46444': 10907, '46445': 10908, '46446': 10909, '46447': 10910, '46448': 10911, '46449': 10912, '4645': 10913, '46450': 10914, '46451': 10915, '46452': 10916, '46453': 10917, '46454': 10918, '46455': 10919, '46456': 10920, '46458': 10921, '46459': 10922, '4646': 10923, '46460': 10924, '46462': 10925, '46463': 10926, '46464': 10927, '46467': 10928, '46468': 10929, '46469': 10930, '4647': 10931, '46470': 10932, '46471': 10933, '46472': 10934, '46474': 10935, '46475': 10936, '46476': 10937, '46477': 10938, '46478': 10939, '46479': 10940, '46481': 10941, '46482': 10942, '46485': 10943, '46486': 10944, '46487': 10945, '46489': 10946, '46490': 10947, '46491': 10948, '46492': 10949, '46494': 10950, '46495': 10951, '46496': 10952, '46497': 10953, '46498': 10954, '46499': 10955, '46501': 10956, '46503': 10957, '46504': 10958, '46505': 10959, '46507': 10960, '46508': 10961, '4651': 10962, '46511': 10963, '46513': 10964, '46514': 10965, '46515': 10966, '46516': 10967, '46517': 10968, '46518': 10969, '46519': 10970, '46520': 10971, '46521': 10972, '46522': 10973, '46524': 10974, '46525': 10975, '46526': 10976, '46527': 10977, '46529': 10978, '4653': 10979, '46530': 10980, '46532': 10981, '46533': 10982, '46534': 10983, '46535': 10984, '46536': 10985, '46537': 10986, '46538': 10987, '46539': 10988, '4654': 10989, '46540': 10990, '46541': 10991, '46542': 10992, '46543': 10993, '46544': 10994, '46546': 10995, '46547': 10996, '46548': 10997, '46549': 10998, '4655': 10999, '46550': 11000, '46551': 11001, '46552': 11002, '46553': 11003, '46556': 11004, '46557': 11005, '46559': 11006, '4656': 11007, '46560': 11008, '46561': 11009, '46562': 11010, '46563': 11011, '46564': 11012, '46565': 11013, '46567': 11014, '46571': 11015, '46573': 11016, '46574': 11017, '46575': 11018, '46576': 11019, '46577': 11020, '46578': 11021, '46579': 11022, '46581': 11023, '46583': 11024, '46584': 11025, '46585': 11026, '46586': 11027, '46587': 11028, '46588': 11029, '46589': 11030, '46590': 11031, '46591': 11032, '46592': 11033, '46593': 11034, '46594': 11035, '46595': 11036, '46596': 11037, '46597': 11038, '46599': 11039, '46600': 11040, '46601': 11041, '46602': 11042, '46603': 11043, '46605': 11044, '46606': 11045, '46607': 11046, '46608': 11047, '46609': 11048, '46611': 11049, '46612': 11050, '46613': 11051, '46614': 11052, '46617': 11053, '46618': 11054, '46619': 11055, '46620': 11056, '46621': 11057, '46622': 11058, '46623': 11059, '46626': 11060, '46628': 11061, '46630': 11062, '46631': 11063, '46632': 11064, '46634': 11065, '46635': 11066, '46638': 11067, '46639': 11068, '46640': 11069, '46641': 11070, '46642': 11071, '46643': 11072, '46644': 11073, '46645': 11074, '46646': 11075, '46647': 11076, '46648': 11077, '46649': 11078, '46650': 11079, '46651': 11080, '46652': 11081, '46653': 11082, '46654': 11083, '46655': 11084, '46656': 11085, '46657': 11086, '46658': 11087, '46659': 11088, '46661': 11089, '46662': 11090, '46663': 11091, '46666': 11092, '46667': 11093, '46668': 11094, '46669': 11095, '4667': 11096, '46670': 11097, '46671': 11098, '46672': 11099, '46673': 11100, '46674': 11101, '46675': 11102, '46679': 11103, '4668': 11104, '46680': 11105, '46683': 11106, '46684': 11107, '46685': 11108, '46686': 11109, '46687': 11110, '46688': 11111, '46689': 11112, '46691': 11113, '46692': 11114, '46693': 11115, '46694': 11116, '46696': 11117, '46697': 11118, '46698': 11119, '46699': 11120, '467': 11121, '46700': 11122, '46701': 11123, '46702': 11124, '46703': 11125, '46704': 11126, '46705': 11127, '46706': 11128, '46707': 11129, '46708': 11130, '46709': 11131, '4671': 11132, '46710': 11133, '46711': 11134, '46712': 11135, '46713': 11136, '46714': 11137, '46715': 11138, '46716': 11139, '46718': 11140, '46719': 11141, '46720': 11142, '46721': 11143, '46722': 11144, '46723': 11145, '46724': 11146, '46725': 11147, '46726': 11148, '46727': 11149, '46729': 11150, '46730': 11151, '46733': 11152, '46735': 11153, '46736': 11154, '46739': 11155, '46740': 11156, '46741': 11157, '46742': 11158, '46743': 11159, '46744': 11160, '46745': 11161, '46746': 11162, '46747': 11163, '46748': 11164, '46749': 11165, '4675': 11166, '46750': 11167, '46752': 11168, '46753': 11169, '46754': 11170, '46755': 11171, '46757': 11172, '46758': 11173, '46759': 11174, '46760': 11175, '46761': 11176, '46762': 11177, '46763': 11178, '46764': 11179, '46765': 11180, '46767': 11181, '46768': 11182, '46769': 11183, '46770': 11184, '46771': 11185, '46773': 11186, '46774': 11187, '46775': 11188, '46776': 11189, '46777': 11190, '46778': 11191, '46779': 11192, '46781': 11193, '46785': 11194, '46786': 11195, '46787': 11196, '46788': 11197, '46789': 11198, '46790': 11199, '46791': 11200, '46792': 11201, '46794': 11202, '46795': 11203, '46796': 11204, '46798': 11205, '46799': 11206, '468': 11207, '4680': 11208, '46800': 11209, '46801': 11210, '46802': 11211, '46803': 11212, '46804': 11213, '46805': 11214, '46806': 11215, '46808': 11216, '46810': 11217, '46811': 11218, '46812': 11219, '46813': 11220, '46815': 11221, '46817': 11222, '46818': 11223, '46819': 11224, '46820': 11225, '46821': 11226, '46823': 11227, '46824': 11228, '46825': 11229, '46826': 11230, '46827': 11231, '46828': 11232, '46829': 11233, '46831': 11234, '46832': 11235, '46833': 11236, '46834': 11237, '46835': 11238, '46837': 11239, '46838': 11240, '46839': 11241, '46840': 11242, '46841': 11243, '46842': 11244, '46844': 11245, '46845': 11246, '46847': 11247, '46848': 11248, '46849': 11249, '46852': 11250, '46854': 11251, '46856': 11252, '46857': 11253, '46858': 11254, '46859': 11255, '46860': 11256, '46865': 11257, '46866': 11258, '46867': 11259, '46868': 11260, '46869': 11261, '46870': 11262, '46871': 11263, '46872': 11264, '46873': 11265, '46874': 11266, '46876': 11267, '46877': 11268, '46878': 11269, '46879': 11270, '46880': 11271, '46881': 11272, '46882': 11273, '46884': 11274, '46888': 11275, '4689': 11276, '46891': 11277, '46892': 11278, '46893': 11279, '46894': 11280, '46895': 11281, '46896': 11282, '46897': 11283, '46898': 11284, '46899': 11285, '46900': 11286, '46901': 11287, '46905': 11288, '46906': 11289, '46907': 11290, '46908': 11291, '46911': 11292, '46913': 11293, '46915': 11294, '46916': 11295, '46917': 11296, '46918': 11297, '46919': 11298, '46920': 11299, '46922': 11300, '46924': 11301, '46926': 11302, '46927': 11303, '46928': 11304, '46929': 11305, '46930': 11306, '46932': 11307, '46934': 11308, '46935': 11309, '46936': 11310, '46937': 11311, '4694': 11312, '46940': 11313, '46941': 11314, '46943': 11315, '46944': 11316, '46945': 11317, '46946': 11318, '46947': 11319, '46948': 11320, '46950': 11321, '46951': 11322, '46952': 11323, '46954': 11324, '46956': 11325, '46957': 11326, '46960': 11327, '46962': 11328, '46963': 11329, '46964': 11330, '46965': 11331, '46967': 11332, '46969': 11333, '46970': 11334, '46971': 11335, '46972': 11336, '46973': 11337, '46974': 11338, '46975': 11339, '46976': 11340, '46977': 11341, '46978': 11342, '46980': 11343, '46981': 11344, '46982': 11345, '46983': 11346, '46985': 11347, '46986': 11348, '46988': 11349, '46989': 11350, '46990': 11351, '46991': 11352, '46992': 11353, '46993': 11354, '46994': 11355, '46995': 11356, '46996': 11357, '46997': 11358, '46999': 11359, '4700': 11360, '47000': 11361, '47001': 11362, '47002': 11363, '47003': 11364, '47004': 11365, '47005': 11366, '47006': 11367, '47009': 11368, '4701': 11369, '47010': 11370, '47011': 11371, '47012': 11372, '47013': 11373, '47014': 11374, '47015': 11375, '47017': 11376, '47018': 11377, '47019': 11378, '47021': 11379, '47022': 11380, '47023': 11381, '47024': 11382, '47025': 11383, '47026': 11384, '47027': 11385, '47028': 11386, '47031': 11387, '47032': 11388, '47033': 11389, '47034': 11390, '47035': 11391, '47037': 11392, '47038': 11393, '47039': 11394, '47040': 11395, '47041': 11396, '47042': 11397, '47043': 11398, '47044': 11399, '47045': 11400, '47046': 11401, '47047': 11402, '47049': 11403, '47050': 11404, '47051': 11405, '47052': 11406, '47054': 11407, '47055': 11408, '47057': 11409, '47058': 11410, '47059': 11411, '4706': 11412, '47060': 11413, '47061': 11414, '47063': 11415, '47065': 11416, '47066': 11417, '47067': 11418, '47068': 11419, '47069': 11420, '4707': 11421, '47070': 11422, '47071': 11423, '47073': 11424, '47076': 11425, '47077': 11426, '47078': 11427, '4708': 11428, '47081': 11429, '47082': 11430, '47085': 11431, '47088': 11432, '47090': 11433, '47091': 11434, '47092': 11435, '47093': 11436, '47094': 11437, '47095': 11438, '47096': 11439, '47097': 11440, '47098': 11441, '47099': 11442, '47100': 11443, '47101': 11444, '47102': 11445, '47104': 11446, '47105': 11447, '47106': 11448, '47108': 11449, '4711': 11450, '47110': 11451, '47112': 11452, '47113': 11453, '47114': 11454, '47115': 11455, '47116': 11456, '47117': 11457, '47118': 11458, '47119': 11459, '47120': 11460, '47121': 11461, '47122': 11462, '47125': 11463, '47126': 11464, '47128': 11465, '47129': 11466, '47130': 11467, '47131': 11468, '47132': 11469, '47133': 11470, '47134': 11471, '47135': 11472, '47136': 11473, '47137': 11474, '4714': 11475, '47140': 11476, '47142': 11477, '47143': 11478, '47144': 11479, '47145': 11480, '47146': 11481, '47147': 11482, '47149': 11483, '47150': 11484, '47151': 11485, '47152': 11486, '47154': 11487, '47155': 11488, '47156': 11489, '47157': 11490, '47159': 11491, '4716': 11492, '47160': 11493, '47161': 11494, '47162': 11495, '47163': 11496, '47164': 11497, '47165': 11498, '47166': 11499, '47167': 11500, '47169': 11501, '47170': 11502, '47171': 11503, '47172': 11504, '47174': 11505, '47175': 11506, '47176': 11507, '47177': 11508, '47178': 11509, '47179': 11510, '4718': 11511, '47180': 11512, '47182': 11513, '47183': 11514, '47184': 11515, '47185': 11516, '47186': 11517, '47187': 11518, '47188': 11519, '47189': 11520, '4719': 11521, '47190': 11522, '47193': 11523, '47194': 11524, '47195': 11525, '47196': 11526, '47197': 11527, '47199': 11528, '47201': 11529, '47202': 11530, '47203': 11531, '47205': 11532, '47206': 11533, '47207': 11534, '47208': 11535, '47209': 11536, '47211': 11537, '47214': 11538, '47215': 11539, '47216': 11540, '47217': 11541, '47218': 11542, '4722': 11543, '47220': 11544, '47221': 11545, '47222': 11546, '47223': 11547, '47224': 11548, '47226': 11549, '47227': 11550, '47231': 11551, '47232': 11552, '47233': 11553, '47234': 11554, '47236': 11555, '47238': 11556, '47239': 11557, '4724': 11558, '47241': 11559, '47242': 11560, '47243': 11561, '47244': 11562, '47245': 11563, '47246': 11564, '47247': 11565, '47249': 11566, '47250': 11567, '47251': 11568, '47252': 11569, '47253': 11570, '47255': 11571, '47256': 11572, '47257': 11573, '47258': 11574, '47259': 11575, '47260': 11576, '47261': 11577, '47262': 11578, '47263': 11579, '47265': 11580, '47266': 11581, '47267': 11582, '47268': 11583, '47269': 11584, '47270': 11585, '47271': 11586, '47272': 11587, '47273': 11588, '47274': 11589, '47275': 11590, '47276': 11591, '47277': 11592, '47279': 11593, '47281': 11594, '47282': 11595, '47283': 11596, '47286': 11597, '47287': 11598, '4729': 11599, '47290': 11600, '47291': 11601, '47292': 11602, '47293': 11603, '47294': 11604, '47295': 11605, '47296': 11606, '47297': 11607, '47298': 11608, '47299': 11609, '4730': 11610, '47300': 11611, '47301': 11612, '47303': 11613, '47304': 11614, '47306': 11615, '47308': 11616, '47309': 11617, '47310': 11618, '47312': 11619, '47313': 11620, '47314': 11621, '47315': 11622, '47316': 11623, '47317': 11624, '47318': 11625, '47319': 11626, '47321': 11627, '47322': 11628, '47323': 11629, '47324': 11630, '47325': 11631, '47326': 11632, '47327': 11633, '47328': 11634, '47330': 11635, '47331': 11636, '47332': 11637, '47334': 11638, '47335': 11639, '47336': 11640, '47337': 11641, '47339': 11642, '47341': 11643, '47342': 11644, '47343': 11645, '47344': 11646, '47345': 11647, '47347': 11648, '47348': 11649, '47349': 11650, '47350': 11651, '47352': 11652, '47354': 11653, '47355': 11654, '47356': 11655, '47357': 11656, '47358': 11657, '47360': 11658, '47361': 11659, '47363': 11660, '47364': 11661, '47365': 11662, '47367': 11663, '47368': 11664, '47369': 11665, '47370': 11666, '47371': 11667, '47372': 11668, '47375': 11669, '47376': 11670, '47377': 11671, '47378': 11672, '47380': 11673, '47381': 11674, '47382': 11675, '47383': 11676, '47384': 11677, '47385': 11678, '47387': 11679, '47388': 11680, '47389': 11681, '47390': 11682, '47392': 11683, '47393': 11684, '47394': 11685, '47397': 11686, '47398': 11687, '47400': 11688, '47401': 11689, '47402': 11690, '47403': 11691, '47404': 11692, '47405': 11693, '47406': 11694, '47408': 11695, '47409': 11696, '47410': 11697, '47411': 11698, '47412': 11699, '47413': 11700, '47414': 11701, '47415': 11702, '47417': 11703, '47418': 11704, '47419': 11705, '47420': 11706, '47421': 11707, '47422': 11708, '47424': 11709, '47425': 11710, '47426': 11711, '47429': 11712, '47430': 11713, '47431': 11714, '47432': 11715, '47433': 11716, '47434': 11717, '47435': 11718, '47436': 11719, '47437': 11720, '47438': 11721, '47440': 11722, '47441': 11723, '47442': 11724, '47443': 11725, '47445': 11726, '47446': 11727, '47447': 11728, '47448': 11729, '47449': 11730, '4745': 11731, '47450': 11732, '47453': 11733, '47454': 11734, '47455': 11735, '47456': 11736, '47457': 11737, '47459': 11738, '47460': 11739, '47461': 11740, '47462': 11741, '47465': 11742, '47467': 11743, '47469': 11744, '47470': 11745, '47471': 11746, '47472': 11747, '47473': 11748, '47476': 11749, '47477': 11750, '47478': 11751, '47479': 11752, '47480': 11753, '47482': 11754, '47484': 11755, '47485': 11756, '47486': 11757, '47488': 11758, '47489': 11759, '47490': 11760, '47493': 11761, '47494': 11762, '47495': 11763, '47496': 11764, '47497': 11765, '47498': 11766, '47499': 11767, '47500': 11768, '47501': 11769, '47503': 11770, '47504': 11771, '47507': 11772, '47508': 11773, '47509': 11774, '47510': 11775, '47511': 11776, '47512': 11777, '47513': 11778, '47514': 11779, '47516': 11780, '47519': 11781, '4752': 11782, '47520': 11783, '47522': 11784, '47523': 11785, '47524': 11786, '47526': 11787, '47527': 11788, '47528': 11789, '47529': 11790, '4753': 11791, '47531': 11792, '47532': 11793, '47533': 11794, '47534': 11795, '47535': 11796, '47536': 11797, '47537': 11798, '47538': 11799, '47539': 11800, '4754': 11801, '47540': 11802, '47541': 11803, '47542': 11804, '47545': 11805, '47546': 11806, '47547': 11807, '47549': 11808, '47550': 11809, '47551': 11810, '47552': 11811, '47553': 11812, '47554': 11813, '47555': 11814, '47556': 11815, '47557': 11816, '47558': 11817, '47559': 11818, '47561': 11819, '47562': 11820, '47563': 11821, '47564': 11822, '47565': 11823, '47566': 11824, '47567': 11825, '47568': 11826, '47569': 11827, '47570': 11828, '47571': 11829, '47573': 11830, '47574': 11831, '47575': 11832, '47576': 11833, '47577': 11834, '47578': 11835, '47579': 11836, '47580': 11837, '47581': 11838, '47583': 11839, '47584': 11840, '47586': 11841, '47588': 11842, '47589': 11843, '47590': 11844, '47591': 11845, '47592': 11846, '47593': 11847, '47594': 11848, '47595': 11849, '47596': 11850, '47597': 11851, '47598': 11852, '47600': 11853, '47601': 11854, '47602': 11855, '47605': 11856, '47606': 11857, '47607': 11858, '47608': 11859, '47609': 11860, '47610': 11861, '47611': 11862, '47612': 11863, '47614': 11864, '47615': 11865, '47616': 11866, '47617': 11867, '47618': 11868, '47621': 11869, '47623': 11870, '47624': 11871, '47625': 11872, '47626': 11873, '47627': 11874, '47629': 11875, '47630': 11876, '47631': 11877, '47632': 11878, '47635': 11879, '47637': 11880, '47638': 11881, '47639': 11882, '47640': 11883, '47641': 11884, '47642': 11885, '47643': 11886, '47644': 11887, '47645': 11888, '47646': 11889, '47647': 11890, '47648': 11891, '47649': 11892, '4765': 11893, '47650': 11894, '47652': 11895, '47653': 11896, '47654': 11897, '47656': 11898, '47657': 11899, '47658': 11900, '47659': 11901, '47660': 11902, '47661': 11903, '47663': 11904, '47664': 11905, '47666': 11906, '47667': 11907, '47668': 11908, '47669': 11909, '47670': 11910, '47671': 11911, '47672': 11912, '47673': 11913, '47674': 11914, '47675': 11915, '47676': 11916, '47677': 11917, '47678': 11918, '47679': 11919, '47680': 11920, '47681': 11921, '47682': 11922, '47684': 11923, '47685': 11924, '47687': 11925, '47688': 11926, '47690': 11927, '47691': 11928, '47692': 11929, '47693': 11930, '47694': 11931, '47696': 11932, '47697': 11933, '47698': 11934, '47699': 11935, '47700': 11936, '47702': 11937, '47705': 11938, '47706': 11939, '47707': 11940, '47708': 11941, '47709': 11942, '47710': 11943, '47711': 11944, '47712': 11945, '47713': 11946, '47715': 11947, '47716': 11948, '47717': 11949, '47719': 11950, '47720': 11951, '47721': 11952, '47722': 11953, '47723': 11954, '47724': 11955, '47725': 11956, '47726': 11957, '47727': 11958, '47729': 11959, '4773': 11960, '47730': 11961, '47731': 11962, '47732': 11963, '47733': 11964, '47735': 11965, '47736': 11966, '47737': 11967, '47738': 11968, '47739': 11969, '4774': 11970, '47740': 11971, '47742': 11972, '47744': 11973, '47745': 11974, '47746': 11975, '47747': 11976, '47750': 11977, '47751': 11978, '47752': 11979, '47753': 11980, '47754': 11981, '47756': 11982, '47757': 11983, '47758': 11984, '47760': 11985, '47761': 11986, '47763': 11987, '47764': 11988, '47765': 11989, '47767': 11990, '47768': 11991, '47769': 11992, '47771': 11993, '47772': 11994, '47773': 11995, '47774': 11996, '47775': 11997, '47776': 11998, '47777': 11999, '47778': 12000, '47781': 12001, '47782': 12002, '47783': 12003, '47784': 12004, '47785': 12005, '47786': 12006, '47787': 12007, '47788': 12008, '47789': 12009, '47790': 12010, '47792': 12011, '47793': 12012, '47794': 12013, '47795': 12014, '47797': 12015, '47798': 12016, '47799': 12017, '478': 12018, '47800': 12019, '47801': 12020, '47802': 12021, '47804': 12022, '47805': 12023, '47806': 12024, '47807': 12025, '47808': 12026, '47810': 12027, '47811': 12028, '47812': 12029, '47813': 12030, '47815': 12031, '47816': 12032, '47818': 12033, '47819': 12034, '4782': 12035, '47820': 12036, '47821': 12037, '47822': 12038, '47823': 12039, '47824': 12040, '47826': 12041, '47827': 12042, '47828': 12043, '47829': 12044, '4783': 12045, '47830': 12046, '47831': 12047, '47832': 12048, '47833': 12049, '47834': 12050, '47835': 12051, '47836': 12052, '47837': 12053, '47838': 12054, '47839': 12055, '4784': 12056, '47840': 12057, '47841': 12058, '47842': 12059, '47843': 12060, '47844': 12061, '47845': 12062, '47846': 12063, '47847': 12064, '47849': 12065, '47850': 12066, '47851': 12067, '47853': 12068, '47854': 12069, '47856': 12070, '47857': 12071, '47858': 12072, '47859': 12073, '47861': 12074, '47862': 12075, '47863': 12076, '47864': 12077, '47865': 12078, '47866': 12079, '47868': 12080, '47869': 12081, '47872': 12082, '47874': 12083, '47875': 12084, '47877': 12085, '47878': 12086, '47879': 12087, '47880': 12088, '47881': 12089, '47882': 12090, '47883': 12091, '47884': 12092, '47885': 12093, '47886': 12094, '47887': 12095, '47888': 12096, '47889': 12097, '47890': 12098, '47891': 12099, '47892': 12100, '47894': 12101, '47895': 12102, '47896': 12103, '47897': 12104, '47898': 12105, '47899': 12106, '47900': 12107, '47901': 12108, '47902': 12109, '47903': 12110, '47904': 12111, '47906': 12112, '47909': 12113, '4791': 12114, '47910': 12115, '47911': 12116, '47913': 12117, '47915': 12118, '47916': 12119, '47917': 12120, '47919': 12121, '47921': 12122, '47922': 12123, '47923': 12124, '47924': 12125, '47926': 12126, '47927': 12127, '47928': 12128, '47929': 12129, '47930': 12130, '47931': 12131, '47932': 12132, '47933': 12133, '47934': 12134, '47935': 12135, '47936': 12136, '47938': 12137, '47939': 12138, '47941': 12139, '47942': 12140, '47944': 12141, '47945': 12142, '47948': 12143, '47950': 12144, '47951': 12145, '47952': 12146, '47953': 12147, '47954': 12148, '47955': 12149, '47956': 12150, '47957': 12151, '47958': 12152, '47959': 12153, '47960': 12154, '47961': 12155, '47962': 12156, '47963': 12157, '47964': 12158, '47965': 12159, '47967': 12160, '47968': 12161, '47969': 12162, '47970': 12163, '47971': 12164, '47972': 12165, '47973': 12166, '47974': 12167, '47975': 12168, '47976': 12169, '47978': 12170, '47980': 12171, '47981': 12172, '47982': 12173, '47983': 12174, '47984': 12175, '47985': 12176, '47986': 12177, '47988': 12178, '47989': 12179, '47991': 12180, '47992': 12181, '47993': 12182, '47994': 12183, '47995': 12184, '47996': 12185, '47997': 12186, '47999': 12187, '4800': 12188, '48000': 12189, '48002': 12190, '48003': 12191, '48004': 12192, '48005': 12193, '48006': 12194, '48007': 12195, '48008': 12196, '48009': 12197, '48010': 12198, '48013': 12199, '48014': 12200, '48015': 12201, '48016': 12202, '48018': 12203, '48019': 12204, '4802': 12205, '48020': 12206, '48021': 12207, '48023': 12208, '48024': 12209, '48025': 12210, '48026': 12211, '48028': 12212, '48030': 12213, '48031': 12214, '48033': 12215, '48034': 12216, '48036': 12217, '48037': 12218, '48038': 12219, '48039': 12220, '4804': 12221, '48040': 12222, '48041': 12223, '48042': 12224, '48043': 12225, '48044': 12226, '48045': 12227, '48046': 12228, '48047': 12229, '48049': 12230, '48050': 12231, '48051': 12232, '48054': 12233, '48055': 12234, '48056': 12235, '48058': 12236, '48059': 12237, '48060': 12238, '48061': 12239, '48062': 12240, '48063': 12241, '48064': 12242, '48065': 12243, '48067': 12244, '48068': 12245, '48069': 12246, '48070': 12247, '48071': 12248, '48072': 12249, '48073': 12250, '48074': 12251, '48075': 12252, '48076': 12253, '48077': 12254, '48078': 12255, '48080': 12256, '48081': 12257, '48082': 12258, '48084': 12259, '48085': 12260, '48086': 12261, '48087': 12262, '48088': 12263, '48089': 12264, '48090': 12265, '48091': 12266, '48092': 12267, '48093': 12268, '48094': 12269, '48095': 12270, '48096': 12271, '48097': 12272, '48098': 12273, '4810': 12274, '48100': 12275, '48101': 12276, '48102': 12277, '48103': 12278, '48104': 12279, '48105': 12280, '48106': 12281, '48107': 12282, '48108': 12283, '48111': 12284, '48112': 12285, '48114': 12286, '48115': 12287, '48116': 12288, '48117': 12289, '48118': 12290, '48119': 12291, '48120': 12292, '48121': 12293, '48123': 12294, '48125': 12295, '48126': 12296, '48127': 12297, '48128': 12298, '4813': 12299, '48130': 12300, '48131': 12301, '48132': 12302, '48133': 12303, '48134': 12304, '48135': 12305, '48136': 12306, '48137': 12307, '48138': 12308, '48139': 12309, '4814': 12310, '48141': 12311, '48142': 12312, '48143': 12313, '48144': 12314, '48146': 12315, '48148': 12316, '48150': 12317, '48151': 12318, '48152': 12319, '48153': 12320, '48155': 12321, '48157': 12322, '48158': 12323, '48159': 12324, '48161': 12325, '48162': 12326, '48163': 12327, '48164': 12328, '48165': 12329, '48166': 12330, '48167': 12331, '48168': 12332, '48169': 12333, '48170': 12334, '48171': 12335, '48172': 12336, '48173': 12337, '48174': 12338, '48177': 12339, '48178': 12340, '48179': 12341, '48181': 12342, '48182': 12343, '48183': 12344, '48184': 12345, '48185': 12346, '48187': 12347, '48192': 12348, '48193': 12349, '48194': 12350, '48196': 12351, '48197': 12352, '48198': 12353, '482': 12354, '48200': 12355, '48202': 12356, '48205': 12357, '48206': 12358, '48207': 12359, '48208': 12360, '4821': 12361, '48210': 12362, '48211': 12363, '48212': 12364, '48213': 12365, '48214': 12366, '48217': 12367, '48218': 12368, '48219': 12369, '4822': 12370, '48220': 12371, '48221': 12372, '48222': 12373, '48223': 12374, '48224': 12375, '48225': 12376, '48226': 12377, '48228': 12378, '4823': 12379, '48230': 12380, '48233': 12381, '48234': 12382, '48235': 12383, '48236': 12384, '48237': 12385, '48238': 12386, '48239': 12387, '48240': 12388, '48241': 12389, '48242': 12390, '48243': 12391, '48244': 12392, '48245': 12393, '48246': 12394, '48247': 12395, '48248': 12396, '4825': 12397, '48250': 12398, '48251': 12399, '48252': 12400, '48253': 12401, '48257': 12402, '48258': 12403, '48259': 12404, '4826': 12405, '48260': 12406, '48261': 12407, '48263': 12408, '48264': 12409, '48265': 12410, '48266': 12411, '48267': 12412, '48268': 12413, '48269': 12414, '48271': 12415, '48272': 12416, '48275': 12417, '48276': 12418, '48277': 12419, '48278': 12420, '48279': 12421, '48280': 12422, '48281': 12423, '48282': 12424, '48283': 12425, '48284': 12426, '48286': 12427, '48287': 12428, '48288': 12429, '48290': 12430, '48293': 12431, '48294': 12432, '48295': 12433, '48296': 12434, '48297': 12435, '48298': 12436, '48299': 12437, '4830': 12438, '48300': 12439, '48301': 12440, '48302': 12441, '48303': 12442, '48305': 12443, '48306': 12444, '48307': 12445, '48308': 12446, '48309': 12447, '48311': 12448, '48312': 12449, '48313': 12450, '48314': 12451, '48315': 12452, '48317': 12453, '48318': 12454, '48319': 12455, '48320': 12456, '48321': 12457, '48322': 12458, '48323': 12459, '48324': 12460, '48325': 12461, '48326': 12462, '48327': 12463, '48328': 12464, '48329': 12465, '48331': 12466, '48332': 12467, '48334': 12468, '48335': 12469, '48337': 12470, '48338': 12471, '48340': 12472, '48342': 12473, '48344': 12474, '48345': 12475, '48346': 12476, '48347': 12477, '48348': 12478, '48349': 12479, '48350': 12480, '48351': 12481, '48352': 12482, '48354': 12483, '48355': 12484, '48357': 12485, '48358': 12486, '48360': 12487, '48361': 12488, '48362': 12489, '48363': 12490, '48364': 12491, '48365': 12492, '48367': 12493, '48368': 12494, '48369': 12495, '48371': 12496, '48372': 12497, '48375': 12498, '48377': 12499, '48378': 12500, '48379': 12501, '48380': 12502, '48384': 12503, '48385': 12504, '48386': 12505, '48387': 12506, '48388': 12507, '48389': 12508, '4839': 12509, '48390': 12510, '48391': 12511, '48392': 12512, '48393': 12513, '48395': 12514, '48397': 12515, '48399': 12516, '48400': 12517, '48401': 12518, '48402': 12519, '48403': 12520, '48404': 12521, '48405': 12522, '48406': 12523, '48407': 12524, '48409': 12525, '48411': 12526, '48412': 12527, '48413': 12528, '48414': 12529, '48415': 12530, '48416': 12531, '48417': 12532, '48418': 12533, '48419': 12534, '48420': 12535, '48421': 12536, '48422': 12537, '48424': 12538, '48426': 12539, '48427': 12540, '48428': 12541, '48429': 12542, '4843': 12543, '48430': 12544, '48431': 12545, '48432': 12546, '48433': 12547, '48436': 12548, '48437': 12549, '48438': 12550, '48439': 12551, '48440': 12552, '48441': 12553, '48442': 12554, '48443': 12555, '48444': 12556, '48445': 12557, '48447': 12558, '48448': 12559, '48449': 12560, '4845': 12561, '48450': 12562, '48451': 12563, '48452': 12564, '48453': 12565, '48454': 12566, '48455': 12567, '48456': 12568, '48457': 12569, '48458': 12570, '48459': 12571, '48460': 12572, '48461': 12573, '48462': 12574, '48463': 12575, '48464': 12576, '48465': 12577, '48466': 12578, '48467': 12579, '48468': 12580, '48469': 12581, '48470': 12582, '48472': 12583, '48473': 12584, '48474': 12585, '48475': 12586, '48476': 12587, '48477': 12588, '48479': 12589, '48480': 12590, '48481': 12591, '48482': 12592, '48483': 12593, '48484': 12594, '48486': 12595, '48487': 12596, '48488': 12597, '48489': 12598, '48491': 12599, '48492': 12600, '48494': 12601, '48495': 12602, '48497': 12603, '48498': 12604, '48499': 12605, '48501': 12606, '48503': 12607, '48504': 12608, '48505': 12609, '48506': 12610, '48507': 12611, '48508': 12612, '48510': 12613, '48511': 12614, '48513': 12615, '48514': 12616, '48516': 12617, '48517': 12618, '48518': 12619, '48520': 12620, '48522': 12621, '48523': 12622, '48524': 12623, '48525': 12624, '48526': 12625, '48527': 12626, '48528': 12627, '48529': 12628, '48530': 12629, '48532': 12630, '48533': 12631, '48534': 12632, '48535': 12633, '48536': 12634, '48538': 12635, '48539': 12636, '48540': 12637, '48541': 12638, '48542': 12639, '48543': 12640, '48544': 12641, '48546': 12642, '48547': 12643, '48548': 12644, '48549': 12645, '4855': 12646, '48550': 12647, '48551': 12648, '48552': 12649, '48553': 12650, '48555': 12651, '48557': 12652, '48558': 12653, '48559': 12654, '4856': 12655, '48560': 12656, '48561': 12657, '48562': 12658, '48563': 12659, '48564': 12660, '48565': 12661, '48566': 12662, '48567': 12663, '48569': 12664, '48570': 12665, '48571': 12666, '48572': 12667, '48573': 12668, '48574': 12669, '48575': 12670, '48576': 12671, '48577': 12672, '48578': 12673, '48579': 12674, '4858': 12675, '48580': 12676, '48581': 12677, '48582': 12678, '48584': 12679, '48585': 12680, '48587': 12681, '48588': 12682, '48589': 12683, '48590': 12684, '48592': 12685, '48593': 12686, '48594': 12687, '48595': 12688, '48596': 12689, '48597': 12690, '48598': 12691, '48599': 12692, '486': 12693, '48600': 12694, '48602': 12695, '48603': 12696, '48604': 12697, '48605': 12698, '48607': 12699, '48608': 12700, '48609': 12701, '4861': 12702, '48611': 12703, '48612': 12704, '48613': 12705, '48614': 12706, '48615': 12707, '48616': 12708, '48617': 12709, '48618': 12710, '48619': 12711, '4862': 12712, '48620': 12713, '48621': 12714, '48622': 12715, '48624': 12716, '48626': 12717, '48627': 12718, '48629': 12719, '48630': 12720, '48631': 12721, '48632': 12722, '48634': 12723, '48635': 12724, '48637': 12725, '48638': 12726, '48639': 12727, '4864': 12728, '48640': 12729, '48643': 12730, '48644': 12731, '48645': 12732, '48646': 12733, '48647': 12734, '48648': 12735, '48649': 12736, '4865': 12737, '48650': 12738, '48651': 12739, '48652': 12740, '48656': 12741, '48658': 12742, '48659': 12743, '4866': 12744, '48661': 12745, '48662': 12746, '48663': 12747, '48664': 12748, '48665': 12749, '48666': 12750, '48667': 12751, '48668': 12752, '48669': 12753, '48670': 12754, '48673': 12755, '48675': 12756, '48676': 12757, '48677': 12758, '48678': 12759, '4868': 12760, '48680': 12761, '48682': 12762, '48683': 12763, '48684': 12764, '48685': 12765, '48686': 12766, '48687': 12767, '48689': 12768, '48690': 12769, '48691': 12770, '48692': 12771, '48693': 12772, '48695': 12773, '48696': 12774, '48697': 12775, '48698': 12776, '48700': 12777, '48703': 12778, '48705': 12779, '48706': 12780, '48708': 12781, '48709': 12782, '48710': 12783, '48712': 12784, '48713': 12785, '48714': 12786, '48715': 12787, '48716': 12788, '48717': 12789, '48718': 12790, '48719': 12791, '48720': 12792, '48721': 12793, '48723': 12794, '48724': 12795, '48725': 12796, '48726': 12797, '48727': 12798, '48728': 12799, '4873': 12800, '48730': 12801, '48732': 12802, '48733': 12803, '48734': 12804, '48735': 12805, '48736': 12806, '48737': 12807, '48739': 12808, '48741': 12809, '48742': 12810, '48744': 12811, '48745': 12812, '48746': 12813, '48747': 12814, '48748': 12815, '48749': 12816, '48750': 12817, '48751': 12818, '48752': 12819, '48753': 12820, '48755': 12821, '48756': 12822, '48757': 12823, '48758': 12824, '48759': 12825, '4876': 12826, '48760': 12827, '48761': 12828, '48762': 12829, '48764': 12830, '48765': 12831, '48766': 12832, '48767': 12833, '48768': 12834, '48769': 12835, '4877': 12836, '48770': 12837, '48771': 12838, '48772': 12839, '48773': 12840, '48774': 12841, '48775': 12842, '48776': 12843, '48778': 12844, '48780': 12845, '48781': 12846, '48783': 12847, '48784': 12848, '48785': 12849, '48787': 12850, '48788': 12851, '48789': 12852, '4879': 12853, '48790': 12854, '48791': 12855, '48792': 12856, '48793': 12857, '48794': 12858, '48795': 12859, '48796': 12860, '48797': 12861, '48799': 12862, '48800': 12863, '48802': 12864, '48803': 12865, '48804': 12866, '48805': 12867, '48806': 12868, '48807': 12869, '48808': 12870, '48809': 12871, '48810': 12872, '48812': 12873, '48813': 12874, '48814': 12875, '48815': 12876, '48816': 12877, '48817': 12878, '48818': 12879, '48820': 12880, '48822': 12881, '48823': 12882, '48824': 12883, '48825': 12884, '48826': 12885, '48827': 12886, '48828': 12887, '48830': 12888, '48831': 12889, '48832': 12890, '48833': 12891, '48834': 12892, '48836': 12893, '48837': 12894, '48838': 12895, '48839': 12896, '48841': 12897, '48843': 12898, '48844': 12899, '48845': 12900, '48846': 12901, '48847': 12902, '48848': 12903, '48849': 12904, '48850': 12905, '48851': 12906, '48852': 12907, '48854': 12908, '48856': 12909, '48857': 12910, '48858': 12911, '48859': 12912, '48860': 12913, '48861': 12914, '48862': 12915, '48863': 12916, '48864': 12917, '48865': 12918, '48866': 12919, '48868': 12920, '48869': 12921, '48870': 12922, '48871': 12923, '48872': 12924, '48873': 12925, '48874': 12926, '48877': 12927, '48878': 12928, '48879': 12929, '48880': 12930, '48881': 12931, '48882': 12932, '48883': 12933, '48884': 12934, '48885': 12935, '48886': 12936, '48887': 12937, '48888': 12938, '4889': 12939, '48890': 12940, '48891': 12941, '48892': 12942, '48894': 12943, '48895': 12944, '48896': 12945, '48897': 12946, '48898': 12947, '48899': 12948, '489': 12949, '48900': 12950, '48902': 12951, '48904': 12952, '48905': 12953, '48906': 12954, '48907': 12955, '48908': 12956, '48909': 12957, '4891': 12958, '48910': 12959, '48911': 12960, '48912': 12961, '48913': 12962, '48914': 12963, '48916': 12964, '48917': 12965, '48918': 12966, '48919': 12967, '48920': 12968, '48921': 12969, '48922': 12970, '48923': 12971, '48924': 12972, '48926': 12973, '48928': 12974, '48929': 12975, '4893': 12976, '48930': 12977, '48931': 12978, '48933': 12979, '48935': 12980, '48936': 12981, '48937': 12982, '48938': 12983, '48939': 12984, '4894': 12985, '48941': 12986, '48942': 12987, '48943': 12988, '48945': 12989, '48947': 12990, '48948': 12991, '48949': 12992, '48950': 12993, '48951': 12994, '48952': 12995, '48953': 12996, '48954': 12997, '48956': 12998, '48957': 12999, '48958': 13000, '48959': 13001, '4896': 13002, '48960': 13003, '48961': 13004, '48962': 13005, '48963': 13006, '48964': 13007, '48965': 13008, '48967': 13009, '48969': 13010, '48971': 13011, '48972': 13012, '48973': 13013, '48974': 13014, '48978': 13015, '48979': 13016, '4898': 13017, '48980': 13018, '48982': 13019, '48984': 13020, '48986': 13021, '48987': 13022, '48988': 13023, '48989': 13024, '48990': 13025, '48991': 13026, '48993': 13027, '48994': 13028, '48995': 13029, '48996': 13030, '48997': 13031, '48998': 13032, '48999': 13033, '490': 13034, '49001': 13035, '49002': 13036, '49003': 13037, '49004': 13038, '49005': 13039, '49006': 13040, '49007': 13041, '49008': 13042, '4901': 13043, '49010': 13044, '49011': 13045, '49012': 13046, '49013': 13047, '49014': 13048, '49016': 13049, '49018': 13050, '49019': 13051, '49021': 13052, '49022': 13053, '49023': 13054, '49024': 13055, '49026': 13056, '49027': 13057, '49028': 13058, '49029': 13059, '49030': 13060, '49031': 13061, '49033': 13062, '49035': 13063, '49036': 13064, '49037': 13065, '49038': 13066, '49039': 13067, '4904': 13068, '49040': 13069, '49041': 13070, '49042': 13071, '49043': 13072, '49044': 13073, '49045': 13074, '49046': 13075, '49049': 13076, '49050': 13077, '49052': 13078, '49053': 13079, '49054': 13080, '49057': 13081, '49059': 13082, '49060': 13083, '49061': 13084, '49062': 13085, '49063': 13086, '49064': 13087, '49067': 13088, '49069': 13089, '49070': 13090, '49071': 13091, '49072': 13092, '49073': 13093, '49074': 13094, '49075': 13095, '49076': 13096, '49077': 13097, '4908': 13098, '49081': 13099, '49082': 13100, '49083': 13101, '49084': 13102, '49085': 13103, '49086': 13104, '49087': 13105, '49090': 13106, '49092': 13107, '49093': 13108, '49095': 13109, '49096': 13110, '49097': 13111, '49098': 13112, '49099': 13113, '49100': 13114, '49102': 13115, '49103': 13116, '49104': 13117, '49105': 13118, '49106': 13119, '49107': 13120, '49108': 13121, '49113': 13122, '49114': 13123, '49115': 13124, '49116': 13125, '49117': 13126, '49119': 13127, '4912': 13128, '49120': 13129, '49121': 13130, '49122': 13131, '49123': 13132, '49124': 13133, '49125': 13134, '49126': 13135, '49127': 13136, '49128': 13137, '49129': 13138, '49130': 13139, '49131': 13140, '49133': 13141, '49134': 13142, '49135': 13143, '49136': 13144, '49137': 13145, '49139': 13146, '4914': 13147, '49140': 13148, '49141': 13149, '49142': 13150, '49143': 13151, '49145': 13152, '49146': 13153, '49147': 13154, '49148': 13155, '49150': 13156, '49151': 13157, '49152': 13158, '4917': 13159, '4920': 13160, '4922': 13161, '4924': 13162, '4930': 13163, '4937': 13164, '494': 13165, '4945': 13166, '495': 13167, '4950': 13168, '496': 13169, '4971': 13170, '4976': 13171, '4978': 13172, '4982': 13173, '4984': 13174, '4986': 13175, '4990': 13176, '4991': 13177, '4992': 13178, '4999': 13179, '5005': 13180, '5009': 13181, '5010': 13182, '5015': 13183, '5017': 13184, '5025': 13185, '5033': 13186, '5037': 13187, '5038': 13188, '5039': 13189, '5041': 13190, '5044': 13191, '5049': 13192, '505': 13193, '5057': 13194, '5062': 13195, '5069': 13196, '5072': 13197, '5073': 13198, '5077': 13199, '508': 13200, '5085': 13201, '5086': 13202, '5095': 13203, '5114': 13204, '5116': 13205, '5117': 13206, '5118': 13207, '512': 13208, '5120': 13209, '5134': 13210, '5139': 13211, '5142': 13212, '5160': 13213, '5164': 13214, '5167': 13215, '5170': 13216, '5173': 13217, '5174': 13218, '5179': 13219, '5180': 13220, '5182': 13221, '5184': 13222, '5192': 13223, '5194': 13224, '5198': 13225, '5201': 13226, '5213': 13227, '5214': 13228, '5216': 13229, '5226': 13230, '5232': 13231, '5235': 13232, '5239': 13233, '5244': 13234, '5256': 13235, '5258': 13236, '5262': 13237, '5272': 13238, '5279': 13239, '5280': 13240, '5284': 13241, '5291': 13242, '5294': 13243, '5296': 13244, '5302': 13245, '5303': 13246, '5306': 13247, '531': 13248, '5316': 13249, '532': 13250, '5326': 13251, '5327': 13252, '5331': 13253, '5335': 13254, '5337': 13255, '5342': 13256, '5345': 13257, '5347': 13258, '535': 13259, '5351': 13260, '5364': 13261, '5365': 13262, '5383': 13263, '5388': 13264, '539': 13265, '5391': 13266, '5394': 13267, '5396': 13268, '5398': 13269, '5399': 13270, '5401': 13271, '5402': 13272, '5407': 13273, '5408': 13274, '5410': 13275, '5412': 13276, '5437': 13277, '5439': 13278, '5440': 13279, '5442': 13280, '5447': 13281, '5455': 13282, '546': 13283, '5480': 13284, '5481': 13285, '549': 13286, '5494': 13287, '5497': 13288, '5498': 13289, '5506': 13290, '5508': 13291, '5513': 13292, '5515': 13293, '5522': 13294, '5523': 13295, '5535': 13296, '5537': 13297, '5538': 13298, '5542': 13299, '5543': 13300, '5546': 13301, '5547': 13302, '5548': 13303, '5549': 13304, '5556': 13305, '5559': 13306, '5565': 13307, '5566': 13308, '5575': 13309, '5576': 13310, '5577': 13311, '5578': 13312, '5584': 13313, '5588': 13314, '5589': 13315, '559': 13316, '5590': 13317, '5591': 13318, '5595': 13319, '56': 13320, '5600': 13321, '5602': 13322, '5617': 13323, '5619': 13324, '5621': 13325, '5624': 13326, '5626': 13327, '563': 13328, '5633': 13329, '5639': 13330, '564': 13331, '5641': 13332, '5644': 13333, '5647': 13334, '5648': 13335, '5654': 13336, '5659': 13337, '566': 13338, '5661': 13339, '5665': 13340, '5667': 13341, '5671': 13342, '5675': 13343, '5677': 13344, '5697': 13345, '570': 13346, '5701': 13347, '5706': 13348, '5709': 13349, '5717': 13350, '5719': 13351, '5721': 13352, '5724': 13353, '5727': 13354, '5735': 13355, '5762': 13356, '5768': 13357, '577': 13358, '5781': 13359, '5790': 13360, '5795': 13361, '5798': 13362, '5802': 13363, '5803': 13364, '5805': 13365, '5806': 13366, '5813': 13367, '5817': 13368, '5818': 13369, '583': 13370, '5830': 13371, '5836': 13372, '5841': 13373, '5843': 13374, '5849': 13375, '5856': 13376, '5863': 13377, '5877': 13378, '5880': 13379, '5888': 13380, '5889': 13381, '5898': 13382, '59': 13383, '590': 13384, '5900': 13385, '5910': 13386, '5919': 13387, '5923': 13388, '5931': 13389, '5935': 13390, '5937': 13391, '5939': 13392, '5944': 13393, '5947': 13394, '5948': 13395, '5949': 13396, '595': 13397, '5961': 13398, '5962': 13399, '5964': 13400, '5968': 13401, '5971': 13402, '5978': 13403, '5979': 13404, '5982': 13405, '5996': 13406, '6002': 13407, '6006': 13408, '6010': 13409, '6013': 13410, '6020': 13411, '6021': 13412, '6022': 13413, '6033': 13414, '6038': 13415, '6051': 13416, '6052': 13417, '6055': 13418, '6061': 13419, '6066': 13420, '6068': 13421, '6070': 13422, '6072': 13423, '6077': 13424, '6078': 13425, '6083': 13426, '6086': 13427, '609': 13428, '6091': 13429, '610': 13430, '6101': 13431, '6104': 13432, '6122': 13433, '6130': 13434, '6135': 13435, '614': 13436, '6143': 13437, '6145': 13438, '6146': 13439, '6150': 13440, '6160': 13441, '6161': 13442, '6163': 13443, '617': 13444, '6171': 13445, '6175': 13446, '6177': 13447, '6183': 13448, '6185': 13449, '619': 13450, '6192': 13451, '6196': 13452, '62': 13453, '620': 13454, '6200': 13455, '6203': 13456, '6205': 13457, '621': 13458, '6210': 13459, '6218': 13460, '6223': 13461, '6225': 13462, '623': 13463, '6230': 13464, '624': 13465, '6243': 13466, '6251': 13467, '626': 13468, '6265': 13469, '6266': 13470, '6274': 13471, '6275': 13472, '6278': 13473, '6279': 13474, '6287': 13475, '6288': 13476, '6289': 13477, '6291': 13478, '6294': 13479, '6298': 13480, '6302': 13481, '6306': 13482, '6310': 13483, '6327': 13484, '6328': 13485, '633': 13486, '6333': 13487, '6342': 13488, '6348': 13489, '6355': 13490, '6369': 13491, '6387': 13492, '6396': 13493, '6397': 13494, '640': 13495, '6404': 13496, '6415': 13497, '6418': 13498, '6422': 13499, '6423': 13500, '6426': 13501, '6438': 13502, '6442': 13503, '646': 13504, '6466': 13505, '6471': 13506, '6478': 13507, '6479': 13508, '6484': 13509, '6485': 13510, '6487': 13511, '6503': 13512, '6506': 13513, '651': 13514, '6510': 13515, '6511': 13516, '6516': 13517, '6517': 13518, '6518': 13519, '6520': 13520, '6526': 13521, '6536': 13522, '6537': 13523, '6539': 13524, '6542': 13525, '6553': 13526, '6562': 13527, '6564': 13528, '6565': 13529, '6572': 13530, '6575': 13531, '6583': 13532, '6593': 13533, '6596': 13534, '6598': 13535, '6606': 13536, '6608': 13537, '6624': 13538, '6625': 13539, '6634': 13540, '6639': 13541, '6641': 13542, '6648': 13543, '666': 13544, '6665': 13545, '6666': 13546, '6667': 13547, '6668': 13548, '6670': 13549, '6672': 13550, '6676': 13551, '6678': 13552, '6680': 13553, '6687': 13554, '6688': 13555, '669': 13556, '6690': 13557, '6707': 13558, '6708': 13559, '6713': 13560, '6716': 13561, '6717': 13562, '6720': 13563, '6726': 13564, '6732': 13565, '6750': 13566, '6755': 13567, '6764': 13568, '6767': 13569, '6769': 13570, '677': 13571, '6772': 13572, '6774': 13573, '6779': 13574, '6783': 13575, '6784': 13576, '6785': 13577, '6793': 13578, '6797': 13579, '68': 13580, '6802': 13581, '6804': 13582, '6816': 13583, '6823': 13584, '6824': 13585, '6829': 13586, '6847': 13587, '6853': 13588, '6854': 13589, '6859': 13590, '686': 13591, '6869': 13592, '6872': 13593, '6877': 13594, '6887': 13595, '6892': 13596, '69': 13597, '6901': 13598, '6903': 13599, '6904': 13600, '691': 13601, '6910': 13602, '6918': 13603, '6928': 13604, '6936': 13605, '6939': 13606, '6944': 13607, '6945': 13608, '6946': 13609, '6949': 13610, '6960': 13611, '6967': 13612, '6970': 13613, '6972': 13614, '6973': 13615, '6976': 13616, '6981': 13617, '6983': 13618, '6986': 13619, '6988': 13620, '6990': 13621, '6997': 13622, '701': 13623, '7019': 13624, '7030': 13625, '7031': 13626, '7032': 13627, '7048': 13628, '7056': 13629, '7069': 13630, '7070': 13631, '7081': 13632, '7086': 13633, '709': 13634, '7098': 13635, '71': 13636, '710': 13637, '7106': 13638, '7108': 13639, '7115': 13640, '7118': 13641, '7126': 13642, '7128': 13643, '7129': 13644, '7141': 13645, '7142': 13646, '7145': 13647, '7149': 13648, '7169': 13649, '717': 13650, '7170': 13651, '7172': 13652, '7186': 13653, '7188': 13654, '7195': 13655, '7197': 13656, '7198': 13657, '720': 13658, '7204': 13659, '7212': 13660, '7213': 13661, '7216': 13662, '7221': 13663, '7223': 13664, '7226': 13665, '7243': 13666, '7259': 13667, '727': 13668, '7272': 13669, '7280': 13670, '7288': 13671, '7293': 13672, '7294': 13673, '7298': 13674, '730': 13675, '7302': 13676, '7303': 13677, '7307': 13678, '7309': 13679, '7318': 13680, '7320': 13681, '7326': 13682, '7328': 13683, '7330': 13684, '7334': 13685, '7335': 13686, '7337': 13687, '734': 13688, '7341': 13689, '7351': 13690, '7353': 13691, '7363': 13692, '7368': 13693, '7375': 13694, '7378': 13695, '7379': 13696, '7386': 13697, '7387': 13698, '7388': 13699, '7403': 13700, '7406': 13701, '7420': 13702, '7425': 13703, '7430': 13704, '7438': 13705, '7441': 13706, '7445': 13707, '7447': 13708, '7450': 13709, '7458': 13710, '746': 13711, '7466': 13712, '7468': 13713, '7470': 13714, '7471': 13715, '748': 13716, '7482': 13717, '7492': 13718, '7495': 13719, '7498': 13720, '7501': 13721, '7505': 13722, '7508': 13723, '7509': 13724, '751': 13725, '7526': 13726, '753': 13727, '7540': 13728, '7541': 13729, '7551': 13730, '7556': 13731, '7568': 13732, '7571': 13733, '7574': 13734, '7575': 13735, '7582': 13736, '7583': 13737, '7586': 13738, '7588': 13739, '7589': 13740, '7592': 13741, '7595': 13742, '7601': 13743, '7602': 13744, '7604': 13745, '7605': 13746, '7606': 13747, '7613': 13748, '7614': 13749, '7629': 13750, '763': 13751, '7630': 13752, '764': 13753, '7642': 13754, '7646': 13755, '7647': 13756, '7653': 13757, '7659': 13758, '7668': 13759, '7678': 13760, '7679': 13761, '7683': 13762, '7692': 13763, '7696': 13764, '7699': 13765, '7703': 13766, '7706': 13767, '7712': 13768, '7713': 13769, '772': 13770, '7723': 13771, '7724': 13772, '7730': 13773, '7741': 13774, '7748': 13775, '7751': 13776, '7754': 13777, '7755': 13778, '7756': 13779, '7757': 13780, '776': 13781, '7760': 13782, '7765': 13783, '777': 13784, '7776': 13785, '7777': 13786, '7788': 13787, '779': 13788, '7791': 13789, '7793': 13790, '780': 13791, '7801': 13792, '7802': 13793, '7813': 13794, '7817': 13795, '7822': 13796, '7824': 13797, '7835': 13798, '7840': 13799, '7846': 13800, '7867': 13801, '7869': 13802, '7871': 13803, '7872': 13804, '7876': 13805, '7878': 13806, '7883': 13807, '7885': 13808, '7897': 13809, '7899': 13810, '7906': 13811, '7919': 13812, '792': 13813, '7925': 13814, '7927': 13815, '7930': 13816, '7931': 13817, '7933': 13818, '7943': 13819, '7951': 13820, '7952': 13821, '7961': 13822, '7963': 13823, '7964': 13824, '7969': 13825, '7976': 13826, '7977': 13827, '7992': 13828, '7995': 13829, '7996': 13830, '7999': 13831, '80': 13832, '8001': 13833, '8002': 13834, '8007': 13835, '8009': 13836, '8018': 13837, '8028': 13838, '8033': 13839, '8034': 13840, '8041': 13841, '8046': 13842, '805': 13843, '8052': 13844, '8055': 13845, '8067': 13846, '8069': 13847, '8074': 13848, '8083': 13849, '8085': 13850, '8086': 13851, '809': 13852, '8099': 13853, '8101': 13854, '8112': 13855, '8115': 13856, '8116': 13857, '8118': 13858, '8127': 13859, '8130': 13860, '8134': 13861, '8146': 13862, '8158': 13863, '8165': 13864, '8166': 13865, '8170': 13866, '8174': 13867, '8175': 13868, '818': 13869, '8181': 13870, '8188': 13871, '819': 13872, '8191': 13873, '8193': 13874, '8195': 13875, '8197': 13876, '8203': 13877, '8209': 13878, '8212': 13879, '822': 13880, '8220': 13881, '8223': 13882, '8228': 13883, '8234': 13884, '8238': 13885, '8239': 13886, '824': 13887, '8242': 13888, '8256': 13889, '8257': 13890, '8259': 13891, '826': 13892, '8263': 13893, '8264': 13894, '8266': 13895, '8270': 13896, '8272': 13897, '8284': 13898, '829': 13899, '8298': 13900, '830': 13901, '8300': 13902, '8301': 13903, '8305': 13904, '8307': 13905, '8309': 13906, '8318': 13907, '8323': 13908, '8329': 13909, '8331': 13910, '8334': 13911, '8336': 13912, '8340': 13913, '8341': 13914, '8357': 13915, '8361': 13916, '8363': 13917, '8368': 13918, '8372': 13919, '8377': 13920, '8387': 13921, '8390': 13922, '8395': 13923, '8397': 13924, '84': 13925, '8404': 13926, '8407': 13927, '8408': 13928, '8414': 13929, '8417': 13930, '8422': 13931, '8427': 13932, '8429': 13933, '8432': 13934, '8433': 13935, '8436': 13936, '8439': 13937, '8444': 13938, '8449': 13939, '845': 13940, '8459': 13941, '8461': 13942, '8466': 13943, '847': 13944, '8474': 13945, '8476': 13946, '8485': 13947, '8487': 13948, '8488': 13949, '849': 13950, '8495': 13951, '8498': 13952, '8509': 13953, '851': 13954, '8517': 13955, '8518': 13956, '8523': 13957, '8528': 13958, '8551': 13959, '8552': 13960, '8556': 13961, '8561': 13962, '8569': 13963, '857': 13964, '8574': 13965, '8592': 13966, '8598': 13967, '8599': 13968, '8603': 13969, '8604': 13970, '8617': 13971, '8618': 13972, '8625': 13973, '8634': 13974, '8636': 13975, '8639': 13976, '8642': 13977, '8659': 13978, '866': 13979, '8664': 13980, '8667': 13981, '8679': 13982, '8681': 13983, '8695': 13984, '8698': 13985, '87': 13986, '8703': 13987, '8711': 13988, '872': 13989, '8722': 13990, '8723': 13991, '8726': 13992, '873': 13993, '8731': 13994, '8734': 13995, '8735': 13996, '8740': 13997, '8746': 13998, '8756': 13999, '876': 14000, '8767': 14001, '8770': 14002, '8790': 14003, '8795': 14004, '8799': 14005, '8802': 14006, '8811': 14007, '8814': 14008, '8818': 14009, '882': 14010, '8820': 14011, '883': 14012, '8831': 14013, '884': 14014, '8843': 14015, '8845': 14016, '8850': 14017, '8857': 14018, '8859': 14019, '8862': 14020, '8865': 14021, '8870': 14022, '8872': 14023, '8880': 14024, '8885': 14025, '8888': 14026, '8891': 14027, '8894': 14028, '8900': 14029, '8904': 14030, '8905': 14031, '8912': 14032, '8916': 14033, '8925': 14034, '8926': 14035, '8927': 14036, '8928': 14037, '8929': 14038, '8936': 14039, '8940': 14040, '8941': 14041, '8950': 14042, '8952': 14043, '8958': 14044, '8959': 14045, '8961': 14046, '8963': 14047, '8971': 14048, '8973': 14049, '8974': 14050, '8976': 14051, '8977': 14052, '898': 14053, '8980': 14054, '8981': 14055, '8982': 14056, '8987': 14057, '8990': 14058, '90': 14059, '900': 14060, '9000': 14061, '9002': 14062, '9006': 14063, '9010': 14064, '9013': 14065, '9014': 14066, '9020': 14067, '9021': 14068, '9024': 14069, '9026': 14070, '9032': 14071, '9033': 14072, '9034': 14073, '9037': 14074, '9040': 14075, '9043': 14076, '9046': 14077, '9048': 14078, '9056': 14079, '9063': 14080, '9069': 14081, '9075': 14082, '9079': 14083, '9082': 14084, '9089': 14085, '9098': 14086, '910': 14087, '9105': 14088, '9106': 14089, '9107': 14090, '9109': 14091, '911': 14092, '9110': 14093, '9111': 14094, '9118': 14095, '9120': 14096, '9127': 14097, '9131': 14098, '9134': 14099, '9142': 14100, '9144': 14101, '9145': 14102, '9146': 14103, '9149': 14104, '9152': 14105, '9156': 14106, '9157': 14107, '9162': 14108, '9164': 14109, '9169': 14110, '9171': 14111, '9177': 14112, '918': 14113, '9181': 14114, '9182': 14115, '9183': 14116, '9184': 14117, '9186': 14118, '9187': 14119, '9188': 14120, '9190': 14121, '9195': 14122, '9203': 14123, '9208': 14124, '9218': 14125, '9234': 14126, '9239': 14127, '9242': 14128, '9244': 14129, '9251': 14130, '9252': 14131, '9254': 14132, '9255': 14133, '9258': 14134, '926': 14135, '9260': 14136, '9264': 14137, '9265': 14138, '9271': 14139, '9275': 14140, '9277': 14141, '9278': 14142, '9279': 14143, '9281': 14144, '9284': 14145, '9285': 14146, '9294': 14147, '9296': 14148, '9297': 14149, '93': 14150, '9303': 14151, '9304': 14152, '9306': 14153, '9315': 14154, '932': 14155, '9320': 14156, '9328': 14157, '9329': 14158, '9338': 14159, '9341': 14160, '9342': 14161, '9344': 14162, '9349': 14163, '9359': 14164, '9362': 14165, '9367': 14166, '9373': 14167, '9379': 14168, '9380': 14169, '9384': 14170, '9388': 14171, '9391': 14172, '9406': 14173, '9409': 14174, '942': 14175, '9424': 14176, '943': 14177, '9438': 14178, '9440': 14179, '9441': 14180, '9450': 14181, '9452': 14182, '9454': 14183, '9456': 14184, '9460': 14185, '9463': 14186, '9473': 14187, '9479': 14188, '9488': 14189, '9502': 14190, '9503': 14191, '9513': 14192, '9515': 14193, '9518': 14194, '9522': 14195, '9531': 14196, '9532': 14197, '9535': 14198, '9536': 14199, '954': 14200, '9543': 14201, '9545': 14202, '9546': 14203, '9549': 14204, '955': 14205, '9550': 14206, '9555': 14207, '9557': 14208, '9558': 14209, '9559': 14210, '956': 14211, '9564': 14212, '9569': 14213, '9574': 14214, '9579': 14215, '958': 14216, '9581': 14217, '9583': 14218, '9584': 14219, '9586': 14220, '9592': 14221, '9595': 14222, '9599': 14223, '9609': 14224, '9619': 14225, '9620': 14226, '9622': 14227, '9624': 14228, '963': 14229, '9642': 14230, '965': 14231, '9652': 14232, '9654': 14233, '9656': 14234, '9657': 14235, '9659': 14236, '9663': 14237, '9667': 14238, '9680': 14239, '9683': 14240, '9685': 14241, '9688': 14242, '969': 14243, '9694': 14244, '9697': 14245, '970': 14246, '9705': 14247, '9706': 14248, '9708': 14249, '9711': 14250, '9714': 14251, '9715': 14252, '9718': 14253, '972': 14254, '9723': 14255, '9727': 14256, '9730': 14257, '9733': 14258, '9744': 14259, '9746': 14260, '9748': 14261, '9754': 14262, '978': 14263, '9782': 14264, '9783': 14265, '9786': 14266, '9787': 14267, '9790': 14268, '9793': 14269, '9795': 14270, '9803': 14271, '9809': 14272, '9820': 14273, '9821': 14274, '9826': 14275, '9834': 14276, '9835': 14277, '9837': 14278, '9842': 14279, '9857': 14280, '9859': 14281, '9860': 14282, '9875': 14283, '9883': 14284, '99': 14285, '9903': 14286, '9913': 14287, '9935': 14288, '9936': 14289, '9939': 14290, '9940': 14291, '9942': 14292, '9946': 14293, '9949': 14294, '995': 14295, '9956': 14296, '9965': 14297, '9978': 14298, '9984': 14299, '9986': 14300, '9995': 14301, '9996': 14302, '9998': 14303})\n"
          ],
          "name": "stdout"
        }
      ]
    },
    {
      "cell_type": "markdown",
      "metadata": {
        "id": "HHR_0wtw4XO2",
        "colab_type": "text"
      },
      "source": [
        ""
      ]
    },
    {
      "cell_type": "code",
      "metadata": {
        "id": "_HfcTlJmHWa3",
        "colab_type": "code",
        "colab": {}
      },
      "source": [
        "train_iterator, valid_iterator, test_iterator = data.BucketIterator.splits(\n",
        "    (train_data, valid_data, test_data),\n",
        "    sort_key=lambda x: len(x.text), \n",
        "    batch_size = BATCH_SIZE, \n",
        "    device = device)\n",
        "\n"
      ],
      "execution_count": 0,
      "outputs": []
    },
    {
      "cell_type": "code",
      "metadata": {
        "id": "tY6rP1bsSK2i",
        "colab_type": "code",
        "colab": {}
      },
      "source": [
        "# for batch in test_iterator:\n",
        "#       print(batch.text)"
      ],
      "execution_count": 0,
      "outputs": []
    },
    {
      "cell_type": "code",
      "metadata": {
        "id": "uaX9fJ2BHcUs",
        "colab_type": "code",
        "colab": {}
      },
      "source": [
        "\n",
        "from transformers import BertTokenizer, BertModel\n",
        "bert = BertModel.from_pretrained(bert_model)\n"
      ],
      "execution_count": 0,
      "outputs": []
    },
    {
      "cell_type": "code",
      "metadata": {
        "id": "W1zxSgTlHmkz",
        "colab_type": "code",
        "colab": {}
      },
      "source": [
        "import torch.nn as nn\n",
        "import torch.nn.functional as F\n",
        "\n",
        "class BERTGRUSentiment(nn.Module):\n",
        "    def __init__(self,\n",
        "                 bert,\n",
        "                 hidden_dim,\n",
        "                 output_dim,\n",
        "                 n_layers,\n",
        "                 bidirectional,\n",
        "                 dropout):\n",
        "        \n",
        "        super().__init__()\n",
        "        \n",
        "        self.bert = bert\n",
        "        \n",
        "        embedding_dim = bert.config.to_dict()['hidden_size']\n",
        "        # self.conv_0 = nn.Conv2d(in_channels = 1, \n",
        "        #                         out_channels = n_filters, \n",
        "        #                         kernel_size = (filter_sizes, embedding_dim))\n",
        "        self.rnn = nn.GRU(embedding_dim,\n",
        "                          hidden_dim,\n",
        "                          num_layers = n_layers,\n",
        "                          bidirectional = bidirectional,\n",
        "                          batch_first = True,\n",
        "                          dropout = 0 if n_layers < 2 else dropout)\n",
        "        # self.conv = nn.Conv1d(74,74, 3)\n",
        "        self.out = nn.Linear(hidden_dim * 2 if bidirectional else hidden_dim, output_dim)\n",
        "        \n",
        "        self.dropout = nn.Dropout(dropout)\n",
        "        \n",
        "    def forward(self, text):\n",
        "        \n",
        "        #text = [batch size, sent len]\n",
        "                \n",
        "        with torch.no_grad():\n",
        "            embedded = self.bert(text)[0]\n",
        "        #print(embedded.size())\n",
        "        #embedded = [batch size, sent len, emb dim]\n",
        "        \n",
        "        _, hidden = self.rnn(embedded)\n",
        "        #hidden = [n layers * n directions, batch size, emb dim]\n",
        "        #print(hidden.size())\n",
        "        if self.rnn.bidirectional:\n",
        "            hidden = self.dropout(torch.cat((hidden[-2,:,:], hidden[-1,:,:]), dim = 1))\n",
        "        else:\n",
        "            hidden = self.dropout(hidden[-1,:,:])\n",
        "        #print(hidden.size())\n",
        "        #hidden = [batch size, hid dim]\n",
        "        # hidden = hidden.unsqueeze(1)\n",
        "        output = self.out(hidden)\n",
        "        \n",
        "        #output = [batch size, out dim]\n",
        "        \n",
        "        return output\n",
        "class BERTCNNSentiment(nn.Module):\n",
        "    def __init__(self,\n",
        "                 bert,\n",
        "                 hidden_dim,\n",
        "                 output_dim,\n",
        "                 n_layers,\n",
        "                 bidirectional,\n",
        "                 dropout,n_filters,filter_sizes):\n",
        "        \n",
        "        super().__init__()\n",
        "        \n",
        "        self.bert = bert\n",
        "        \n",
        "        embedding_dim = bert.config.to_dict()['hidden_size']\n",
        "        self.conv_0 = nn.Conv2d(in_channels = 1, \n",
        "                                out_channels = n_filters, \n",
        "                                kernel_size = (filter_sizes[0], embedding_dim))\n",
        "        \n",
        "        self.conv_1 = nn.Conv2d(in_channels = 1, \n",
        "                                out_channels = n_filters, \n",
        "                                kernel_size = (filter_sizes[1], embedding_dim))\n",
        "        \n",
        "        self.conv_2 = nn.Conv2d(in_channels = 1, \n",
        "                                out_channels = n_filters, \n",
        "                                kernel_size = (filter_sizes[2], embedding_dim))\n",
        "        \n",
        "        self.fc = nn.Linear(len(filter_sizes) * n_filters, output_dim)\n",
        "        \n",
        "        self.dropout = nn.Dropout(dropout)\n",
        "\n",
        "    def forward(self, text):\n",
        "        \n",
        "        #text = [batch size, sent len]\n",
        "                \n",
        "        with torch.no_grad():\n",
        "            embedded = self.bert(text)[0]\n",
        "        #print(embedded.size())\n",
        "        #embedded = [batch size, sent len, emb dim]\n",
        "        \n",
        "        embedded = embedded.unsqueeze(1)\n",
        "        \n",
        "        #embedded = [batch size, 1, sent len, emb dim]\n",
        "        \n",
        "        conved_0 = F.relu(self.conv_0(embedded).squeeze(3))\n",
        "        conved_1 = F.relu(self.conv_1(embedded).squeeze(3))\n",
        "        conved_2 = F.relu(self.conv_2(embedded).squeeze(3))\n",
        "            \n",
        "        #conved_n = [batch size, n_filters, sent len - filter_sizes[n] + 1]\n",
        "        \n",
        "        pooled_0 = F.max_pool1d(conved_0, conved_0.shape[2]).squeeze(2)\n",
        "        pooled_1 = F.max_pool1d(conved_1, conved_1.shape[2]).squeeze(2)\n",
        "        pooled_2 = F.max_pool1d(conved_2, conved_2.shape[2]).squeeze(2)\n",
        "        \n",
        "        #pooled_n = [batch size, n_filters]\n",
        "        \n",
        "        cat = self.dropout(torch.cat((pooled_0, pooled_1, pooled_2), dim = 1))\n",
        "\n",
        "        #cat = [batch size, n_filters * len(filter_sizes)]\n",
        "            \n",
        "        return self.fc(cat)\n"
      ],
      "execution_count": 0,
      "outputs": []
    },
    {
      "cell_type": "code",
      "metadata": {
        "id": "gO13qSpBH6Ey",
        "colab_type": "code",
        "outputId": "a6d84cc4-aed1-421d-fe2f-71cb117916da",
        "colab": {
          "base_uri": "https://localhost:8080/",
          "height": 52
        }
      },
      "source": [
        "HIDDEN_DIM = 100\n",
        "OUTPUT_DIM = 3\n",
        "N_LAYERS = 1\n",
        "BIDIRECTIONAL = True\n",
        "DROPOUT = 0.5\n",
        "N_FILTERS = 100\n",
        "FILTER_SIZES = [2,3,4]\n",
        "model = BERTGRUSentiment(bert,\n",
        "                         HIDDEN_DIM,\n",
        "                         OUTPUT_DIM,\n",
        "                         N_LAYERS,\n",
        "                         BIDIRECTIONAL,\n",
        "                         DROPOUT)\n",
        "\n",
        "# model = BERTCNNSentiment(bert,\n",
        "#                          HIDDEN_DIM,\n",
        "#                          OUTPUT_DIM,\n",
        "#                          N_LAYERS,\n",
        "#                          BIDIRECTIONAL,\n",
        "#                          DROPOUT,N_FILTERS,FILTER_SIZES)\n",
        "# We can check how many parameters the model has. Our standard models have under 5M, but this one has 112M! Luckily, 110M of these parameters are from the transformer and we will not be training those.\n",
        "\n",
        "# In[100]:\n",
        "\n",
        "\n",
        "def count_parameters(model):\n",
        "    return sum(p.numel() for p in model.parameters() if p.requires_grad)\n",
        "\n",
        "print(f'The model has {count_parameters(model):,} trainable parameters')\n",
        "\n",
        "\n",
        "# In order to freeze paramers (not train them) we need to set their `requires_grad` attribute to `False`. To do this, we simply loop through all of the `named_parameters` in our model and if they're a part of the `bert` transformer model, we set `requires_grad = False`. \n",
        "\n",
        "# In[101]:\n",
        "\n",
        "\n",
        "# for name, param in model.named_parameters():                \n",
        "#     if name.startswith('bert'):\n",
        "#         param.requires_grad = False\n",
        "\n",
        "\n",
        "# We can now see that our model has under 3M trainable parameters, making it almost comparable to the `FastText` model. However, the text still has to propagate through the transformer which causes training to take considerably longer.\n",
        "\n",
        "# In[102]:\n",
        "\n",
        "\n",
        "def count_parameters(model):\n",
        "    return sum(p.numel() for p in model.parameters() if p.requires_grad)\n",
        "\n",
        "print(f'The model has {count_parameters(model):,} trainable parameters')\n"
      ],
      "execution_count": 33,
      "outputs": [
        {
          "output_type": "stream",
          "text": [
            "The model has 522,603 trainable parameters\n",
            "The model has 522,603 trainable parameters\n"
          ],
          "name": "stdout"
        }
      ]
    },
    {
      "cell_type": "code",
      "metadata": {
        "id": "zrmNft5kIBWK",
        "colab_type": "code",
        "colab": {}
      },
      "source": [
        "import torch.optim as optim\n",
        "\n",
        "optimizer = optim.Adam(model.parameters())\n",
        "\n",
        "\n",
        "# In[105]:\n",
        "\n",
        "\n",
        "criterion = nn.CrossEntropyLoss()\n",
        "\n",
        "\n",
        "# Place the model and criterion onto the GPU (if available)\n",
        "\n",
        "# In[106]:\n",
        "\n",
        "\n",
        "model = model.to(device)\n",
        "criterion = criterion.to(device)\n",
        "\n",
        "\n",
        "# Next, we'll define functions for: calculating accuracy, performing a training epoch, performing an evaluation epoch and calculating how long a training/evaluation epoch takes.\n",
        "\n",
        "# In[107]:\n",
        "\n",
        "\n"
      ],
      "execution_count": 0,
      "outputs": []
    },
    {
      "cell_type": "code",
      "metadata": {
        "id": "Sj5JrQYo31WA",
        "colab_type": "code",
        "colab": {}
      },
      "source": [
        "\n",
        "def categorical_accuracy(preds, y):\n",
        "    count0,count1,count2 = torch.zeros(1),torch.zeros(1),torch.zeros(1)\n",
        "    total0,total1,total2 = torch.FloatTensor(1),torch.FloatTensor(1),torch.FloatTensor(1)\n",
        "    max_preds = preds.argmax(dim = 1, keepdim = True) # get the index of the max probability\n",
        "    correct = max_preds.squeeze(1).eq(y)\n",
        "    true_correct = [0,0,0]\n",
        "    for j,i in enumerate(y.cpu().numpy()):\n",
        "      true_correct[y.cpu().numpy()[j]]+=1\n",
        "      if i==0:\n",
        "        count0+=correct[j]\n",
        "        total0+=1\n",
        "      elif i==1:\n",
        "        count1+=correct[j]\n",
        "        total1+=1\n",
        "      elif i==2:\n",
        "        count2+=correct[j]\n",
        "      else:\n",
        "        total2+=1\n",
        "\n",
        "    return correct.sum() / torch.FloatTensor([y.shape[0]]),torch.FloatTensor([count0/true_correct[0],count1/true_correct[1],count2/true_correct[2]])\n",
        "\n",
        "\n",
        "# In[108]:\n",
        "\n",
        "\n",
        "def train(model, iterator, optimizer, criterion):\n",
        "    \n",
        "    epoch_loss = 0\n",
        "    epoch_acc = 0\n",
        "    \n",
        "    model.train()\n",
        "    \n",
        "    for batch in iterator:\n",
        "        \n",
        "        optimizer.zero_grad()\n",
        "        \n",
        "        predictions = model(batch.text).squeeze(1)\n",
        "\n",
        "\n",
        "\n",
        "        loss = criterion(predictions, batch.label)\n",
        "        \n",
        "        acc,_ = categorical_accuracy(predictions, batch.label)\n",
        "        \n",
        "        loss.backward()\n",
        "        \n",
        "        optimizer.step()\n",
        "        \n",
        "        epoch_loss += loss.item()\n",
        "        epoch_acc += acc.item()\n",
        "        \n",
        "    return epoch_loss / len(iterator), epoch_acc / len(iterator)"
      ],
      "execution_count": 0,
      "outputs": []
    },
    {
      "cell_type": "code",
      "metadata": {
        "id": "aYbK81uPIKE6",
        "colab_type": "code",
        "colab": {}
      },
      "source": [
        "def evaluate(model, iterator, criterion):\n",
        "    \n",
        "    epoch_loss = 0\n",
        "    epoch_acc = 0\n",
        "    epoch_all_acc = torch.FloatTensor([0,0,0])\n",
        "    model.eval()\n",
        "    \n",
        "    with torch.no_grad():\n",
        "    \n",
        "        for batch in iterator:\n",
        "\n",
        "            predictions = model(batch.text).squeeze(1)\n",
        "            \n",
        "            loss = criterion(predictions, batch.label)\n",
        "            \n",
        "            acc,all_acc = categorical_accuracy(predictions, batch.label)\n",
        "            epoch_loss += loss.item()\n",
        "            epoch_acc += acc.item()\n",
        "            epoch_all_acc += all_acc\n",
        "        \n",
        "    return epoch_loss / len(iterator), epoch_acc / len(iterator),epoch_all_acc/len(iterator)\n",
        "\n",
        "\n",
        "# In[110]:\n",
        "\n",
        "\n",
        "import time\n",
        "\n",
        "def epoch_time(start_time, end_time):\n",
        "    elapsed_time = end_time - start_time\n",
        "    elapsed_mins = int(elapsed_time / 60)\n",
        "    elapsed_secs = int(elapsed_time - (elapsed_mins * 60))\n",
        "    return elapsed_mins, elapsed_secs\n"
      ],
      "execution_count": 0,
      "outputs": []
    },
    {
      "cell_type": "code",
      "metadata": {
        "id": "jt2EwZE_IB57",
        "colab_type": "code",
        "outputId": "f69bb421-a18a-4695-d7cb-11d2c427e1cd",
        "colab": {
          "base_uri": "https://localhost:8080/",
          "height": 1000
        }
      },
      "source": [
        "N_EPOCHS = 50\n",
        "\n",
        "best_valid_loss = float('inf')\n",
        "\n",
        "for epoch in range(N_EPOCHS):\n",
        "\n",
        "    start_time = time.time()\n",
        "    \n",
        "    train_loss, train_acc = train(model, train_iterator, optimizer, criterion)\n",
        "    valid_loss, valid_acc,tot = evaluate(model, valid_iterator, criterion)\n",
        "    \n",
        "    end_time = time.time()\n",
        "\n",
        "    epoch_mins, epoch_secs = epoch_time(start_time, end_time)\n",
        "    \n",
        "    if valid_loss < best_valid_loss:\n",
        "        best_valid_loss = valid_loss\n",
        "        torch.save(model.state_dict(), model_save_name)\n",
        "        path = data_path+F\"{model_save_name}\"\n",
        "        torch.save(model.state_dict(), path)\n",
        "    \n",
        "    print(f'Epoch: {epoch+1:02} | Epoch Time: {epoch_mins}m {epoch_secs}s')\n",
        "    print(f'\\tTrain Loss: {train_loss:.3f} | Train Acc: {train_acc*100:.2f}%')\n",
        "    print(f'\\t Val. Loss: {valid_loss:.3f} |  Val. Acc: {valid_acc*100:.2f}%')\n",
        "    print(tot)\n"
      ],
      "execution_count": 37,
      "outputs": [
        {
          "output_type": "stream",
          "text": [
            "Epoch: 01 | Epoch Time: 1m 33s\n",
            "\tTrain Loss: 1.015 | Train Acc: 46.80%\n",
            "\t Val. Loss: 0.953 |  Val. Acc: 52.64%\n",
            "tensor([0.3938, 0.6954, 0.4664])\n",
            "Epoch: 02 | Epoch Time: 1m 32s\n",
            "\tTrain Loss: 0.935 | Train Acc: 53.76%\n",
            "\t Val. Loss: 0.908 |  Val. Acc: 56.53%\n",
            "tensor([0.4299, 0.6043, 0.6590])\n",
            "Epoch: 03 | Epoch Time: 1m 32s\n",
            "\tTrain Loss: 0.893 | Train Acc: 56.55%\n",
            "\t Val. Loss: 0.910 |  Val. Acc: 55.89%\n",
            "tensor([0.3271, 0.7552, 0.5931])\n",
            "Epoch: 04 | Epoch Time: 1m 32s\n",
            "\tTrain Loss: 0.877 | Train Acc: 58.17%\n",
            "\t Val. Loss: 0.897 |  Val. Acc: 56.90%\n",
            "tensor([0.4663, 0.5268, 0.7204])\n",
            "Epoch: 05 | Epoch Time: 1m 34s\n",
            "\tTrain Loss: 0.859 | Train Acc: 59.61%\n",
            "\t Val. Loss: 0.884 |  Val. Acc: 57.59%\n",
            "tensor([0.4428, 0.5788, 0.7019])\n",
            "Epoch: 06 | Epoch Time: 1m 33s\n",
            "\tTrain Loss: 0.843 | Train Acc: 61.02%\n",
            "\t Val. Loss: 0.870 |  Val. Acc: 58.17%\n",
            "tensor([0.4934, 0.6042, 0.6252])\n",
            "Epoch: 07 | Epoch Time: 1m 33s\n",
            "\tTrain Loss: 0.812 | Train Acc: 62.50%\n",
            "\t Val. Loss: 0.879 |  Val. Acc: 57.73%\n",
            "tensor([0.3686, 0.6795, 0.6985])\n",
            "Epoch: 08 | Epoch Time: 1m 28s\n",
            "\tTrain Loss: 0.800 | Train Acc: 63.48%\n",
            "\t Val. Loss: 0.869 |  Val. Acc: 58.60%\n",
            "tensor([0.5906, 0.5523, 0.5747])\n",
            "Epoch: 09 | Epoch Time: 1m 33s\n",
            "\tTrain Loss: 0.788 | Train Acc: 64.48%\n",
            "\t Val. Loss: 0.877 |  Val. Acc: 58.50%\n",
            "tensor([0.5170, 0.5418, 0.6900])\n",
            "Epoch: 10 | Epoch Time: 1m 31s\n",
            "\tTrain Loss: 0.769 | Train Acc: 65.94%\n",
            "\t Val. Loss: 0.929 |  Val. Acc: 56.86%\n",
            "tensor([0.3786, 0.5617, 0.7920])\n",
            "Epoch: 11 | Epoch Time: 1m 33s\n",
            "\tTrain Loss: 0.754 | Train Acc: 66.38%\n",
            "\t Val. Loss: 0.872 |  Val. Acc: 60.05%\n",
            "tensor([0.5728, 0.5847, 0.6069])\n",
            "Epoch: 12 | Epoch Time: 1m 32s\n",
            "\tTrain Loss: 0.737 | Train Acc: 67.44%\n",
            "\t Val. Loss: 0.874 |  Val. Acc: 59.39%\n",
            "tensor([0.5388, 0.6022, 0.6084])\n",
            "Epoch: 13 | Epoch Time: 1m 32s\n",
            "\tTrain Loss: 0.712 | Train Acc: 69.13%\n",
            "\t Val. Loss: 0.883 |  Val. Acc: 59.81%\n",
            "tensor([0.5533, 0.5993, 0.6004])\n",
            "Epoch: 14 | Epoch Time: 1m 33s\n",
            "\tTrain Loss: 0.697 | Train Acc: 69.61%\n",
            "\t Val. Loss: 0.899 |  Val. Acc: 60.38%\n",
            "tensor([0.5012, 0.6955, 0.5784])\n",
            "Epoch: 15 | Epoch Time: 1m 33s\n",
            "\tTrain Loss: 0.672 | Train Acc: 71.34%\n",
            "\t Val. Loss: 0.920 |  Val. Acc: 58.66%\n",
            "tensor([0.5706, 0.5495, 0.6060])\n",
            "Epoch: 16 | Epoch Time: 1m 32s\n",
            "\tTrain Loss: 0.659 | Train Acc: 71.29%\n",
            "\t Val. Loss: 0.920 |  Val. Acc: 60.10%\n",
            "tensor([0.5141, 0.6619, 0.5898])\n",
            "Epoch: 17 | Epoch Time: 1m 33s\n",
            "\tTrain Loss: 0.637 | Train Acc: 72.79%\n",
            "\t Val. Loss: 0.950 |  Val. Acc: 59.34%\n",
            "tensor([0.6092, 0.6354, 0.4881])\n",
            "Epoch: 18 | Epoch Time: 1m 34s\n",
            "\tTrain Loss: 0.609 | Train Acc: 74.71%\n",
            "\t Val. Loss: 0.977 |  Val. Acc: 58.63%\n",
            "tensor([0.5302, 0.5885, 0.6063])\n",
            "Epoch: 19 | Epoch Time: 1m 32s\n",
            "\tTrain Loss: 0.603 | Train Acc: 74.68%\n",
            "\t Val. Loss: 0.988 |  Val. Acc: 59.81%\n",
            "tensor([0.5831, 0.6144, 0.5448])\n",
            "Epoch: 20 | Epoch Time: 1m 33s\n",
            "\tTrain Loss: 0.575 | Train Acc: 76.21%\n",
            "\t Val. Loss: 1.021 |  Val. Acc: 58.95%\n",
            "tensor([0.4841, 0.6503, 0.6035])\n",
            "Epoch: 21 | Epoch Time: 1m 33s\n",
            "\tTrain Loss: 0.556 | Train Acc: 77.22%\n",
            "\t Val. Loss: 1.029 |  Val. Acc: 59.39%\n",
            "tensor([0.5511, 0.6363, 0.5496])\n",
            "Epoch: 22 | Epoch Time: 1m 33s\n",
            "\tTrain Loss: 0.540 | Train Acc: 77.94%\n",
            "\t Val. Loss: 1.033 |  Val. Acc: 59.42%\n",
            "tensor([0.4905, 0.6808, 0.5853])\n",
            "Epoch: 23 | Epoch Time: 1m 33s\n",
            "\tTrain Loss: 0.522 | Train Acc: 78.95%\n",
            "\t Val. Loss: 1.074 |  Val. Acc: 58.42%\n",
            "tensor([0.5298, 0.6775, 0.4919])\n",
            "Epoch: 24 | Epoch Time: 1m 32s\n",
            "\tTrain Loss: 0.495 | Train Acc: 80.38%\n",
            "\t Val. Loss: 1.073 |  Val. Acc: 58.59%\n",
            "tensor([0.6070, 0.5947, 0.5020])\n",
            "Epoch: 25 | Epoch Time: 1m 32s\n",
            "\tTrain Loss: 0.483 | Train Acc: 80.39%\n",
            "\t Val. Loss: 1.126 |  Val. Acc: 58.01%\n",
            "tensor([0.5311, 0.5545, 0.6294])\n",
            "Epoch: 26 | Epoch Time: 1m 32s\n",
            "\tTrain Loss: 0.473 | Train Acc: 81.19%\n",
            "\t Val. Loss: 1.148 |  Val. Acc: 58.69%\n",
            "tensor([0.5886, 0.6004, 0.5154])\n",
            "Epoch: 27 | Epoch Time: 1m 33s\n",
            "\tTrain Loss: 0.458 | Train Acc: 81.45%\n",
            "\t Val. Loss: 1.146 |  Val. Acc: 58.11%\n",
            "tensor([0.4443, 0.6680, 0.6076])\n",
            "Epoch: 28 | Epoch Time: 1m 32s\n",
            "\tTrain Loss: 0.432 | Train Acc: 82.64%\n",
            "\t Val. Loss: 1.183 |  Val. Acc: 57.69%\n",
            "tensor([0.5544, 0.5879, 0.5554])\n",
            "Epoch: 29 | Epoch Time: 1m 32s\n",
            "\tTrain Loss: 0.431 | Train Acc: 82.65%\n",
            "\t Val. Loss: 1.181 |  Val. Acc: 58.50%\n",
            "tensor([0.6174, 0.5948, 0.4786])\n",
            "Epoch: 30 | Epoch Time: 1m 28s\n",
            "\tTrain Loss: 0.415 | Train Acc: 83.79%\n",
            "\t Val. Loss: 1.203 |  Val. Acc: 57.24%\n",
            "tensor([0.4567, 0.6637, 0.5644])\n",
            "Epoch: 31 | Epoch Time: 1m 33s\n",
            "\tTrain Loss: 0.400 | Train Acc: 84.08%\n",
            "\t Val. Loss: 1.213 |  Val. Acc: 57.30%\n",
            "tensor([0.4705, 0.6342, 0.5842])\n",
            "Epoch: 32 | Epoch Time: 1m 33s\n",
            "\tTrain Loss: 0.397 | Train Acc: 84.37%\n",
            "\t Val. Loss: 1.222 |  Val. Acc: 57.66%\n",
            "tensor([0.5194, 0.5964, 0.5793])\n",
            "Epoch: 33 | Epoch Time: 1m 32s\n",
            "\tTrain Loss: 0.396 | Train Acc: 84.40%\n",
            "\t Val. Loss: 1.236 |  Val. Acc: 57.43%\n",
            "tensor([0.5122, 0.5856, 0.6004])\n",
            "Epoch: 34 | Epoch Time: 1m 34s\n",
            "\tTrain Loss: 0.360 | Train Acc: 85.98%\n",
            "\t Val. Loss: 1.304 |  Val. Acc: 57.55%\n",
            "tensor([0.5159, 0.5926, 0.5920])\n",
            "Epoch: 35 | Epoch Time: 1m 32s\n",
            "\tTrain Loss: 0.353 | Train Acc: 86.29%\n",
            "\t Val. Loss: 1.279 |  Val. Acc: 57.86%\n",
            "tensor([0.5143, 0.6362, 0.5507])\n",
            "Epoch: 36 | Epoch Time: 1m 32s\n",
            "\tTrain Loss: 0.352 | Train Acc: 86.26%\n",
            "\t Val. Loss: 1.348 |  Val. Acc: 57.67%\n",
            "tensor([0.6295, 0.5428, 0.4844])\n",
            "Epoch: 37 | Epoch Time: 1m 33s\n",
            "\tTrain Loss: 0.354 | Train Acc: 86.41%\n",
            "\t Val. Loss: 1.281 |  Val. Acc: 57.32%\n",
            "tensor([0.5400, 0.6181, 0.5191])\n",
            "Epoch: 38 | Epoch Time: 1m 32s\n",
            "\tTrain Loss: 0.330 | Train Acc: 87.09%\n",
            "\t Val. Loss: 1.343 |  Val. Acc: 56.91%\n",
            "tensor([0.5581, 0.5713, 0.5290])\n",
            "Epoch: 39 | Epoch Time: 1m 34s\n",
            "\tTrain Loss: 0.332 | Train Acc: 86.94%\n",
            "\t Val. Loss: 1.308 |  Val. Acc: 57.66%\n",
            "tensor([0.4989, 0.6047, 0.5851])\n",
            "Epoch: 40 | Epoch Time: 1m 33s\n",
            "\tTrain Loss: 0.320 | Train Acc: 87.57%\n",
            "\t Val. Loss: 1.350 |  Val. Acc: 57.22%\n",
            "tensor([0.5263, 0.6460, 0.5043])\n",
            "Epoch: 41 | Epoch Time: 1m 33s\n",
            "\tTrain Loss: 0.294 | Train Acc: 88.73%\n",
            "\t Val. Loss: 1.362 |  Val. Acc: 57.80%\n",
            "tensor([0.5459, 0.5769, 0.5645])\n",
            "Epoch: 42 | Epoch Time: 1m 32s\n",
            "\tTrain Loss: 0.301 | Train Acc: 88.68%\n",
            "\t Val. Loss: 1.386 |  Val. Acc: 57.46%\n",
            "tensor([0.5536, 0.5735, 0.5548])\n",
            "Epoch: 43 | Epoch Time: 1m 33s\n",
            "\tTrain Loss: 0.290 | Train Acc: 88.85%\n",
            "\t Val. Loss: 1.388 |  Val. Acc: 57.88%\n",
            "tensor([0.5559, 0.5539, 0.5800])\n",
            "Epoch: 44 | Epoch Time: 1m 32s\n",
            "\tTrain Loss: 0.295 | Train Acc: 88.76%\n",
            "\t Val. Loss: 1.403 |  Val. Acc: 57.83%\n",
            "tensor([0.5579, 0.5998, 0.5256])\n",
            "Epoch: 45 | Epoch Time: 1m 33s\n",
            "\tTrain Loss: 0.284 | Train Acc: 89.36%\n",
            "\t Val. Loss: 1.419 |  Val. Acc: 57.91%\n",
            "tensor([0.5312, 0.6322, 0.5215])\n",
            "Epoch: 46 | Epoch Time: 1m 32s\n",
            "\tTrain Loss: 0.270 | Train Acc: 89.84%\n",
            "\t Val. Loss: 1.468 |  Val. Acc: 57.71%\n",
            "tensor([0.5778, 0.5285, 0.5881])\n",
            "Epoch: 47 | Epoch Time: 1m 32s\n",
            "\tTrain Loss: 0.261 | Train Acc: 90.34%\n",
            "\t Val. Loss: 1.450 |  Val. Acc: 57.71%\n",
            "tensor([0.5471, 0.6436, 0.4847])\n",
            "Epoch: 48 | Epoch Time: 1m 32s\n",
            "\tTrain Loss: 0.266 | Train Acc: 89.87%\n",
            "\t Val. Loss: 1.436 |  Val. Acc: 57.46%\n",
            "tensor([0.4824, 0.6338, 0.5733])\n",
            "Epoch: 49 | Epoch Time: 1m 32s\n",
            "\tTrain Loss: 0.249 | Train Acc: 90.58%\n",
            "\t Val. Loss: 1.478 |  Val. Acc: 57.32%\n",
            "tensor([0.5464, 0.6519, 0.4640])\n",
            "Epoch: 50 | Epoch Time: 1m 33s\n",
            "\tTrain Loss: 0.256 | Train Acc: 90.14%\n",
            "\t Val. Loss: 1.498 |  Val. Acc: 57.49%\n",
            "tensor([0.5383, 0.6271, 0.5064])\n"
          ],
          "name": "stdout"
        }
      ]
    },
    {
      "cell_type": "code",
      "metadata": {
        "id": "NWLxw5OIp2HB",
        "colab_type": "code",
        "colab": {}
      },
      "source": [
        "path = data_path+F\"{model_save_name}\"\n",
        "model.load_state_dict(torch.load(path))"
      ],
      "execution_count": 0,
      "outputs": []
    },
    {
      "cell_type": "code",
      "metadata": {
        "id": "ZEmZVcLs4Cws",
        "colab_type": "code",
        "colab": {}
      },
      "source": [
        "\n",
        "def test_evaluate(model, iterator, criterion):\n",
        "    \n",
        "    epoch_loss = 0\n",
        "    epoch_acc = 0\n",
        "    epoch_all_acc = torch.FloatTensor([0,0,0])\n",
        "    print(epoch_all_acc)\n",
        "    model.eval()\n",
        "    \n",
        "    with torch.no_grad():\n",
        "    \n",
        "        for batch in iterator:\n",
        "\n",
        "            predictions = model(batch.text).squeeze(1)\n",
        "            \n",
        "            loss = criterion(predictions, batch.label)\n",
        "            \n",
        "            acc,all_acc = test_categorical_accuracy(predictions, batch.label)\n",
        "            print(all_acc)\n",
        "            epoch_loss += loss.item()\n",
        "            epoch_acc += acc.item()\n",
        "            epoch_all_acc += all_acc\n",
        "        \n",
        "    return epoch_loss / len(iterator), epoch_acc / len(iterator),epoch_all_acc/len(iterator)\n",
        "\n",
        "def test_categorical_accuracy(preds, y):\n",
        "    \"\"\"\n",
        "    Returns accuracy per batch, i.e. if you get 8/10 right, this returns 0.8, NOT 8\n",
        "    \"\"\"\n",
        "    count0,count1,count2 = torch.zeros(1),torch.zeros(1),torch.zeros(1)\n",
        "    total0,total1,total2 = torch.FloatTensor(1),torch.FloatTensor(1),torch.FloatTensor(1)\n",
        "    max_preds = preds.argmax(dim = 1, keepdim = True) # get the index of the max probability\n",
        "    correct = max_preds.squeeze(1).eq(y)\n",
        "    true_correct = [0,0,0]\n",
        "    for j,i in enumerate(y.cpu().numpy()):\n",
        "      true_correct[y.cpu().numpy()[j]]+=1\n",
        "      if i==0:\n",
        "        count0+=correct[j]\n",
        "        total0+=1\n",
        "      elif i==1:\n",
        "        count1+=correct[j]\n",
        "        total1+=1\n",
        "      elif i==2:\n",
        "        count2+=correct[j]\n",
        "      else:\n",
        "        print(i,i==0,i==1,i==2)\n",
        "        total2+=1\n",
        "    # print(count0,count1,count2,total0,total1,total2)\n",
        "    # print([count0/total0,count1/total1,count2/total2])\n",
        "    # print(torch.FloatTensor([count0/total0,count1/total1,count2/total2]))\n",
        "    # print(correct.sum() / torch.FloatTensor([y.shape[0]]))\n",
        "    # print(torch.FloatTensor([count0/total0,count1/total1,count2/total2]))\n",
        "    print(count0,count1,count2)\n",
        "    return correct.sum() / torch.FloatTensor([y.shape[0]]),torch.FloatTensor([count0/true_correct[0],count1/true_correct[1],count2/true_correct[2]])\n",
        "\n"
      ],
      "execution_count": 0,
      "outputs": []
    },
    {
      "cell_type": "code",
      "metadata": {
        "id": "IixrBAcbJeLJ",
        "colab_type": "code",
        "colab": {}
      },
      "source": [
        "# model.load_state_dict(torch.load('tut6-model.pt'))\n",
        "\n",
        "test_loss, test_acc,test_all_acc = evaluate(model, test_iterator, criterion)\n",
        "\n",
        "print(f'Test Loss: {test_loss:.3f} | Test Acc: {test_acc*100:.2f}%',test_all_acc)\n",
        "\n",
        "\n",
        "# ## Inference\n",
        "# \n",
        "# We'll then use the model to test the sentiment of some sequences. We tokenize the input sequence, trim it down to the maximum length, add the special tokens to either side, convert it to a tensor, add a fake batch dimension and then pass it through our model.\n",
        "\n",
        "# In[ ]:\n",
        "\n",
        "\n",
        "\n",
        "\n",
        "\n"
      ],
      "execution_count": 0,
      "outputs": []
    },
    {
      "cell_type": "code",
      "metadata": {
        "id": "829lomjFB4BT",
        "colab_type": "code",
        "colab": {}
      },
      "source": [
        "print(len(test_iterator))\n",
        "24*128"
      ],
      "execution_count": 0,
      "outputs": []
    },
    {
      "cell_type": "code",
      "metadata": {
        "id": "sT0Z_nLsPFe_",
        "colab_type": "code",
        "colab": {}
      },
      "source": [
        "print(len(test_data))"
      ],
      "execution_count": 0,
      "outputs": []
    },
    {
      "cell_type": "code",
      "metadata": {
        "id": "PoVYRr_a9qER",
        "colab_type": "code",
        "colab": {}
      },
      "source": [
        "# {'1': 0, '2': 1, '0': 2})\n",
        "m = {0:'neutral',1:'positive',2:'negative'}\n",
        "file = open('answer.txt','w')\n",
        "file.write('Uid,Sentiment\\n')\n",
        "count = 0\n",
        "for batch in test_iterator:\n",
        "  predictions = model(batch.text).squeeze(1)\n",
        "  max_preds = predictions.argmax(dim = 1, keepdim = True).detach().cpu().numpy()\n",
        "  # print(batch.uid)\n",
        "  # print(max_preds)\n",
        "  for i,row in enumerate(batch.uid.cpu().numpy()):\n",
        "    count += 1\n",
        "    print(count)\n",
        "    if count != len(test_data):\n",
        "      file.write('%s,%s\\n'%(row,m[max_preds[i][0]]))\n",
        "    else:\n",
        "      file.write('%s,%s'%(row,m[max_preds[i][0]]))\n",
        "    # if count != len(test_data):\n",
        "    #   file.write('%s,%s,%s,%s\\n'%(row,\" \".join(tokenizer.convert_)m[max_preds[i][0]]))\n",
        "    # else:\n",
        "    #   file.write('%s,%s'%(row,m[max_preds[i][0]]))\n",
        "print(count)\n",
        "file.close()"
      ],
      "execution_count": 0,
      "outputs": []
    },
    {
      "cell_type": "code",
      "metadata": {
        "id": "u54ubbMCoJlq",
        "colab_type": "code",
        "colab": {}
      },
      "source": [
        "len(l)\n",
        "l\n"
      ],
      "execution_count": 0,
      "outputs": []
    },
    {
      "cell_type": "code",
      "metadata": {
        "id": "laEi-ffUoSJ1",
        "colab_type": "code",
        "colab": {}
      },
      "source": [
        "f = open('')\n",
        "for i in l:\n"
      ],
      "execution_count": 0,
      "outputs": []
    },
    {
      "cell_type": "code",
      "metadata": {
        "id": "ONmKOMZmJtfk",
        "colab_type": "code",
        "colab": {}
      },
      "source": [
        "def predict_sentiment(model, tokenizer, sentence):\n",
        "    model.eval()\n",
        "    tokens = tokenizer.tokenize(sentence)\n",
        "    tokens = tokens[:max_input_length-2]\n",
        "    indexed = [init_token_idx] + tokenizer.convert_tokens_to_ids(tokens) + [eos_token_idx]\n",
        "    tensor = torch.LongTensor(indexed).to(device)\n",
        "    tensor = tensor.unsqueeze(0)\n",
        "    prediction = torch.sigmoid(model(tensor))\n",
        "    # ind = np.argmax(np.array(prediction))\n",
        "    # if ind ==0:\n",
        "    #   print('neutral')\n",
        "    # elif ind == 1:\n",
        "    #   print(\"positive\")\n",
        "    # else:\n",
        "    #   print(\"negative\")\n",
        "    print(prediction)\n",
        "predict_sentiment(model, tokenizer, \"This film is terrible\")\n",
        "\n",
        "\n",
        "# In[ ]:\n",
        "\n",
        "\n",
        "predict_sentiment(model, tokenizer, \"This film is great\")"
      ],
      "execution_count": 0,
      "outputs": []
    },
    {
      "cell_type": "code",
      "metadata": {
        "id": "SO-V3S1HV2Oi",
        "colab_type": "code",
        "colab": {}
      },
      "source": [
        "while True:\n",
        "  sent = input('->')\n",
        "  if sent != '$':\n",
        "    predict_sentiment(model, tokenizer, sent)\n",
        "  else:\n",
        "    break\n"
      ],
      "execution_count": 0,
      "outputs": []
    }
  ]
}